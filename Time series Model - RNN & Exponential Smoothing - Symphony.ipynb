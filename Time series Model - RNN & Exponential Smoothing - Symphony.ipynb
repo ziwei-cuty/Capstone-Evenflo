{
 "cells": [
  {
   "cell_type": "markdown",
   "metadata": {},
   "source": [
    "# 5900 Capstone Time Series Model - Exponential Smoothing Model - SYMPHONY"
   ]
  },
  {
   "cell_type": "markdown",
   "metadata": {},
   "source": [
    "### Step 1: load packages"
   ]
  },
  {
   "cell_type": "code",
   "execution_count": 3,
   "metadata": {},
   "outputs": [],
   "source": [
    "# load packages\n",
    "library(ggplot2);library(ggthemes);library(gridExtra);library(dygraphs) # For plots \n",
    "library(quantmod);library(xts);library(zoo) # For converting data into xts class objects\n",
    "library(fpp); library(fpp2) # Datasets from Forecasting text by Rob Hyndman\n",
    "library(tseries) # for a statistical test\n",
    "library(dplyr) # Data wrangling\n",
    "library(caret) # Model Training\n",
    "library(lubridate)"
   ]
  },
  {
   "cell_type": "code",
   "execution_count": 4,
   "metadata": {},
   "outputs": [],
   "source": [
    "# Forecasting Tools\n",
    "library(forecast) # Set of forecasting functions, including auto.arima"
   ]
  },
  {
   "cell_type": "code",
   "execution_count": 5,
   "metadata": {},
   "outputs": [],
   "source": [
    "# Model Evaluation\n",
    "# using the accuracy function in forecast package to provide model evaluation metrics, including ME, RMSE etc"
   ]
  },
  {
   "cell_type": "markdown",
   "metadata": {},
   "source": [
    "### Step 2: read dataset"
   ]
  },
  {
   "cell_type": "code",
   "execution_count": 6,
   "metadata": {},
   "outputs": [
    {
     "data": {
      "text/html": [
       "<table>\n",
       "<thead><tr><th scope=col>Company</th><th scope=col>Transaction.Date</th><th scope=col>Week.End.Date</th><th scope=col>Item</th><th scope=col>Item.Description</th><th scope=col>Category_Family</th><th scope=col>Category_Code</th><th scope=col>Sub_Category_Family</th><th scope=col>BRAND</th><th scope=col>Customer</th><th scope=col>...</th><th scope=col>Short.Close.Amount</th><th scope=col>Open.Qty</th><th scope=col>Open.Amount</th><th scope=col>Invoice.Qty</th><th scope=col>Invoice.Net.Amount</th><th scope=col>Invoice.Gross.Amount</th><th scope=col>POS.Qty</th><th scope=col>POS.Amount</th><th scope=col>Transaction.month</th><th scope=col>unit_price</th></tr></thead>\n",
       "<tbody>\n",
       "\t<tr><td>100                           </td><td>2019-01-01                    </td><td>2019-01-05                    </td><td>55411811                      </td><td>VIVE ELITE TS EMBRACE LINUS   </td><td>Wheeled Goods                 </td><td>Travel Systems                </td><td>Vive with Embrace             </td><td>Evenflo                       </td><td>A731D                         </td><td>...                           </td><td>0                             </td><td>0                             </td><td>0                             </td><td>0                             </td><td>0                             </td><td>0                             </td><td>0                             </td><td>0                             </td><td>1                             </td><td> 89.25                        </td></tr>\n",
       "\t<tr><td>100                           </td><td>2019-01-01                    </td><td>2019-01-05                    </td><td>37112075                      </td><td>SURERIDE SPORT HARPER         </td><td>Car Seats                     </td><td>Convertible                   </td><td>SureRide/Titan 65             </td><td>Evenflo                       </td><td>A731D                         </td><td>...                           </td><td>0                             </td><td>0                             </td><td>0                             </td><td>0                             </td><td>0                             </td><td>0                             </td><td>0                             </td><td>0                             </td><td>1                             </td><td> 72.00                        </td></tr>\n",
       "\t<tr><td>100                           </td><td>2019-01-01                    </td><td>2019-01-05                    </td><td>34912204                      </td><td>MAESTRO SPORT WHITNEY         </td><td>Car Seats                     </td><td>Booster                       </td><td>Maestro Sport                 </td><td>Evenflo                       </td><td>A731D                         </td><td>...                           </td><td>0                             </td><td>0                             </td><td>0                             </td><td>0                             </td><td>0                             </td><td>0                             </td><td>0                             </td><td>0                             </td><td>1                             </td><td> 61.69                        </td></tr>\n",
       "\t<tr><td>100                           </td><td>2019-01-01                    </td><td>2019-01-05                    </td><td>34812023                      </td><td>SONUS65 ROCCO RED             </td><td>Car Seats                     </td><td>Convertible                   </td><td>Sonus                         </td><td>Evenflo                       </td><td>A731D                         </td><td>...                           </td><td>0                             </td><td>0                             </td><td>0                             </td><td>0                             </td><td>0                             </td><td>0                             </td><td>0                             </td><td>0                             </td><td>1                             </td><td> 68.25                        </td></tr>\n",
       "\t<tr><td>100                           </td><td>2019-01-01                    </td><td>2019-01-05                    </td><td>13812254                      </td><td>PIVOT XPAND STROLLER PERCHERON</td><td>Wheeled Goods                 </td><td>Strollers                     </td><td>Xpand                         </td><td>Evenflo                       </td><td>A731D                         </td><td>...                           </td><td>0                             </td><td>0                             </td><td>0                             </td><td>0                             </td><td>0                             </td><td>0                             </td><td>0                             </td><td>0                             </td><td>1                             </td><td>181.99                        </td></tr>\n",
       "\t<tr><td>100                           </td><td>2019-01-01                    </td><td>2019-01-05                    </td><td>39212241                      </td><td>EVERYSTAGE DLX CANYONS        </td><td>Car Seats                     </td><td>Convertible                   </td><td>Everystage                    </td><td>Evenflo                       </td><td>A731D                         </td><td>...                           </td><td>0                             </td><td>0                             </td><td>0                             </td><td>0                             </td><td>0                             </td><td>0                             </td><td>0                             </td><td>0                             </td><td>1                             </td><td>154.79                        </td></tr>\n",
       "</tbody>\n",
       "</table>\n"
      ],
      "text/latex": [
       "\\begin{tabular}{r|llllllllllllllllllllllllllll}\n",
       " Company & Transaction.Date & Week.End.Date & Item & Item.Description & Category\\_Family & Category\\_Code & Sub\\_Category\\_Family & BRAND & Customer & ... & Short.Close.Amount & Open.Qty & Open.Amount & Invoice.Qty & Invoice.Net.Amount & Invoice.Gross.Amount & POS.Qty & POS.Amount & Transaction.month & unit\\_price\\\\\n",
       "\\hline\n",
       "\t 100                            & 2019-01-01                     & 2019-01-05                     & 55411811                       & VIVE ELITE TS EMBRACE LINUS    & Wheeled Goods                  & Travel Systems                 & Vive with Embrace              & Evenflo                        & A731D                          & ...                            & 0                              & 0                              & 0                              & 0                              & 0                              & 0                              & 0                              & 0                              & 1                              &  89.25                        \\\\\n",
       "\t 100                            & 2019-01-01                     & 2019-01-05                     & 37112075                       & SURERIDE SPORT HARPER          & Car Seats                      & Convertible                    & SureRide/Titan 65              & Evenflo                        & A731D                          & ...                            & 0                              & 0                              & 0                              & 0                              & 0                              & 0                              & 0                              & 0                              & 1                              &  72.00                        \\\\\n",
       "\t 100                            & 2019-01-01                     & 2019-01-05                     & 34912204                       & MAESTRO SPORT WHITNEY          & Car Seats                      & Booster                        & Maestro Sport                  & Evenflo                        & A731D                          & ...                            & 0                              & 0                              & 0                              & 0                              & 0                              & 0                              & 0                              & 0                              & 1                              &  61.69                        \\\\\n",
       "\t 100                            & 2019-01-01                     & 2019-01-05                     & 34812023                       & SONUS65 ROCCO RED              & Car Seats                      & Convertible                    & Sonus                          & Evenflo                        & A731D                          & ...                            & 0                              & 0                              & 0                              & 0                              & 0                              & 0                              & 0                              & 0                              & 1                              &  68.25                        \\\\\n",
       "\t 100                            & 2019-01-01                     & 2019-01-05                     & 13812254                       & PIVOT XPAND STROLLER PERCHERON & Wheeled Goods                  & Strollers                      & Xpand                          & Evenflo                        & A731D                          & ...                            & 0                              & 0                              & 0                              & 0                              & 0                              & 0                              & 0                              & 0                              & 1                              & 181.99                        \\\\\n",
       "\t 100                            & 2019-01-01                     & 2019-01-05                     & 39212241                       & EVERYSTAGE DLX CANYONS         & Car Seats                      & Convertible                    & Everystage                     & Evenflo                        & A731D                          & ...                            & 0                              & 0                              & 0                              & 0                              & 0                              & 0                              & 0                              & 0                              & 1                              & 154.79                        \\\\\n",
       "\\end{tabular}\n"
      ],
      "text/markdown": [
       "\n",
       "| Company | Transaction.Date | Week.End.Date | Item | Item.Description | Category_Family | Category_Code | Sub_Category_Family | BRAND | Customer | ... | Short.Close.Amount | Open.Qty | Open.Amount | Invoice.Qty | Invoice.Net.Amount | Invoice.Gross.Amount | POS.Qty | POS.Amount | Transaction.month | unit_price |\n",
       "|---|---|---|---|---|---|---|---|---|---|---|---|---|---|---|---|---|---|---|---|---|\n",
       "| 100                            | 2019-01-01                     | 2019-01-05                     | 55411811                       | VIVE ELITE TS EMBRACE LINUS    | Wheeled Goods                  | Travel Systems                 | Vive with Embrace              | Evenflo                        | A731D                          | ...                            | 0                              | 0                              | 0                              | 0                              | 0                              | 0                              | 0                              | 0                              | 1                              |  89.25                         |\n",
       "| 100                            | 2019-01-01                     | 2019-01-05                     | 37112075                       | SURERIDE SPORT HARPER          | Car Seats                      | Convertible                    | SureRide/Titan 65              | Evenflo                        | A731D                          | ...                            | 0                              | 0                              | 0                              | 0                              | 0                              | 0                              | 0                              | 0                              | 1                              |  72.00                         |\n",
       "| 100                            | 2019-01-01                     | 2019-01-05                     | 34912204                       | MAESTRO SPORT WHITNEY          | Car Seats                      | Booster                        | Maestro Sport                  | Evenflo                        | A731D                          | ...                            | 0                              | 0                              | 0                              | 0                              | 0                              | 0                              | 0                              | 0                              | 1                              |  61.69                         |\n",
       "| 100                            | 2019-01-01                     | 2019-01-05                     | 34812023                       | SONUS65 ROCCO RED              | Car Seats                      | Convertible                    | Sonus                          | Evenflo                        | A731D                          | ...                            | 0                              | 0                              | 0                              | 0                              | 0                              | 0                              | 0                              | 0                              | 1                              |  68.25                         |\n",
       "| 100                            | 2019-01-01                     | 2019-01-05                     | 13812254                       | PIVOT XPAND STROLLER PERCHERON | Wheeled Goods                  | Strollers                      | Xpand                          | Evenflo                        | A731D                          | ...                            | 0                              | 0                              | 0                              | 0                              | 0                              | 0                              | 0                              | 0                              | 1                              | 181.99                         |\n",
       "| 100                            | 2019-01-01                     | 2019-01-05                     | 39212241                       | EVERYSTAGE DLX CANYONS         | Car Seats                      | Convertible                    | Everystage                     | Evenflo                        | A731D                          | ...                            | 0                              | 0                              | 0                              | 0                              | 0                              | 0                              | 0                              | 0                              | 1                              | 154.79                         |\n",
       "\n"
      ],
      "text/plain": [
       "  Company Transaction.Date Week.End.Date Item    \n",
       "1 100     2019-01-01       2019-01-05    55411811\n",
       "2 100     2019-01-01       2019-01-05    37112075\n",
       "3 100     2019-01-01       2019-01-05    34912204\n",
       "4 100     2019-01-01       2019-01-05    34812023\n",
       "5 100     2019-01-01       2019-01-05    13812254\n",
       "6 100     2019-01-01       2019-01-05    39212241\n",
       "  Item.Description               Category_Family               \n",
       "1 VIVE ELITE TS EMBRACE LINUS    Wheeled Goods                 \n",
       "2 SURERIDE SPORT HARPER          Car Seats                     \n",
       "3 MAESTRO SPORT WHITNEY          Car Seats                     \n",
       "4 SONUS65 ROCCO RED              Car Seats                     \n",
       "5 PIVOT XPAND STROLLER PERCHERON Wheeled Goods                 \n",
       "6 EVERYSTAGE DLX CANYONS         Car Seats                     \n",
       "  Category_Code                  Sub_Category_Family           \n",
       "1 Travel Systems                 Vive with Embrace             \n",
       "2 Convertible                    SureRide/Titan 65             \n",
       "3 Booster                        Maestro Sport                 \n",
       "4 Convertible                    Sonus                         \n",
       "5 Strollers                      Xpand                         \n",
       "6 Convertible                    Everystage                    \n",
       "  BRAND                          Customer ... Short.Close.Amount Open.Qty\n",
       "1 Evenflo                        A731D    ... 0                  0       \n",
       "2 Evenflo                        A731D    ... 0                  0       \n",
       "3 Evenflo                        A731D    ... 0                  0       \n",
       "4 Evenflo                        A731D    ... 0                  0       \n",
       "5 Evenflo                        A731D    ... 0                  0       \n",
       "6 Evenflo                        A731D    ... 0                  0       \n",
       "  Open.Amount Invoice.Qty Invoice.Net.Amount Invoice.Gross.Amount POS.Qty\n",
       "1 0           0           0                  0                    0      \n",
       "2 0           0           0                  0                    0      \n",
       "3 0           0           0                  0                    0      \n",
       "4 0           0           0                  0                    0      \n",
       "5 0           0           0                  0                    0      \n",
       "6 0           0           0                  0                    0      \n",
       "  POS.Amount Transaction.month unit_price\n",
       "1 0          1                  89.25    \n",
       "2 0          1                  72.00    \n",
       "3 0          1                  61.69    \n",
       "4 0          1                  68.25    \n",
       "5 0          1                 181.99    \n",
       "6 0          1                 154.79    "
      ]
     },
     "metadata": {},
     "output_type": "display_data"
    }
   ],
   "source": [
    "# 2019 order dataset\n",
    "setwd('/Users/czw/Desktop')\n",
    "order = read.csv(\"order19.csv\") \n",
    "# pre-filtered dataset of items having price over 50\n",
    "# transform the data type for order - 2019\n",
    "order$Order.Qty=as.numeric(order$Order.Qty)\n",
    "order$Order.Amount = as.numeric(order$Order.Amount)\n",
    "order$Transaction.Date=as.Date(order$Transaction.Date, format='%m/%d/%Y')\n",
    "order$Transaction.month=month(as.POSIXlt(order$Transaction.Date, format=\"%m/%d/%Y\"))\n",
    "order$Week.End.Date=as.Date(order$Week.End.Date, format='%m/%d/%Y')\n",
    "order$Sub_Category_Family = as.factor(order$Sub_Category_Family)\n",
    "# add a new column for unit price\n",
    "order$unit_price = order$Order.Amount/order$Order.Qty \n",
    "# filter the dataset that only captures the items with unit price>$50\n",
    "order = order %>%\n",
    "    filter(order$unit_price>50)\n",
    "head(order)"
   ]
  },
  {
   "cell_type": "code",
   "execution_count": 7,
   "metadata": {},
   "outputs": [
    {
     "data": {
      "text/html": [
       "<table>\n",
       "<thead><tr><th scope=col>Company</th><th scope=col>Transaction.Date</th><th scope=col>Week.End.Date..EF.</th><th scope=col>Item</th><th scope=col>Item.Description</th><th scope=col>Category.Family</th><th scope=col>Category</th><th scope=col>Sub.Category</th><th scope=col>Brand</th><th scope=col>Customer.ID</th><th scope=col>...</th><th scope=col>Open.Amount</th><th scope=col>Invoice.Qty</th><th scope=col>Invoice.Gross.Amount..HC.</th><th scope=col>Invoice.Net.Amount..HC.</th><th scope=col>Invoice.Gross.Amount..USD.</th><th scope=col>Invoice.Net.Amount..USD.</th><th scope=col>POS.Qty</th><th scope=col>POS.Amount</th><th scope=col>Transaction.month</th><th scope=col>unit_price</th></tr></thead>\n",
       "<tbody>\n",
       "\t<tr><td>100                           </td><td>2018-01-01                    </td><td>2018-01-06                    </td><td>1050500                       </td><td>TOP OF STAIR EXTRA TALL BOX   </td><td>Gates                         </td><td>Wood Gates                    </td><td>105 Gates                     </td><td>Evenflo                       </td><td>A731                          </td><td>...                           </td><td> $ -                          </td><td>0                             </td><td> $ -                          </td><td>0.00                          </td><td> $ -                          </td><td> $ -                          </td><td>0                             </td><td> $ -                          </td><td>1                             </td><td>138.73333                     </td></tr>\n",
       "\t<tr><td>100                           </td><td>2018-01-01                    </td><td>2018-01-06                    </td><td>30512004                      </td><td>PROSERIES LTMX PORTLAND TWEED </td><td>Car Seats                     </td><td>Infant                        </td><td>Litemax                       </td><td>Evenflo                       </td><td>A731                          </td><td>...                           </td><td> $ -                          </td><td>0                             </td><td> $ -                          </td><td>0.00                          </td><td> $ -                          </td><td> $ -                          </td><td>0                             </td><td> $ -                          </td><td>1                             </td><td>308.66667                     </td></tr>\n",
       "\t<tr><td>100                           </td><td>2018-01-01                    </td><td>2018-01-06                    </td><td>34411927                      </td><td>SAFEMAX 3 IN 1 CRIMSON        </td><td>Car Seats                     </td><td>Booster                       </td><td>Safemax                       </td><td>Evenflo                       </td><td>A731D                         </td><td>...                           </td><td> $ -                          </td><td>0                             </td><td> $ -                          </td><td>0.00                          </td><td> $ -                          </td><td> $ -                          </td><td>0                             </td><td> $ -                          </td><td>1                             </td><td> 60.86667                     </td></tr>\n",
       "\t<tr><td>100                                                      </td><td>2018-01-01                                               </td><td>2018-01-06                                               </td><td>4448100                                                  </td><td>EMBRACE WOOD &amp; METAL GATE .COM                       </td><td><span style=white-space:pre-wrap>Gates    </span>        </td><td><span style=white-space:pre-wrap>Metal Gates     </span> </td><td><span style=white-space:pre-wrap>105 Gates        </span></td><td><span style=white-space:pre-wrap>Evenflo   </span>       </td><td>A731                                                     </td><td>...                                                      </td><td><span style=white-space:pre-wrap> $ -   </span>          </td><td>0                                                        </td><td><span style=white-space:pre-wrap> $ -   </span>          </td><td>0.00                                                     </td><td><span style=white-space:pre-wrap> $ -   </span>          </td><td><span style=white-space:pre-wrap> $ -   </span>          </td><td>0                                                        </td><td><span style=white-space:pre-wrap> $ -   </span>          </td><td>1                                                        </td><td>212.66667                                                </td></tr>\n",
       "\t<tr><td>100                           </td><td>2018-01-01                    </td><td>2018-01-06                    </td><td>4449100                       </td><td>EMBRACE CLEAR PANEL GATE .COM </td><td>Gates                         </td><td>Metal Gates                   </td><td>448 Gates                     </td><td>Evenflo                       </td><td>A731                          </td><td>...                           </td><td> $ -                          </td><td>0                             </td><td> $ -                          </td><td>0.00                          </td><td> $ -                          </td><td> $ -                          </td><td>0                             </td><td> $ -                          </td><td>1                             </td><td>212.66667                     </td></tr>\n",
       "\t<tr><td>100                           </td><td>2018-01-01                    </td><td>2018-01-06                    </td><td>60511372                      </td><td>ZOO FRIENDS EXERSAUCER DLX    </td><td>Activity                      </td><td>Activity Centers              </td><td>Exersaucer Deluxe             </td><td>Exersaucer                    </td><td>A731                          </td><td>...                           </td><td> $ -                          </td><td>0                             </td><td> $ -                          </td><td>0.00                          </td><td> $ -                          </td><td> $ -                          </td><td>0                             </td><td> $ -                          </td><td>1                             </td><td>154.88889                     </td></tr>\n",
       "</tbody>\n",
       "</table>\n"
      ],
      "text/latex": [
       "\\begin{tabular}{r|llllllllllllllllllllllllllllllll}\n",
       " Company & Transaction.Date & Week.End.Date..EF. & Item & Item.Description & Category.Family & Category & Sub.Category & Brand & Customer.ID & ... & Open.Amount & Invoice.Qty & Invoice.Gross.Amount..HC. & Invoice.Net.Amount..HC. & Invoice.Gross.Amount..USD. & Invoice.Net.Amount..USD. & POS.Qty & POS.Amount & Transaction.month & unit\\_price\\\\\n",
       "\\hline\n",
       "\t 100                            & 2018-01-01                     & 2018-01-06                     & 1050500                        & TOP OF STAIR EXTRA TALL BOX    & Gates                          & Wood Gates                     & 105 Gates                      & Evenflo                        & A731                           & ...                            &  \\$ -                         & 0                              &  \\$ -                         & 0.00                           &  \\$ -                         &  \\$ -                         & 0                              &  \\$ -                         & 1                              & 138.73333                     \\\\\n",
       "\t 100                            & 2018-01-01                     & 2018-01-06                     & 30512004                       & PROSERIES LTMX PORTLAND TWEED  & Car Seats                      & Infant                         & Litemax                        & Evenflo                        & A731                           & ...                            &  \\$ -                         & 0                              &  \\$ -                         & 0.00                           &  \\$ -                         &  \\$ -                         & 0                              &  \\$ -                         & 1                              & 308.66667                     \\\\\n",
       "\t 100                            & 2018-01-01                     & 2018-01-06                     & 34411927                       & SAFEMAX 3 IN 1 CRIMSON         & Car Seats                      & Booster                        & Safemax                        & Evenflo                        & A731D                          & ...                            &  \\$ -                         & 0                              &  \\$ -                         & 0.00                           &  \\$ -                         &  \\$ -                         & 0                              &  \\$ -                         & 1                              &  60.86667                     \\\\\n",
       "\t 100                              & 2018-01-01                       & 2018-01-06                       & 4448100                          & EMBRACE WOOD \\& METAL GATE .COM & Gates                            & Metal Gates                      & 105 Gates                        & Evenflo                          & A731                             & ...                              &  \\$ -                           & 0                                &  \\$ -                           & 0.00                             &  \\$ -                           &  \\$ -                           & 0                                &  \\$ -                           & 1                                & 212.66667                       \\\\\n",
       "\t 100                            & 2018-01-01                     & 2018-01-06                     & 4449100                        & EMBRACE CLEAR PANEL GATE .COM  & Gates                          & Metal Gates                    & 448 Gates                      & Evenflo                        & A731                           & ...                            &  \\$ -                         & 0                              &  \\$ -                         & 0.00                           &  \\$ -                         &  \\$ -                         & 0                              &  \\$ -                         & 1                              & 212.66667                     \\\\\n",
       "\t 100                            & 2018-01-01                     & 2018-01-06                     & 60511372                       & ZOO FRIENDS EXERSAUCER DLX     & Activity                       & Activity Centers               & Exersaucer Deluxe              & Exersaucer                     & A731                           & ...                            &  \\$ -                         & 0                              &  \\$ -                         & 0.00                           &  \\$ -                         &  \\$ -                         & 0                              &  \\$ -                         & 1                              & 154.88889                     \\\\\n",
       "\\end{tabular}\n"
      ],
      "text/markdown": [
       "\n",
       "| Company | Transaction.Date | Week.End.Date..EF. | Item | Item.Description | Category.Family | Category | Sub.Category | Brand | Customer.ID | ... | Open.Amount | Invoice.Qty | Invoice.Gross.Amount..HC. | Invoice.Net.Amount..HC. | Invoice.Gross.Amount..USD. | Invoice.Net.Amount..USD. | POS.Qty | POS.Amount | Transaction.month | unit_price |\n",
       "|---|---|---|---|---|---|---|---|---|---|---|---|---|---|---|---|---|---|---|---|---|\n",
       "| 100                            | 2018-01-01                     | 2018-01-06                     | 1050500                        | TOP OF STAIR EXTRA TALL BOX    | Gates                          | Wood Gates                     | 105 Gates                      | Evenflo                        | A731                           | ...                            |  $ -                           | 0                              |  $ -                           | 0.00                           |  $ -                           |  $ -                           | 0                              |  $ -                           | 1                              | 138.73333                      |\n",
       "| 100                            | 2018-01-01                     | 2018-01-06                     | 30512004                       | PROSERIES LTMX PORTLAND TWEED  | Car Seats                      | Infant                         | Litemax                        | Evenflo                        | A731                           | ...                            |  $ -                           | 0                              |  $ -                           | 0.00                           |  $ -                           |  $ -                           | 0                              |  $ -                           | 1                              | 308.66667                      |\n",
       "| 100                            | 2018-01-01                     | 2018-01-06                     | 34411927                       | SAFEMAX 3 IN 1 CRIMSON         | Car Seats                      | Booster                        | Safemax                        | Evenflo                        | A731D                          | ...                            |  $ -                           | 0                              |  $ -                           | 0.00                           |  $ -                           |  $ -                           | 0                              |  $ -                           | 1                              |  60.86667                      |\n",
       "| 100                            | 2018-01-01                     | 2018-01-06                     | 4448100                        | EMBRACE WOOD & METAL GATE .COM | Gates                          | Metal Gates                    | 105 Gates                      | Evenflo                        | A731                           | ...                            |  $ -                           | 0                              |  $ -                           | 0.00                           |  $ -                           |  $ -                           | 0                              |  $ -                           | 1                              | 212.66667                      |\n",
       "| 100                            | 2018-01-01                     | 2018-01-06                     | 4449100                        | EMBRACE CLEAR PANEL GATE .COM  | Gates                          | Metal Gates                    | 448 Gates                      | Evenflo                        | A731                           | ...                            |  $ -                           | 0                              |  $ -                           | 0.00                           |  $ -                           |  $ -                           | 0                              |  $ -                           | 1                              | 212.66667                      |\n",
       "| 100                            | 2018-01-01                     | 2018-01-06                     | 60511372                       | ZOO FRIENDS EXERSAUCER DLX     | Activity                       | Activity Centers               | Exersaucer Deluxe              | Exersaucer                     | A731                           | ...                            |  $ -                           | 0                              |  $ -                           | 0.00                           |  $ -                           |  $ -                           | 0                              |  $ -                           | 1                              | 154.88889                      |\n",
       "\n"
      ],
      "text/plain": [
       "  Company Transaction.Date Week.End.Date..EF. Item    \n",
       "1 100     2018-01-01       2018-01-06         1050500 \n",
       "2 100     2018-01-01       2018-01-06         30512004\n",
       "3 100     2018-01-01       2018-01-06         34411927\n",
       "4 100     2018-01-01       2018-01-06         4448100 \n",
       "5 100     2018-01-01       2018-01-06         4449100 \n",
       "6 100     2018-01-01       2018-01-06         60511372\n",
       "  Item.Description               Category.Family Category        \n",
       "1 TOP OF STAIR EXTRA TALL BOX    Gates           Wood Gates      \n",
       "2 PROSERIES LTMX PORTLAND TWEED  Car Seats       Infant          \n",
       "3 SAFEMAX 3 IN 1 CRIMSON         Car Seats       Booster         \n",
       "4 EMBRACE WOOD & METAL GATE .COM Gates           Metal Gates     \n",
       "5 EMBRACE CLEAR PANEL GATE .COM  Gates           Metal Gates     \n",
       "6 ZOO FRIENDS EXERSAUCER DLX     Activity        Activity Centers\n",
       "  Sub.Category      Brand      Customer.ID ... Open.Amount Invoice.Qty\n",
       "1 105 Gates         Evenflo    A731        ...  $ -        0          \n",
       "2 Litemax           Evenflo    A731        ...  $ -        0          \n",
       "3 Safemax           Evenflo    A731D       ...  $ -        0          \n",
       "4 105 Gates         Evenflo    A731        ...  $ -        0          \n",
       "5 448 Gates         Evenflo    A731        ...  $ -        0          \n",
       "6 Exersaucer Deluxe Exersaucer A731        ...  $ -        0          \n",
       "  Invoice.Gross.Amount..HC. Invoice.Net.Amount..HC. Invoice.Gross.Amount..USD.\n",
       "1  $ -                      0.00                     $ -                      \n",
       "2  $ -                      0.00                     $ -                      \n",
       "3  $ -                      0.00                     $ -                      \n",
       "4  $ -                      0.00                     $ -                      \n",
       "5  $ -                      0.00                     $ -                      \n",
       "6  $ -                      0.00                     $ -                      \n",
       "  Invoice.Net.Amount..USD. POS.Qty POS.Amount Transaction.month unit_price\n",
       "1  $ -                     0        $ -       1                 138.73333 \n",
       "2  $ -                     0        $ -       1                 308.66667 \n",
       "3  $ -                     0        $ -       1                  60.86667 \n",
       "4  $ -                     0        $ -       1                 212.66667 \n",
       "5  $ -                     0        $ -       1                 212.66667 \n",
       "6  $ -                     0        $ -       1                 154.88889 "
      ]
     },
     "metadata": {},
     "output_type": "display_data"
    }
   ],
   "source": [
    "# 2018 order dataset\n",
    "setwd('/Users/czw/Desktop')\n",
    "order2=read.csv(\"order18.csv\") \n",
    "# transform the data type for order - 2018\n",
    "order2$Order.Qty=as.numeric(order2$Order.Qty)\n",
    "order2$Order.Amount=as.numeric(order2$Order.Amount)\n",
    "order2$Transaction.Date=as.Date(order2$Transaction.Date, format='%d-%B-%y')\n",
    "order2$Transaction.month=month(as.POSIXlt(order2$Transaction.Date, format=\"%d-%B-%y\"))\n",
    "order2$Week.End.Date..EF.=as.Date(order2$Week.End.Date..EF., format='%d-%B-%y')\n",
    "order2$Sub.Category = as.factor(order2$Sub.Category)\n",
    "# add a new column for unit price\n",
    "order2$unit_price = order2$Order.Amount/order2$Order.Qty\n",
    "# filter the dataset that only captures the items with unit price>$50\n",
    "order2 = order2 %>%\n",
    "    filter(order2$unit_price>50)\n",
    "head(order2)"
   ]
  },
  {
   "cell_type": "markdown",
   "metadata": {},
   "source": [
    "### Step 3: Visualize the Historical Sales"
   ]
  },
  {
   "cell_type": "code",
   "execution_count": 8,
   "metadata": {},
   "outputs": [
    {
     "data": {
      "text/html": [
       "<table>\n",
       "<thead><tr><th scope=col>Company</th><th scope=col>Transaction.Date</th><th scope=col>Week.End.Date</th><th scope=col>Item</th><th scope=col>Item.Description</th><th scope=col>Category_Family</th><th scope=col>Category_Code</th><th scope=col>Sub_Category_Family</th><th scope=col>BRAND</th><th scope=col>Customer</th><th scope=col>...</th><th scope=col>Short.Close.Amount</th><th scope=col>Open.Qty</th><th scope=col>Open.Amount</th><th scope=col>Invoice.Qty</th><th scope=col>Invoice.Net.Amount</th><th scope=col>Invoice.Gross.Amount</th><th scope=col>POS.Qty</th><th scope=col>POS.Amount</th><th scope=col>Transaction.month</th><th scope=col>unit_price</th></tr></thead>\n",
       "<tbody>\n",
       "\t<tr><td>100                           </td><td>2019-01-03                    </td><td>2019-01-05                    </td><td>34512064                      </td><td>PLATINUM SYMPHONY LX SAHARA   </td><td>Car Seats                     </td><td>Convertible                   </td><td>Symphony                      </td><td>Evenflo                       </td><td>A731D                         </td><td>...                           </td><td>0                             </td><td>0                             </td><td>0                             </td><td>0                             </td><td>  0.00                        </td><td>  0.00                        </td><td>0                             </td><td>0                             </td><td>1                             </td><td>101.85                        </td></tr>\n",
       "\t<tr><td>100                           </td><td>2019-01-03                    </td><td>2019-01-05                    </td><td>34612173                      </td><td>PLAT SYMPHONY DLX ASHLAND GRAY</td><td>Car Seats                     </td><td>Convertible                   </td><td>Symphony                      </td><td>Evenflo                       </td><td>A731D                         </td><td>...                           </td><td>0                             </td><td>0                             </td><td>0                             </td><td>0                             </td><td>  0.00                        </td><td>  0.00                        </td><td>0                             </td><td>0                             </td><td>1                             </td><td>149.63                        </td></tr>\n",
       "\t<tr><td>100                           </td><td>2019-01-04                    </td><td>2019-01-05                    </td><td>34612173                      </td><td>PLAT SYMPHONY DLX ASHLAND GRAY</td><td>Car Seats                     </td><td>Convertible                   </td><td>Symphony                      </td><td>Evenflo                       </td><td>A731D                         </td><td>...                           </td><td>0                             </td><td>0                             </td><td>0                             </td><td>1                             </td><td>149.63                        </td><td>149.63                        </td><td>0                             </td><td>0                             </td><td>1                             </td><td>149.63                        </td></tr>\n",
       "\t<tr><td>100                           </td><td>2019-01-07                    </td><td>2019-01-12                    </td><td>34512064                      </td><td>PLATINUM SYMPHONY LX SAHARA   </td><td>Car Seats                     </td><td>Convertible                   </td><td>Symphony                      </td><td>Evenflo                       </td><td>A731                          </td><td>...                           </td><td>0                             </td><td>0                             </td><td>0                             </td><td>0                             </td><td>  0.00                        </td><td>  0.00                        </td><td>0                             </td><td>0                             </td><td>1                             </td><td> 97.00                        </td></tr>\n",
       "\t<tr><td>100                           </td><td>2019-01-07                    </td><td>2019-01-12                    </td><td>34612083                      </td><td>SYMPHONY DLX PINNACLE         </td><td>Car Seats                     </td><td>Convertible                   </td><td>Symphony                      </td><td>Evenflo                       </td><td>A731                          </td><td>...                           </td><td>0                             </td><td>0                             </td><td>0                             </td><td>0                             </td><td>  0.00                        </td><td>  0.00                        </td><td>0                             </td><td>0                             </td><td>1                             </td><td>142.50                        </td></tr>\n",
       "\t<tr><td>100                           </td><td>2019-01-07                    </td><td>2019-01-12                    </td><td>34612084                      </td><td>SYMPHONY DLX APEX             </td><td>Car Seats                     </td><td>Convertible                   </td><td>Symphony                      </td><td>Evenflo                       </td><td>A731                          </td><td>...                           </td><td>0                             </td><td>0                             </td><td>0                             </td><td>0                             </td><td>  0.00                        </td><td>  0.00                        </td><td>0                             </td><td>0                             </td><td>1                             </td><td>142.50                        </td></tr>\n",
       "</tbody>\n",
       "</table>\n"
      ],
      "text/latex": [
       "\\begin{tabular}{r|llllllllllllllllllllllllllll}\n",
       " Company & Transaction.Date & Week.End.Date & Item & Item.Description & Category\\_Family & Category\\_Code & Sub\\_Category\\_Family & BRAND & Customer & ... & Short.Close.Amount & Open.Qty & Open.Amount & Invoice.Qty & Invoice.Net.Amount & Invoice.Gross.Amount & POS.Qty & POS.Amount & Transaction.month & unit\\_price\\\\\n",
       "\\hline\n",
       "\t 100                            & 2019-01-03                     & 2019-01-05                     & 34512064                       & PLATINUM SYMPHONY LX SAHARA    & Car Seats                      & Convertible                    & Symphony                       & Evenflo                        & A731D                          & ...                            & 0                              & 0                              & 0                              & 0                              &   0.00                         &   0.00                         & 0                              & 0                              & 1                              & 101.85                        \\\\\n",
       "\t 100                            & 2019-01-03                     & 2019-01-05                     & 34612173                       & PLAT SYMPHONY DLX ASHLAND GRAY & Car Seats                      & Convertible                    & Symphony                       & Evenflo                        & A731D                          & ...                            & 0                              & 0                              & 0                              & 0                              &   0.00                         &   0.00                         & 0                              & 0                              & 1                              & 149.63                        \\\\\n",
       "\t 100                            & 2019-01-04                     & 2019-01-05                     & 34612173                       & PLAT SYMPHONY DLX ASHLAND GRAY & Car Seats                      & Convertible                    & Symphony                       & Evenflo                        & A731D                          & ...                            & 0                              & 0                              & 0                              & 1                              & 149.63                         & 149.63                         & 0                              & 0                              & 1                              & 149.63                        \\\\\n",
       "\t 100                            & 2019-01-07                     & 2019-01-12                     & 34512064                       & PLATINUM SYMPHONY LX SAHARA    & Car Seats                      & Convertible                    & Symphony                       & Evenflo                        & A731                           & ...                            & 0                              & 0                              & 0                              & 0                              &   0.00                         &   0.00                         & 0                              & 0                              & 1                              &  97.00                        \\\\\n",
       "\t 100                            & 2019-01-07                     & 2019-01-12                     & 34612083                       & SYMPHONY DLX PINNACLE          & Car Seats                      & Convertible                    & Symphony                       & Evenflo                        & A731                           & ...                            & 0                              & 0                              & 0                              & 0                              &   0.00                         &   0.00                         & 0                              & 0                              & 1                              & 142.50                        \\\\\n",
       "\t 100                            & 2019-01-07                     & 2019-01-12                     & 34612084                       & SYMPHONY DLX APEX              & Car Seats                      & Convertible                    & Symphony                       & Evenflo                        & A731                           & ...                            & 0                              & 0                              & 0                              & 0                              &   0.00                         &   0.00                         & 0                              & 0                              & 1                              & 142.50                        \\\\\n",
       "\\end{tabular}\n"
      ],
      "text/markdown": [
       "\n",
       "| Company | Transaction.Date | Week.End.Date | Item | Item.Description | Category_Family | Category_Code | Sub_Category_Family | BRAND | Customer | ... | Short.Close.Amount | Open.Qty | Open.Amount | Invoice.Qty | Invoice.Net.Amount | Invoice.Gross.Amount | POS.Qty | POS.Amount | Transaction.month | unit_price |\n",
       "|---|---|---|---|---|---|---|---|---|---|---|---|---|---|---|---|---|---|---|---|---|\n",
       "| 100                            | 2019-01-03                     | 2019-01-05                     | 34512064                       | PLATINUM SYMPHONY LX SAHARA    | Car Seats                      | Convertible                    | Symphony                       | Evenflo                        | A731D                          | ...                            | 0                              | 0                              | 0                              | 0                              |   0.00                         |   0.00                         | 0                              | 0                              | 1                              | 101.85                         |\n",
       "| 100                            | 2019-01-03                     | 2019-01-05                     | 34612173                       | PLAT SYMPHONY DLX ASHLAND GRAY | Car Seats                      | Convertible                    | Symphony                       | Evenflo                        | A731D                          | ...                            | 0                              | 0                              | 0                              | 0                              |   0.00                         |   0.00                         | 0                              | 0                              | 1                              | 149.63                         |\n",
       "| 100                            | 2019-01-04                     | 2019-01-05                     | 34612173                       | PLAT SYMPHONY DLX ASHLAND GRAY | Car Seats                      | Convertible                    | Symphony                       | Evenflo                        | A731D                          | ...                            | 0                              | 0                              | 0                              | 1                              | 149.63                         | 149.63                         | 0                              | 0                              | 1                              | 149.63                         |\n",
       "| 100                            | 2019-01-07                     | 2019-01-12                     | 34512064                       | PLATINUM SYMPHONY LX SAHARA    | Car Seats                      | Convertible                    | Symphony                       | Evenflo                        | A731                           | ...                            | 0                              | 0                              | 0                              | 0                              |   0.00                         |   0.00                         | 0                              | 0                              | 1                              |  97.00                         |\n",
       "| 100                            | 2019-01-07                     | 2019-01-12                     | 34612083                       | SYMPHONY DLX PINNACLE          | Car Seats                      | Convertible                    | Symphony                       | Evenflo                        | A731                           | ...                            | 0                              | 0                              | 0                              | 0                              |   0.00                         |   0.00                         | 0                              | 0                              | 1                              | 142.50                         |\n",
       "| 100                            | 2019-01-07                     | 2019-01-12                     | 34612084                       | SYMPHONY DLX APEX              | Car Seats                      | Convertible                    | Symphony                       | Evenflo                        | A731                           | ...                            | 0                              | 0                              | 0                              | 0                              |   0.00                         |   0.00                         | 0                              | 0                              | 1                              | 142.50                         |\n",
       "\n"
      ],
      "text/plain": [
       "  Company Transaction.Date Week.End.Date Item    \n",
       "1 100     2019-01-03       2019-01-05    34512064\n",
       "2 100     2019-01-03       2019-01-05    34612173\n",
       "3 100     2019-01-04       2019-01-05    34612173\n",
       "4 100     2019-01-07       2019-01-12    34512064\n",
       "5 100     2019-01-07       2019-01-12    34612083\n",
       "6 100     2019-01-07       2019-01-12    34612084\n",
       "  Item.Description               Category_Family               \n",
       "1 PLATINUM SYMPHONY LX SAHARA    Car Seats                     \n",
       "2 PLAT SYMPHONY DLX ASHLAND GRAY Car Seats                     \n",
       "3 PLAT SYMPHONY DLX ASHLAND GRAY Car Seats                     \n",
       "4 PLATINUM SYMPHONY LX SAHARA    Car Seats                     \n",
       "5 SYMPHONY DLX PINNACLE          Car Seats                     \n",
       "6 SYMPHONY DLX APEX              Car Seats                     \n",
       "  Category_Code                  Sub_Category_Family\n",
       "1 Convertible                    Symphony           \n",
       "2 Convertible                    Symphony           \n",
       "3 Convertible                    Symphony           \n",
       "4 Convertible                    Symphony           \n",
       "5 Convertible                    Symphony           \n",
       "6 Convertible                    Symphony           \n",
       "  BRAND                          Customer ... Short.Close.Amount Open.Qty\n",
       "1 Evenflo                        A731D    ... 0                  0       \n",
       "2 Evenflo                        A731D    ... 0                  0       \n",
       "3 Evenflo                        A731D    ... 0                  0       \n",
       "4 Evenflo                        A731     ... 0                  0       \n",
       "5 Evenflo                        A731     ... 0                  0       \n",
       "6 Evenflo                        A731     ... 0                  0       \n",
       "  Open.Amount Invoice.Qty Invoice.Net.Amount Invoice.Gross.Amount POS.Qty\n",
       "1 0           0             0.00               0.00               0      \n",
       "2 0           0             0.00               0.00               0      \n",
       "3 0           1           149.63             149.63               0      \n",
       "4 0           0             0.00               0.00               0      \n",
       "5 0           0             0.00               0.00               0      \n",
       "6 0           0             0.00               0.00               0      \n",
       "  POS.Amount Transaction.month unit_price\n",
       "1 0          1                 101.85    \n",
       "2 0          1                 149.63    \n",
       "3 0          1                 149.63    \n",
       "4 0          1                  97.00    \n",
       "5 0          1                 142.50    \n",
       "6 0          1                 142.50    "
      ]
     },
     "metadata": {},
     "output_type": "display_data"
    }
   ],
   "source": [
    "# Group by the Sub_Category_Family & transaction date, get the sum of order quantity 2019\n",
    "# Editing whitespace out of levels\n",
    "order$Sub_Category_Family = factor(trimws(order$Sub_Category_Family))\n",
    "# subcategory 1: Symphony - 2019\n",
    "order = order %>%\n",
    "    filter(order$Sub_Category_Family == 'Symphony')\n",
    "head(order)"
   ]
  },
  {
   "cell_type": "code",
   "execution_count": 9,
   "metadata": {},
   "outputs": [
    {
     "data": {
      "text/html": [
       "<table>\n",
       "<thead><tr><th scope=col>Company</th><th scope=col>Transaction.Date</th><th scope=col>Week.End.Date..EF.</th><th scope=col>Item</th><th scope=col>Item.Description</th><th scope=col>Category.Family</th><th scope=col>Category</th><th scope=col>Sub.Category</th><th scope=col>Brand</th><th scope=col>Customer.ID</th><th scope=col>...</th><th scope=col>Open.Amount</th><th scope=col>Invoice.Qty</th><th scope=col>Invoice.Gross.Amount..HC.</th><th scope=col>Invoice.Net.Amount..HC.</th><th scope=col>Invoice.Gross.Amount..USD.</th><th scope=col>Invoice.Net.Amount..USD.</th><th scope=col>POS.Qty</th><th scope=col>POS.Amount</th><th scope=col>Transaction.month</th><th scope=col>unit_price</th></tr></thead>\n",
       "<tbody>\n",
       "\t<tr><td>100                           </td><td>2018-03-01                    </td><td>2018-03-03                    </td><td>34511714                      </td><td>SYMPHONY LX KRONUS            </td><td>Car Seats                     </td><td>Convertible                   </td><td>Symphony                      </td><td>Evenflo                       </td><td>A731D                         </td><td>...                           </td><td> $ -                          </td><td>0                             </td><td> $ -                          </td><td>0.00                          </td><td> $ -                          </td><td> $ -                          </td><td>0                             </td><td> $ -                          </td><td>3                             </td><td>66.26667                      </td></tr>\n",
       "\t<tr><td>100                           </td><td>2018-03-14                    </td><td>2018-03-17                    </td><td>34612173                      </td><td>PLAT SYMPHONY DLX ASHLAND GRAY</td><td>Car Seats                     </td><td>Convertible                   </td><td>Symphony                      </td><td>Evenflo                       </td><td>A731D                         </td><td>...                           </td><td> $ -                          </td><td>3                             </td><td> $ 449                        </td><td>448.89                        </td><td> $ 449                        </td><td> $ 449                        </td><td>0                             </td><td> $ -                          </td><td>3                             </td><td>74.00000                      </td></tr>\n",
       "\t<tr><td>100                           </td><td>2018-03-17                    </td><td>2018-03-17                    </td><td>34612173                      </td><td>PLAT SYMPHONY DLX ASHLAND GRAY</td><td>Car Seats                     </td><td>Convertible                   </td><td>Symphony                      </td><td>Evenflo                       </td><td>A731D                         </td><td>...                           </td><td> $ -                          </td><td>0                             </td><td> $ -                          </td><td>0.00                          </td><td> $ -                          </td><td> $ -                          </td><td>0                             </td><td> $ -                          </td><td>3                             </td><td>74.00000                      </td></tr>\n",
       "\t<tr><td>100                           </td><td>2018-03-21                    </td><td>2018-03-24                    </td><td>34612173                      </td><td>PLAT SYMPHONY DLX ASHLAND GRAY</td><td>Car Seats                     </td><td>Convertible                   </td><td>Symphony                      </td><td>Evenflo                       </td><td>A731D                         </td><td>...                           </td><td> $ -                          </td><td>3                             </td><td> $ 449                        </td><td>448.89                        </td><td> $ 449                        </td><td> $ 449                        </td><td>0                             </td><td> $ -                          </td><td>3                             </td><td>74.00000                      </td></tr>\n",
       "\t<tr><td>100                           </td><td>2018-03-22                    </td><td>2018-03-24                    </td><td>34612173                      </td><td>PLAT SYMPHONY DLX ASHLAND GRAY</td><td>Car Seats                     </td><td>Convertible                   </td><td>Symphony                      </td><td>Evenflo                       </td><td>A731D                         </td><td>...                           </td><td> $ -                          </td><td>2                             </td><td> $ 299                        </td><td>299.26                        </td><td> $ 299                        </td><td> $ 299                        </td><td>0                             </td><td> $ -                          </td><td>3                             </td><td>74.00000                      </td></tr>\n",
       "\t<tr><td>100                           </td><td>2018-03-24                    </td><td>2018-03-24                    </td><td>34612173                      </td><td>PLAT SYMPHONY DLX ASHLAND GRAY</td><td>Car Seats                     </td><td>Convertible                   </td><td>Symphony                      </td><td>Evenflo                       </td><td>A731D                         </td><td>...                           </td><td> $ -                          </td><td>0                             </td><td> $ -                          </td><td>0.00                          </td><td> $ -                          </td><td> $ -                          </td><td>0                             </td><td> $ -                          </td><td>3                             </td><td>74.00000                      </td></tr>\n",
       "</tbody>\n",
       "</table>\n"
      ],
      "text/latex": [
       "\\begin{tabular}{r|llllllllllllllllllllllllllllllll}\n",
       " Company & Transaction.Date & Week.End.Date..EF. & Item & Item.Description & Category.Family & Category & Sub.Category & Brand & Customer.ID & ... & Open.Amount & Invoice.Qty & Invoice.Gross.Amount..HC. & Invoice.Net.Amount..HC. & Invoice.Gross.Amount..USD. & Invoice.Net.Amount..USD. & POS.Qty & POS.Amount & Transaction.month & unit\\_price\\\\\n",
       "\\hline\n",
       "\t 100                            & 2018-03-01                     & 2018-03-03                     & 34511714                       & SYMPHONY LX KRONUS             & Car Seats                      & Convertible                    & Symphony                       & Evenflo                        & A731D                          & ...                            &  \\$ -                         & 0                              &  \\$ -                         & 0.00                           &  \\$ -                         &  \\$ -                         & 0                              &  \\$ -                         & 3                              & 66.26667                      \\\\\n",
       "\t 100                            & 2018-03-14                     & 2018-03-17                     & 34612173                       & PLAT SYMPHONY DLX ASHLAND GRAY & Car Seats                      & Convertible                    & Symphony                       & Evenflo                        & A731D                          & ...                            &  \\$ -                         & 3                              &  \\$ 449                       & 448.89                         &  \\$ 449                       &  \\$ 449                       & 0                              &  \\$ -                         & 3                              & 74.00000                      \\\\\n",
       "\t 100                            & 2018-03-17                     & 2018-03-17                     & 34612173                       & PLAT SYMPHONY DLX ASHLAND GRAY & Car Seats                      & Convertible                    & Symphony                       & Evenflo                        & A731D                          & ...                            &  \\$ -                         & 0                              &  \\$ -                         & 0.00                           &  \\$ -                         &  \\$ -                         & 0                              &  \\$ -                         & 3                              & 74.00000                      \\\\\n",
       "\t 100                            & 2018-03-21                     & 2018-03-24                     & 34612173                       & PLAT SYMPHONY DLX ASHLAND GRAY & Car Seats                      & Convertible                    & Symphony                       & Evenflo                        & A731D                          & ...                            &  \\$ -                         & 3                              &  \\$ 449                       & 448.89                         &  \\$ 449                       &  \\$ 449                       & 0                              &  \\$ -                         & 3                              & 74.00000                      \\\\\n",
       "\t 100                            & 2018-03-22                     & 2018-03-24                     & 34612173                       & PLAT SYMPHONY DLX ASHLAND GRAY & Car Seats                      & Convertible                    & Symphony                       & Evenflo                        & A731D                          & ...                            &  \\$ -                         & 2                              &  \\$ 299                       & 299.26                         &  \\$ 299                       &  \\$ 299                       & 0                              &  \\$ -                         & 3                              & 74.00000                      \\\\\n",
       "\t 100                            & 2018-03-24                     & 2018-03-24                     & 34612173                       & PLAT SYMPHONY DLX ASHLAND GRAY & Car Seats                      & Convertible                    & Symphony                       & Evenflo                        & A731D                          & ...                            &  \\$ -                         & 0                              &  \\$ -                         & 0.00                           &  \\$ -                         &  \\$ -                         & 0                              &  \\$ -                         & 3                              & 74.00000                      \\\\\n",
       "\\end{tabular}\n"
      ],
      "text/markdown": [
       "\n",
       "| Company | Transaction.Date | Week.End.Date..EF. | Item | Item.Description | Category.Family | Category | Sub.Category | Brand | Customer.ID | ... | Open.Amount | Invoice.Qty | Invoice.Gross.Amount..HC. | Invoice.Net.Amount..HC. | Invoice.Gross.Amount..USD. | Invoice.Net.Amount..USD. | POS.Qty | POS.Amount | Transaction.month | unit_price |\n",
       "|---|---|---|---|---|---|---|---|---|---|---|---|---|---|---|---|---|---|---|---|---|\n",
       "| 100                            | 2018-03-01                     | 2018-03-03                     | 34511714                       | SYMPHONY LX KRONUS             | Car Seats                      | Convertible                    | Symphony                       | Evenflo                        | A731D                          | ...                            |  $ -                           | 0                              |  $ -                           | 0.00                           |  $ -                           |  $ -                           | 0                              |  $ -                           | 3                              | 66.26667                       |\n",
       "| 100                            | 2018-03-14                     | 2018-03-17                     | 34612173                       | PLAT SYMPHONY DLX ASHLAND GRAY | Car Seats                      | Convertible                    | Symphony                       | Evenflo                        | A731D                          | ...                            |  $ -                           | 3                              |  $ 449                         | 448.89                         |  $ 449                         |  $ 449                         | 0                              |  $ -                           | 3                              | 74.00000                       |\n",
       "| 100                            | 2018-03-17                     | 2018-03-17                     | 34612173                       | PLAT SYMPHONY DLX ASHLAND GRAY | Car Seats                      | Convertible                    | Symphony                       | Evenflo                        | A731D                          | ...                            |  $ -                           | 0                              |  $ -                           | 0.00                           |  $ -                           |  $ -                           | 0                              |  $ -                           | 3                              | 74.00000                       |\n",
       "| 100                            | 2018-03-21                     | 2018-03-24                     | 34612173                       | PLAT SYMPHONY DLX ASHLAND GRAY | Car Seats                      | Convertible                    | Symphony                       | Evenflo                        | A731D                          | ...                            |  $ -                           | 3                              |  $ 449                         | 448.89                         |  $ 449                         |  $ 449                         | 0                              |  $ -                           | 3                              | 74.00000                       |\n",
       "| 100                            | 2018-03-22                     | 2018-03-24                     | 34612173                       | PLAT SYMPHONY DLX ASHLAND GRAY | Car Seats                      | Convertible                    | Symphony                       | Evenflo                        | A731D                          | ...                            |  $ -                           | 2                              |  $ 299                         | 299.26                         |  $ 299                         |  $ 299                         | 0                              |  $ -                           | 3                              | 74.00000                       |\n",
       "| 100                            | 2018-03-24                     | 2018-03-24                     | 34612173                       | PLAT SYMPHONY DLX ASHLAND GRAY | Car Seats                      | Convertible                    | Symphony                       | Evenflo                        | A731D                          | ...                            |  $ -                           | 0                              |  $ -                           | 0.00                           |  $ -                           |  $ -                           | 0                              |  $ -                           | 3                              | 74.00000                       |\n",
       "\n"
      ],
      "text/plain": [
       "  Company Transaction.Date Week.End.Date..EF. Item    \n",
       "1 100     2018-03-01       2018-03-03         34511714\n",
       "2 100     2018-03-14       2018-03-17         34612173\n",
       "3 100     2018-03-17       2018-03-17         34612173\n",
       "4 100     2018-03-21       2018-03-24         34612173\n",
       "5 100     2018-03-22       2018-03-24         34612173\n",
       "6 100     2018-03-24       2018-03-24         34612173\n",
       "  Item.Description               Category.Family Category    Sub.Category\n",
       "1 SYMPHONY LX KRONUS             Car Seats       Convertible Symphony    \n",
       "2 PLAT SYMPHONY DLX ASHLAND GRAY Car Seats       Convertible Symphony    \n",
       "3 PLAT SYMPHONY DLX ASHLAND GRAY Car Seats       Convertible Symphony    \n",
       "4 PLAT SYMPHONY DLX ASHLAND GRAY Car Seats       Convertible Symphony    \n",
       "5 PLAT SYMPHONY DLX ASHLAND GRAY Car Seats       Convertible Symphony    \n",
       "6 PLAT SYMPHONY DLX ASHLAND GRAY Car Seats       Convertible Symphony    \n",
       "  Brand   Customer.ID ... Open.Amount Invoice.Qty Invoice.Gross.Amount..HC.\n",
       "1 Evenflo A731D       ...  $ -        0            $ -                     \n",
       "2 Evenflo A731D       ...  $ -        3            $ 449                   \n",
       "3 Evenflo A731D       ...  $ -        0            $ -                     \n",
       "4 Evenflo A731D       ...  $ -        3            $ 449                   \n",
       "5 Evenflo A731D       ...  $ -        2            $ 299                   \n",
       "6 Evenflo A731D       ...  $ -        0            $ -                     \n",
       "  Invoice.Net.Amount..HC. Invoice.Gross.Amount..USD. Invoice.Net.Amount..USD.\n",
       "1 0.00                     $ -                        $ -                    \n",
       "2 448.89                   $ 449                      $ 449                  \n",
       "3 0.00                     $ -                        $ -                    \n",
       "4 448.89                   $ 449                      $ 449                  \n",
       "5 299.26                   $ 299                      $ 299                  \n",
       "6 0.00                     $ -                        $ -                    \n",
       "  POS.Qty POS.Amount Transaction.month unit_price\n",
       "1 0        $ -       3                 66.26667  \n",
       "2 0        $ -       3                 74.00000  \n",
       "3 0        $ -       3                 74.00000  \n",
       "4 0        $ -       3                 74.00000  \n",
       "5 0        $ -       3                 74.00000  \n",
       "6 0        $ -       3                 74.00000  "
      ]
     },
     "metadata": {},
     "output_type": "display_data"
    }
   ],
   "source": [
    "# subcategory 1: Symphony - 2018\n",
    "order2$Sub.Category= factor(trimws(order2$Sub.Category))\n",
    "order2 = order2 %>%\n",
    "    filter(order2$Sub.Category == 'Symphony')\n",
    "head(order2)"
   ]
  },
  {
   "cell_type": "code",
   "execution_count": 10,
   "metadata": {},
   "outputs": [
    {
     "name": "stderr",
     "output_type": "stream",
     "text": [
      "`summarise()` ungrouping output (override with `.groups` argument)\n",
      "\n"
     ]
    },
    {
     "data": {
      "text/html": [
       "<table>\n",
       "<thead><tr><th scope=col>Transaction.Date</th><th scope=col>order_qty</th><th scope=col>transaction_month</th><th scope=col>transaction_year</th></tr></thead>\n",
       "<tbody>\n",
       "\t<tr><td>2019-01-03</td><td>  2       </td><td>Jan       </td><td>2019      </td></tr>\n",
       "\t<tr><td>2019-01-04</td><td>  1       </td><td>Jan       </td><td>2019      </td></tr>\n",
       "\t<tr><td>2019-01-07</td><td> 86       </td><td>Jan       </td><td>2019      </td></tr>\n",
       "\t<tr><td>2019-01-08</td><td>  1       </td><td>Jan       </td><td>2019      </td></tr>\n",
       "\t<tr><td>2019-01-09</td><td>101       </td><td>Jan       </td><td>2019      </td></tr>\n",
       "\t<tr><td>2019-01-10</td><td> 33       </td><td>Jan       </td><td>2019      </td></tr>\n",
       "</tbody>\n",
       "</table>\n"
      ],
      "text/latex": [
       "\\begin{tabular}{r|llll}\n",
       " Transaction.Date & order\\_qty & transaction\\_month & transaction\\_year\\\\\n",
       "\\hline\n",
       "\t 2019-01-03 &   2        & Jan        & 2019      \\\\\n",
       "\t 2019-01-04 &   1        & Jan        & 2019      \\\\\n",
       "\t 2019-01-07 &  86        & Jan        & 2019      \\\\\n",
       "\t 2019-01-08 &   1        & Jan        & 2019      \\\\\n",
       "\t 2019-01-09 & 101        & Jan        & 2019      \\\\\n",
       "\t 2019-01-10 &  33        & Jan        & 2019      \\\\\n",
       "\\end{tabular}\n"
      ],
      "text/markdown": [
       "\n",
       "| Transaction.Date | order_qty | transaction_month | transaction_year |\n",
       "|---|---|---|---|\n",
       "| 2019-01-03 |   2        | Jan        | 2019       |\n",
       "| 2019-01-04 |   1        | Jan        | 2019       |\n",
       "| 2019-01-07 |  86        | Jan        | 2019       |\n",
       "| 2019-01-08 |   1        | Jan        | 2019       |\n",
       "| 2019-01-09 | 101        | Jan        | 2019       |\n",
       "| 2019-01-10 |  33        | Jan        | 2019       |\n",
       "\n"
      ],
      "text/plain": [
       "  Transaction.Date order_qty transaction_month transaction_year\n",
       "1 2019-01-03         2       Jan               2019            \n",
       "2 2019-01-04         1       Jan               2019            \n",
       "3 2019-01-07        86       Jan               2019            \n",
       "4 2019-01-08         1       Jan               2019            \n",
       "5 2019-01-09       101       Jan               2019            \n",
       "6 2019-01-10        33       Jan               2019            "
      ]
     },
     "metadata": {},
     "output_type": "display_data"
    }
   ],
   "source": [
    "# Group by the Sub_Category_Family & transaction date, get the sum of order quantity 2019\n",
    "days = order %>%\n",
    "    group_by(Transaction.Date) %>%\n",
    "    summarise(order_qty=sum(Order.Qty)) %>%\n",
    "    mutate(transaction_month = month(Transaction.Date)) %>%\n",
    "    mutate(transaction_year = year(Transaction.Date))\n",
    "# convert numberic month to the abbreviation of month\n",
    "days$transaction_month = month.abb[days$transaction_month]\n",
    "head(days)"
   ]
  },
  {
   "cell_type": "code",
   "execution_count": 11,
   "metadata": {},
   "outputs": [
    {
     "name": "stderr",
     "output_type": "stream",
     "text": [
      "`summarise()` ungrouping output (override with `.groups` argument)\n",
      "\n"
     ]
    },
    {
     "data": {
      "text/html": [
       "<table>\n",
       "<thead><tr><th scope=col>Transaction.Date</th><th scope=col>order_qty</th><th scope=col>transaction_month</th><th scope=col>transaction_year</th></tr></thead>\n",
       "<tbody>\n",
       "\t<tr><td>2018-03-01</td><td>15        </td><td>Mar       </td><td>2018      </td></tr>\n",
       "\t<tr><td>2018-03-14</td><td>15        </td><td>Mar       </td><td>2018      </td></tr>\n",
       "\t<tr><td>2018-03-17</td><td>15        </td><td>Mar       </td><td>2018      </td></tr>\n",
       "\t<tr><td>2018-03-21</td><td>15        </td><td>Mar       </td><td>2018      </td></tr>\n",
       "\t<tr><td>2018-03-22</td><td>15        </td><td>Mar       </td><td>2018      </td></tr>\n",
       "\t<tr><td>2018-03-24</td><td>15        </td><td>Mar       </td><td>2018      </td></tr>\n",
       "</tbody>\n",
       "</table>\n"
      ],
      "text/latex": [
       "\\begin{tabular}{r|llll}\n",
       " Transaction.Date & order\\_qty & transaction\\_month & transaction\\_year\\\\\n",
       "\\hline\n",
       "\t 2018-03-01 & 15         & Mar        & 2018      \\\\\n",
       "\t 2018-03-14 & 15         & Mar        & 2018      \\\\\n",
       "\t 2018-03-17 & 15         & Mar        & 2018      \\\\\n",
       "\t 2018-03-21 & 15         & Mar        & 2018      \\\\\n",
       "\t 2018-03-22 & 15         & Mar        & 2018      \\\\\n",
       "\t 2018-03-24 & 15         & Mar        & 2018      \\\\\n",
       "\\end{tabular}\n"
      ],
      "text/markdown": [
       "\n",
       "| Transaction.Date | order_qty | transaction_month | transaction_year |\n",
       "|---|---|---|---|\n",
       "| 2018-03-01 | 15         | Mar        | 2018       |\n",
       "| 2018-03-14 | 15         | Mar        | 2018       |\n",
       "| 2018-03-17 | 15         | Mar        | 2018       |\n",
       "| 2018-03-21 | 15         | Mar        | 2018       |\n",
       "| 2018-03-22 | 15         | Mar        | 2018       |\n",
       "| 2018-03-24 | 15         | Mar        | 2018       |\n",
       "\n"
      ],
      "text/plain": [
       "  Transaction.Date order_qty transaction_month transaction_year\n",
       "1 2018-03-01       15        Mar               2018            \n",
       "2 2018-03-14       15        Mar               2018            \n",
       "3 2018-03-17       15        Mar               2018            \n",
       "4 2018-03-21       15        Mar               2018            \n",
       "5 2018-03-22       15        Mar               2018            \n",
       "6 2018-03-24       15        Mar               2018            "
      ]
     },
     "metadata": {},
     "output_type": "display_data"
    }
   ],
   "source": [
    "# Group by the Sub_Category_Family & transaction date, get the sum of order quantity 2018\n",
    "days2 = order2 %>%\n",
    "    group_by(Transaction.Date) %>%\n",
    "    summarise(order_qty=sum(Order.Qty)) %>%\n",
    "    mutate(transaction_month = month(Transaction.Date)) %>%\n",
    "    mutate(transaction_year = year(Transaction.Date))\n",
    "# convert numberic month to the abbreviation of month\n",
    "days2$transaction_month = month.abb[days2$transaction_month]\n",
    "head(days2)"
   ]
  },
  {
   "cell_type": "code",
   "execution_count": 12,
   "metadata": {},
   "outputs": [
    {
     "data": {
      "text/html": [
       "<table>\n",
       "<thead><tr><th scope=col>Transaction.Date</th><th scope=col>order_qty</th><th scope=col>transaction_month</th><th scope=col>transaction_year</th></tr></thead>\n",
       "<tbody>\n",
       "\t<tr><td>2018-03-01</td><td>15        </td><td>Mar       </td><td>2018      </td></tr>\n",
       "\t<tr><td>2018-03-14</td><td>15        </td><td>Mar       </td><td>2018      </td></tr>\n",
       "\t<tr><td>2018-03-17</td><td>15        </td><td>Mar       </td><td>2018      </td></tr>\n",
       "\t<tr><td>2018-03-21</td><td>15        </td><td>Mar       </td><td>2018      </td></tr>\n",
       "\t<tr><td>2018-03-22</td><td>15        </td><td>Mar       </td><td>2018      </td></tr>\n",
       "\t<tr><td>2018-03-24</td><td>15        </td><td>Mar       </td><td>2018      </td></tr>\n",
       "</tbody>\n",
       "</table>\n"
      ],
      "text/latex": [
       "\\begin{tabular}{r|llll}\n",
       " Transaction.Date & order\\_qty & transaction\\_month & transaction\\_year\\\\\n",
       "\\hline\n",
       "\t 2018-03-01 & 15         & Mar        & 2018      \\\\\n",
       "\t 2018-03-14 & 15         & Mar        & 2018      \\\\\n",
       "\t 2018-03-17 & 15         & Mar        & 2018      \\\\\n",
       "\t 2018-03-21 & 15         & Mar        & 2018      \\\\\n",
       "\t 2018-03-22 & 15         & Mar        & 2018      \\\\\n",
       "\t 2018-03-24 & 15         & Mar        & 2018      \\\\\n",
       "\\end{tabular}\n"
      ],
      "text/markdown": [
       "\n",
       "| Transaction.Date | order_qty | transaction_month | transaction_year |\n",
       "|---|---|---|---|\n",
       "| 2018-03-01 | 15         | Mar        | 2018       |\n",
       "| 2018-03-14 | 15         | Mar        | 2018       |\n",
       "| 2018-03-17 | 15         | Mar        | 2018       |\n",
       "| 2018-03-21 | 15         | Mar        | 2018       |\n",
       "| 2018-03-22 | 15         | Mar        | 2018       |\n",
       "| 2018-03-24 | 15         | Mar        | 2018       |\n",
       "\n"
      ],
      "text/plain": [
       "  Transaction.Date order_qty transaction_month transaction_year\n",
       "1 2018-03-01       15        Mar               2018            \n",
       "2 2018-03-14       15        Mar               2018            \n",
       "3 2018-03-17       15        Mar               2018            \n",
       "4 2018-03-21       15        Mar               2018            \n",
       "5 2018-03-22       15        Mar               2018            \n",
       "6 2018-03-24       15        Mar               2018            "
      ]
     },
     "metadata": {},
     "output_type": "display_data"
    }
   ],
   "source": [
    "# merge the 2018-2019 days table\n",
    "library(dplyr)\n",
    "merge = rbind(days2,days)\n",
    "head(merge)"
   ]
  },
  {
   "cell_type": "code",
   "execution_count": 13,
   "metadata": {},
   "outputs": [],
   "source": [
    "ts1 = xts(x= merge$order_qty, order.by = as.Date(merge$Transaction.Date, format='%Y/%m/%d'))\n",
    "#dygraph(ts1,main=\"Historical Sales in 2018-2019 - Sonus\",xlab=\"Date\",ylab=\"Daily order quantity\")"
   ]
  },
  {
   "cell_type": "markdown",
   "metadata": {},
   "source": [
    "### Step4: Group by month and generate the ts format"
   ]
  },
  {
   "cell_type": "code",
   "execution_count": 14,
   "metadata": {},
   "outputs": [
    {
     "name": "stderr",
     "output_type": "stream",
     "text": [
      "`summarise()` ungrouping output (override with `.groups` argument)\n",
      "\n"
     ]
    },
    {
     "data": {
      "text/html": [
       "<table>\n",
       "<thead><tr><th scope=col>month</th><th scope=col>order.sum</th></tr></thead>\n",
       "<tbody>\n",
       "\t<tr><td>2018-03-01</td><td> 105      </td></tr>\n",
       "\t<tr><td>2018-04-01</td><td> 165      </td></tr>\n",
       "\t<tr><td>2018-05-01</td><td>  15      </td></tr>\n",
       "\t<tr><td>2018-06-01</td><td>  46      </td></tr>\n",
       "\t<tr><td>2018-07-01</td><td>  60      </td></tr>\n",
       "\t<tr><td>2018-08-01</td><td> 105      </td></tr>\n",
       "\t<tr><td>2018-09-01</td><td>  15      </td></tr>\n",
       "\t<tr><td>2018-10-01</td><td>  30      </td></tr>\n",
       "\t<tr><td>2018-11-01</td><td> 105      </td></tr>\n",
       "\t<tr><td>2018-12-01</td><td> 105      </td></tr>\n",
       "\t<tr><td>2019-01-01</td><td> 630      </td></tr>\n",
       "\t<tr><td>2019-02-01</td><td>1381      </td></tr>\n",
       "\t<tr><td>2019-03-01</td><td>2733      </td></tr>\n",
       "\t<tr><td>2019-04-01</td><td>1668      </td></tr>\n",
       "\t<tr><td>2019-05-01</td><td> 512      </td></tr>\n",
       "\t<tr><td>2019-06-01</td><td>2637      </td></tr>\n",
       "\t<tr><td>2019-07-01</td><td>2932      </td></tr>\n",
       "\t<tr><td>2019-08-01</td><td>2032      </td></tr>\n",
       "\t<tr><td>2019-09-01</td><td>1100      </td></tr>\n",
       "\t<tr><td>2019-10-01</td><td> 372      </td></tr>\n",
       "\t<tr><td>2019-11-01</td><td> 657      </td></tr>\n",
       "\t<tr><td>2019-12-01</td><td> 864      </td></tr>\n",
       "</tbody>\n",
       "</table>\n"
      ],
      "text/latex": [
       "\\begin{tabular}{r|ll}\n",
       " month & order.sum\\\\\n",
       "\\hline\n",
       "\t 2018-03-01 &  105      \\\\\n",
       "\t 2018-04-01 &  165      \\\\\n",
       "\t 2018-05-01 &   15      \\\\\n",
       "\t 2018-06-01 &   46      \\\\\n",
       "\t 2018-07-01 &   60      \\\\\n",
       "\t 2018-08-01 &  105      \\\\\n",
       "\t 2018-09-01 &   15      \\\\\n",
       "\t 2018-10-01 &   30      \\\\\n",
       "\t 2018-11-01 &  105      \\\\\n",
       "\t 2018-12-01 &  105      \\\\\n",
       "\t 2019-01-01 &  630      \\\\\n",
       "\t 2019-02-01 & 1381      \\\\\n",
       "\t 2019-03-01 & 2733      \\\\\n",
       "\t 2019-04-01 & 1668      \\\\\n",
       "\t 2019-05-01 &  512      \\\\\n",
       "\t 2019-06-01 & 2637      \\\\\n",
       "\t 2019-07-01 & 2932      \\\\\n",
       "\t 2019-08-01 & 2032      \\\\\n",
       "\t 2019-09-01 & 1100      \\\\\n",
       "\t 2019-10-01 &  372      \\\\\n",
       "\t 2019-11-01 &  657      \\\\\n",
       "\t 2019-12-01 &  864      \\\\\n",
       "\\end{tabular}\n"
      ],
      "text/markdown": [
       "\n",
       "| month | order.sum |\n",
       "|---|---|\n",
       "| 2018-03-01 |  105       |\n",
       "| 2018-04-01 |  165       |\n",
       "| 2018-05-01 |   15       |\n",
       "| 2018-06-01 |   46       |\n",
       "| 2018-07-01 |   60       |\n",
       "| 2018-08-01 |  105       |\n",
       "| 2018-09-01 |   15       |\n",
       "| 2018-10-01 |   30       |\n",
       "| 2018-11-01 |  105       |\n",
       "| 2018-12-01 |  105       |\n",
       "| 2019-01-01 |  630       |\n",
       "| 2019-02-01 | 1381       |\n",
       "| 2019-03-01 | 2733       |\n",
       "| 2019-04-01 | 1668       |\n",
       "| 2019-05-01 |  512       |\n",
       "| 2019-06-01 | 2637       |\n",
       "| 2019-07-01 | 2932       |\n",
       "| 2019-08-01 | 2032       |\n",
       "| 2019-09-01 | 1100       |\n",
       "| 2019-10-01 |  372       |\n",
       "| 2019-11-01 |  657       |\n",
       "| 2019-12-01 |  864       |\n",
       "\n"
      ],
      "text/plain": [
       "   month      order.sum\n",
       "1  2018-03-01  105     \n",
       "2  2018-04-01  165     \n",
       "3  2018-05-01   15     \n",
       "4  2018-06-01   46     \n",
       "5  2018-07-01   60     \n",
       "6  2018-08-01  105     \n",
       "7  2018-09-01   15     \n",
       "8  2018-10-01   30     \n",
       "9  2018-11-01  105     \n",
       "10 2018-12-01  105     \n",
       "11 2019-01-01  630     \n",
       "12 2019-02-01 1381     \n",
       "13 2019-03-01 2733     \n",
       "14 2019-04-01 1668     \n",
       "15 2019-05-01  512     \n",
       "16 2019-06-01 2637     \n",
       "17 2019-07-01 2932     \n",
       "18 2019-08-01 2032     \n",
       "19 2019-09-01 1100     \n",
       "20 2019-10-01  372     \n",
       "21 2019-11-01  657     \n",
       "22 2019-12-01  864     "
      ]
     },
     "metadata": {},
     "output_type": "display_data"
    },
    {
     "name": "stdout",
     "output_type": "stream",
     "text": [
      "      Jan  Feb  Mar  Apr  May  Jun  Jul  Aug  Sep  Oct  Nov  Dec\n",
      "2018  105  165   15   46   60  105   15   30  105  105  630 1381\n",
      "2019 2733 1668  512 2637 2932 2032 1100  372  657  864  105  165\n"
     ]
    }
   ],
   "source": [
    "# group by month\n",
    "months = merge%>%\n",
    "    group_by(month=floor_date(Transaction.Date, \"month\")) %>%\n",
    "   summarize(order.sum=sum(order_qty))\n",
    "months\n",
    "# transform to ts\n",
    "sales_ts = ts(months$order.sum, freq = 12, start = c(2018, 1), end = c(2019, 12))\n",
    "print(sales_ts)"
   ]
  },
  {
   "cell_type": "markdown",
   "metadata": {},
   "source": [
    "### Step 5: split data into train and test"
   ]
  },
  {
   "cell_type": "code",
   "execution_count": 15,
   "metadata": {},
   "outputs": [
    {
     "data": {
      "text/html": [
       "24"
      ],
      "text/latex": [
       "24"
      ],
      "text/markdown": [
       "24"
      ],
      "text/plain": [
       "[1] 24"
      ]
     },
     "metadata": {},
     "output_type": "display_data"
    },
    {
     "data": {
      "text/html": [
       "15"
      ],
      "text/latex": [
       "15"
      ],
      "text/markdown": [
       "15"
      ],
      "text/plain": [
       "[1] 15"
      ]
     },
     "metadata": {},
     "output_type": "display_data"
    },
    {
     "data": {
      "text/html": [
       "9"
      ],
      "text/latex": [
       "9"
      ],
      "text/markdown": [
       "9"
      ],
      "text/plain": [
       "[1] 9"
      ]
     },
     "metadata": {},
     "output_type": "display_data"
    }
   ],
   "source": [
    "train=window(sales_ts,end=c(2019,3))\n",
    "test=window(sales_ts,start=c(2019,4))\n",
    "length(sales_ts) #24\n",
    "length(train) #15\n",
    "length(test) #9"
   ]
  },
  {
   "cell_type": "markdown",
   "metadata": {},
   "source": [
    "### Step6: Exponential Smoothing Model Construction on test"
   ]
  },
  {
   "cell_type": "code",
   "execution_count": 16,
   "metadata": {},
   "outputs": [
    {
     "data": {
      "text/plain": [
       "         Point Forecast     Lo 80    Hi 80     Lo 95    Hi 95\n",
       "Apr 2019       614.8049 -395.2537 1624.864 -929.9464 2159.556\n",
       "May 2019       614.8049 -400.2914 1629.901 -937.6510 2167.261\n",
       "Jun 2019       614.8049 -405.3043 1634.914 -945.3175 2174.927\n",
       "Jul 2019       614.8049 -410.2926 1639.902 -952.9465 2182.556\n",
       "Aug 2019       614.8049 -415.2568 1644.867 -960.5385 2190.148\n",
       "Sep 2019       614.8049 -420.1972 1649.807 -968.0942 2197.704\n",
       "Oct 2019       614.8049 -425.1141 1654.724 -975.6139 2205.224\n",
       "Nov 2019       614.8049 -430.0078 1659.618 -983.0983 2212.708\n",
       "Dec 2019       614.8049 -434.8788 1664.489 -990.5478 2220.158"
      ]
     },
     "metadata": {},
     "output_type": "display_data"
    }
   ],
   "source": [
    "# Simple Exponential Smoothing Model on test\n",
    "library(forecast)\n",
    "ses_model = ses(train,h=9,alpha=0.1, initial=\"simple\")\n",
    "ses_model"
   ]
  },
  {
   "cell_type": "code",
   "execution_count": 17,
   "metadata": {},
   "outputs": [
    {
     "data": {
      "text/plain": [
       "         Point Forecast      Lo 80    Hi 80      Lo 95    Hi 95\n",
       "Apr 2019       516.3324  -405.8796 1438.544  -894.0691 1926.734\n",
       "May 2019       520.3543  -783.7859 1824.495 -1474.1561 2514.865\n",
       "Jun 2019       524.2958 -1072.9681 2121.560 -1918.5086 2967.100\n",
       "Jul 2019       528.1585 -1316.2608 2372.578 -2292.6374 3348.954\n",
       "Aug 2019       531.9439 -1530.2564 2594.144 -2621.9193 3685.807\n",
       "Sep 2019       535.6535 -1723.4638 2794.771 -2919.3683 3990.675\n",
       "Oct 2019       539.2890 -1900.9370 2979.515 -3192.7146 4271.293\n",
       "Nov 2019       542.8517 -2065.9685 3151.672 -3446.9944 4532.698\n",
       "Dec 2019       546.3431 -2220.8444 3313.531 -3685.7050 4778.391"
      ]
     },
     "metadata": {},
     "output_type": "display_data"
    }
   ],
   "source": [
    "# Holt's methods with damping on test\n",
    "holt_damp_model = holt(train, h = 9, damped = T)\n",
    "holt_damp_model"
   ]
  },
  {
   "cell_type": "code",
   "execution_count": 18,
   "metadata": {},
   "outputs": [
    {
     "name": "stderr",
     "output_type": "stream",
     "text": [
      "Warning message in ets(x, \"AAA\", alpha = alpha, beta = beta, gamma = gamma, phi = phi, :\n",
      "“Not enough data to use damping”\n",
      "Warning message in ets(x, \"AAA\", alpha = alpha, beta = beta, gamma = gamma, phi = phi, :\n",
      "“Seasonal component could not be estimated”\n"
     ]
    },
    {
     "data": {
      "text/plain": [
       "         Point Forecast    Lo 80    Hi 80      Lo 95    Hi 95\n",
       "Apr 2019           1065 244.6672 1885.333 -189.59069 2319.591\n",
       "May 2019           1125 304.6672 1945.333 -129.59069 2379.591\n",
       "Jun 2019           1185 364.6672 2005.333  -69.59069 2439.591\n",
       "Jul 2019           1245 424.6672 2065.333   -9.59069 2499.591\n",
       "Aug 2019           1305 484.6672 2125.333   50.40931 2559.591\n",
       "Sep 2019           1365 544.6672 2185.333  110.40931 2619.591\n",
       "Oct 2019           1425 604.6672 2245.333  170.40931 2679.591\n",
       "Nov 2019           1485 664.6672 2305.333  230.40931 2739.591\n",
       "Dec 2019           1545 724.6672 2365.333  290.40931 2799.591"
      ]
     },
     "metadata": {},
     "output_type": "display_data"
    }
   ],
   "source": [
    "# Try to capture the seasonality, but not sufficient observations\n",
    "# Holt - winter seasonal method\n",
    "hw_additive = hw(train, h = 9, seasonal = 'additive', damped = T)\n",
    "hw_additive"
   ]
  },
  {
   "cell_type": "code",
   "execution_count": 19,
   "metadata": {},
   "outputs": [
    {
     "name": "stderr",
     "output_type": "stream",
     "text": [
      "Warning message in ets(x, \"MAM\", alpha = alpha, beta = beta, gamma = gamma, phi = phi, :\n",
      "“Not enough data to use damping”\n",
      "Warning message in ets(x, \"MAM\", alpha = alpha, beta = beta, gamma = gamma, phi = phi, :\n",
      "“Seasonal component could not be estimated”\n"
     ]
    },
    {
     "data": {
      "text/plain": [
       "         Point Forecast    Lo 80    Hi 80      Lo 95    Hi 95\n",
       "Apr 2019           1065 244.6672 1885.333 -189.59069 2319.591\n",
       "May 2019           1125 304.6672 1945.333 -129.59069 2379.591\n",
       "Jun 2019           1185 364.6672 2005.333  -69.59069 2439.591\n",
       "Jul 2019           1245 424.6672 2065.333   -9.59069 2499.591\n",
       "Aug 2019           1305 484.6672 2125.333   50.40931 2559.591\n",
       "Sep 2019           1365 544.6672 2185.333  110.40931 2619.591\n",
       "Oct 2019           1425 604.6672 2245.333  170.40931 2679.591\n",
       "Nov 2019           1485 664.6672 2305.333  230.40931 2739.591\n",
       "Dec 2019           1545 724.6672 2365.333  290.40931 2799.591"
      ]
     },
     "metadata": {},
     "output_type": "display_data"
    }
   ],
   "source": [
    "# Holt - winter Multiplicative\n",
    "hw_multiplicative =  hw(train, h=9, seasonal = 'multiplicative', damped = T)\n",
    "hw_multiplicative"
   ]
  },
  {
   "cell_type": "markdown",
   "metadata": {},
   "source": [
    "### Step7: Model Forecast Visualization"
   ]
  },
  {
   "cell_type": "code",
   "execution_count": 20,
   "metadata": {},
   "outputs": [
    {
     "data": {
      "image/png": "[encoded data removed]",
      "text/plain": [
       "plot without title"
      ]
     },
     "metadata": {
      "image/png": {
       "height": 420,
       "width": 420
      },
      "text/plain": {
       "height": 420,
       "width": 420
      }
     },
     "output_type": "display_data"
    }
   ],
   "source": [
    "# Visualize forecasts (train & test)\n",
    "autoplot(train)+\n",
    "    autolayer(ses_model,series  = 'Simple Exponential Smoothing',PI = F, size = 1.1) +\n",
    "    autolayer(holt_damp_model, series = 'Holt Damped Model', PI = F, size = 1.1)+\n",
    "    autolayer(hw_additive, series = 'Holt Winter Additive Model', PI =F, size = 1.1)+\n",
    "    autolayer(hw_multiplicative, series = 'Holt Winter Multiplicative Model', PI = F, size=1.1)+\n",
    "labs(title=\"Exponential Smoothing Forecast Visualization - Symphony\")+\n",
    "    autolayer(test)+theme_bw()"
   ]
  },
  {
   "cell_type": "markdown",
   "metadata": {},
   "source": [
    "### Step8: Obtain the forecast Value"
   ]
  },
  {
   "cell_type": "code",
   "execution_count": 21,
   "metadata": {},
   "outputs": [],
   "source": [
    "# obtain predicted value\n",
    "ses_forecast = forecast(ses_model,h=9)\n",
    "holt_forecast = forecast(holt_damp_model, h = 9)\n",
    "hw_additive_forecast = forecast(hw_additive,h=9)\n",
    "hw_multiplicative_forecast = forecast(hw_multiplicative,h=9)"
   ]
  },
  {
   "cell_type": "code",
   "execution_count": 22,
   "metadata": {},
   "outputs": [
    {
     "data": {
      "text/plain": [
       "         Point Forecast     Lo 80    Hi 80     Lo 95    Hi 95\n",
       "Apr 2019       614.8049 -395.2537 1624.864 -929.9464 2159.556\n",
       "May 2019       614.8049 -400.2914 1629.901 -937.6510 2167.261\n",
       "Jun 2019       614.8049 -405.3043 1634.914 -945.3175 2174.927\n",
       "Jul 2019       614.8049 -410.2926 1639.902 -952.9465 2182.556\n",
       "Aug 2019       614.8049 -415.2568 1644.867 -960.5385 2190.148\n",
       "Sep 2019       614.8049 -420.1972 1649.807 -968.0942 2197.704\n",
       "Oct 2019       614.8049 -425.1141 1654.724 -975.6139 2205.224\n",
       "Nov 2019       614.8049 -430.0078 1659.618 -983.0983 2212.708\n",
       "Dec 2019       614.8049 -434.8788 1664.489 -990.5478 2220.158"
      ]
     },
     "metadata": {},
     "output_type": "display_data"
    }
   ],
   "source": [
    "ses_forecast"
   ]
  },
  {
   "cell_type": "code",
   "execution_count": 23,
   "metadata": {},
   "outputs": [
    {
     "data": {
      "text/plain": [
       "         Point Forecast      Lo 80    Hi 80      Lo 95    Hi 95\n",
       "Apr 2019       516.3324  -405.8796 1438.544  -894.0691 1926.734\n",
       "May 2019       520.3543  -783.7859 1824.495 -1474.1561 2514.865\n",
       "Jun 2019       524.2958 -1072.9681 2121.560 -1918.5086 2967.100\n",
       "Jul 2019       528.1585 -1316.2608 2372.578 -2292.6374 3348.954\n",
       "Aug 2019       531.9439 -1530.2564 2594.144 -2621.9193 3685.807\n",
       "Sep 2019       535.6535 -1723.4638 2794.771 -2919.3683 3990.675\n",
       "Oct 2019       539.2890 -1900.9370 2979.515 -3192.7146 4271.293\n",
       "Nov 2019       542.8517 -2065.9685 3151.672 -3446.9944 4532.698\n",
       "Dec 2019       546.3431 -2220.8444 3313.531 -3685.7050 4778.391"
      ]
     },
     "metadata": {},
     "output_type": "display_data"
    }
   ],
   "source": [
    "holt_forecast"
   ]
  },
  {
   "cell_type": "code",
   "execution_count": 24,
   "metadata": {},
   "outputs": [
    {
     "data": {
      "text/plain": [
       "         Point Forecast    Lo 80    Hi 80      Lo 95    Hi 95\n",
       "Apr 2019           1065 244.6672 1885.333 -189.59069 2319.591\n",
       "May 2019           1125 304.6672 1945.333 -129.59069 2379.591\n",
       "Jun 2019           1185 364.6672 2005.333  -69.59069 2439.591\n",
       "Jul 2019           1245 424.6672 2065.333   -9.59069 2499.591\n",
       "Aug 2019           1305 484.6672 2125.333   50.40931 2559.591\n",
       "Sep 2019           1365 544.6672 2185.333  110.40931 2619.591\n",
       "Oct 2019           1425 604.6672 2245.333  170.40931 2679.591\n",
       "Nov 2019           1485 664.6672 2305.333  230.40931 2739.591\n",
       "Dec 2019           1545 724.6672 2365.333  290.40931 2799.591"
      ]
     },
     "metadata": {},
     "output_type": "display_data"
    }
   ],
   "source": [
    "hw_additive_forecast"
   ]
  },
  {
   "cell_type": "code",
   "execution_count": 25,
   "metadata": {},
   "outputs": [
    {
     "data": {
      "text/plain": [
       "         Point Forecast    Lo 80    Hi 80      Lo 95    Hi 95\n",
       "Apr 2019           1065 244.6672 1885.333 -189.59069 2319.591\n",
       "May 2019           1125 304.6672 1945.333 -129.59069 2379.591\n",
       "Jun 2019           1185 364.6672 2005.333  -69.59069 2439.591\n",
       "Jul 2019           1245 424.6672 2065.333   -9.59069 2499.591\n",
       "Aug 2019           1305 484.6672 2125.333   50.40931 2559.591\n",
       "Sep 2019           1365 544.6672 2185.333  110.40931 2619.591\n",
       "Oct 2019           1425 604.6672 2245.333  170.40931 2679.591\n",
       "Nov 2019           1485 664.6672 2305.333  230.40931 2739.591\n",
       "Dec 2019           1545 724.6672 2365.333  290.40931 2799.591"
      ]
     },
     "metadata": {},
     "output_type": "display_data"
    }
   ],
   "source": [
    "hw_multiplicative_forecast"
   ]
  },
  {
   "cell_type": "markdown",
   "metadata": {},
   "source": [
    "### Step 9: Exponential Smoothing Model on the whole dataset"
   ]
  },
  {
   "cell_type": "code",
   "execution_count": 26,
   "metadata": {},
   "outputs": [
    {
     "data": {
      "text/plain": [
       "         Point Forecast     Lo 80    Hi 80      Lo 95    Hi 95\n",
       "Jan 2020       833.1178 -365.0619 2031.298  -999.3399 2665.576\n",
       "Feb 2020       833.1178 -371.0379 2037.273 -1008.4794 2674.715\n",
       "Mar 2020       833.1178 -376.9844 2043.220 -1017.5737 2683.809\n",
       "Apr 2020       833.1178 -382.9018 2049.137 -1026.6236 2692.859\n",
       "May 2020       833.1178 -388.7905 2055.026 -1035.6297 2701.865\n",
       "Jun 2020       833.1178 -394.6510 2060.887 -1044.5926 2710.828\n",
       "Jul 2020       833.1178 -400.4837 2066.719 -1053.5129 2719.748\n",
       "Aug 2020       833.1178 -406.2889 2072.525 -1062.3912 2728.627\n",
       "Sep 2020       833.1178 -412.0670 2078.303 -1071.2281 2737.464\n",
       "Oct 2020       833.1178 -417.8185 2084.054 -1080.0242 2746.260"
      ]
     },
     "metadata": {},
     "output_type": "display_data"
    }
   ],
   "source": [
    "# Simple Exponential Smoothing Model on the whole dataset\n",
    "library(forecast)\n",
    "ses_model_all = ses(sales_ts,alpha=0.1, initial=\"simple\")\n",
    "ses_model_all"
   ]
  },
  {
   "cell_type": "code",
   "execution_count": 27,
   "metadata": {},
   "outputs": [
    {
     "data": {
      "text/plain": [
       "         Point Forecast      Lo 80    Hi 80     Lo 95    Hi 95\n",
       "Jan 2020       166.1625  -881.3242 1213.649 -1435.830 1768.155\n",
       "Feb 2020       167.2607 -1314.1047 1648.626 -2098.292 2432.814\n",
       "Mar 2020       168.2928 -1646.0535 1982.639 -2606.510 2943.096\n",
       "Apr 2020       169.2629 -1925.8370 2264.363 -3034.916 3373.442\n",
       "May 2020       170.1746 -2172.3040 2512.653 -3412.337 3752.686\n",
       "Jun 2020       171.0315 -2395.1191 2737.182 -3753.557 4095.620\n",
       "Jul 2020       171.8369 -2600.0224 2943.696 -4067.356 4411.030\n",
       "Aug 2020       172.5939 -2790.7523 3135.940 -4359.453 4704.641\n",
       "Sep 2020       173.3054 -2969.9050 3316.516 -4633.820 4980.431\n",
       "Oct 2020       173.9741 -3139.3699 3487.318 -4893.348 5241.296"
      ]
     },
     "metadata": {},
     "output_type": "display_data"
    }
   ],
   "source": [
    "# Holt's methods with damping on the whole dataset\n",
    "holt_damp_model_all = holt(sales_ts,damped = T)\n",
    "holt_damp_model_all"
   ]
  },
  {
   "cell_type": "code",
   "execution_count": 28,
   "metadata": {},
   "outputs": [
    {
     "data": {
      "text/plain": [
       "         Point Forecast      Lo 80    Hi 80      Lo 95     Hi 95\n",
       "Jan 2020      772.33439  -874.1616 2418.830  -1745.764  3290.433\n",
       "Feb 2020      -55.60846 -2141.1306 2029.914  -3245.139  3133.922\n",
       "Mar 2020     -279.07536 -2726.1554 2168.005  -4021.561  3463.411\n",
       "Apr 2020     -321.62351 -3083.3822 2440.135  -4545.369  3902.122\n",
       "May 2020     -347.44777 -3391.5737 2696.678  -5003.037  4308.141\n",
       "Jun 2020     -407.82424 -3710.3005 2894.652  -5458.526  4642.877\n",
       "Jul 2020     -573.98955 -4116.0548 2968.076  -5991.111  4843.132\n",
       "Aug 2020     -635.26350 -4401.7355 3131.209  -6395.585  5125.058\n",
       "Sep 2020     -635.05019 -4613.3142 3343.214  -6719.280  5449.180\n",
       "Oct 2020     -710.33838 -4889.6958 3469.019  -7102.114  5681.437\n",
       "Nov 2020     -261.42426 -4632.6513 4109.803  -6946.639  6423.791\n",
       "Dec 2020      413.32433 -4141.7127 4968.361  -6553.004  7379.652\n",
       "Jan 2021      820.48839 -3911.2815 5552.258  -6416.129  8057.106\n",
       "Feb 2021      -12.07937 -4914.1832 4890.024  -7509.200  7485.041\n",
       "Mar 2021     -239.72697 -5306.4518 4826.998  -7988.614  7509.160\n",
       "Apr 2021     -286.05430 -5512.2261 4940.118  -8278.794  7706.686\n",
       "May 2021     -315.29477 -5696.1987 5065.609  -8544.677  7914.088\n",
       "Jun 2021     -378.75934 -5910.0755 5152.557  -8838.177  8080.659\n",
       "Jul 2021     -547.71616 -6225.4673 5130.035  -9231.087  8135.655\n",
       "Aug 2021     -611.51351 -6432.0220 5208.995  -9513.213  8290.186\n",
       "Sep 2021     -613.58124 -6573.4334 5346.271  -9728.389  8501.226\n",
       "Oct 2021     -690.93139 -6786.9470 5405.084 -10013.983  8632.120\n",
       "Nov 2021     -243.88120 -6473.0882 5985.326  -9770.631  9282.869\n",
       "Dec 2021      429.18249 -5930.4304 6788.795  -9297.006 10155.371"
      ]
     },
     "metadata": {},
     "output_type": "display_data"
    }
   ],
   "source": [
    "# Try to capture the seasonality, but not sufficient observations\n",
    "# Holt - winter seasonal method\n",
    "hw_additive_all = hw(sales_ts,seasonal = 'additive', damped = T)\n",
    "hw_additive_all"
   ]
  },
  {
   "cell_type": "code",
   "execution_count": 29,
   "metadata": {},
   "outputs": [
    {
     "data": {
      "text/plain": [
       "         Point Forecast         Lo 80        Hi 80         Lo 95        Hi 95\n",
       "Jan 2020      -200.6850 -3.623559e+03 3.222189e+03 -5.435519e+03 5.034149e+03\n",
       "Feb 2020      -900.5313 -7.480483e+04 7.300377e+04 -1.139274e+05 1.121263e+05\n",
       "Mar 2020      -237.0940 -1.115516e+05 1.110774e+05 -1.704780e+05 1.700038e+05\n",
       "Apr 2020      -270.9749 -7.962949e+05 7.957530e+05 -1.217685e+06 1.217143e+06\n",
       "May 2020      -258.7768 -5.014624e+06 5.014106e+06 -7.669068e+06 7.668550e+06\n",
       "Jun 2020      -309.4480 -4.095146e+07 4.095084e+07 -6.262969e+07 6.262907e+07\n",
       "Jul 2020      -698.1471 -6.467047e+08 6.467033e+08 -9.890491e+08 9.890477e+08\n",
       "Aug 2020      -250.6531 -1.655327e+09 1.655326e+09 -2.531604e+09 2.531603e+09\n",
       "Sep 2020      -206.9924 -9.885283e+09 9.885283e+09 -1.511824e+10 1.511824e+10\n",
       "Oct 2020       374.4942 -1.308048e+11 1.308048e+11 -2.000487e+11 2.000487e+11\n",
       "Nov 2020      -926.8432 -2.389690e+12 2.389690e+12 -3.654715e+12 3.654715e+12\n",
       "Dec 2020     -2826.6237 -5.421195e+13 5.421195e+13 -8.291002e+13 8.291002e+13\n",
       "Jan 2021     -2683.6613 -3.528160e+14 3.528160e+14 -5.395854e+14 5.395854e+14\n",
       "Feb 2021     -9214.4643 -7.246138e+15 7.246138e+15 -1.108201e+16 1.108201e+16\n",
       "Mar 2021     -2118.4554 -1.089981e+16 1.089981e+16 -1.666982e+16 1.666982e+16\n",
       "Apr 2021     -2229.2124 -7.794367e+16 7.794367e+16 -1.192046e+17 1.192046e+17\n",
       "May 2021     -2013.3673 -4.909874e+17 4.909874e+17 -7.509005e+17 7.509005e+17\n",
       "Jun 2021     -2312.6361 -4.009780e+18 4.009780e+18 -6.132429e+18 6.132429e+18\n",
       "Jul 2021     -5061.2026 -6.332278e+19 6.332278e+19 -9.684384e+19 9.684384e+19\n",
       "Aug 2021     -1774.3458 -1.620832e+20 1.620832e+20 -2.478849e+20 2.478849e+20\n",
       "Sep 2021     -1437.4884 -9.679291e+20 9.679291e+20 -1.480320e+21 1.480320e+21\n",
       "Oct 2021      2560.1417 -1.280791e+22 1.280791e+22 -1.958800e+22 1.958800e+22\n",
       "Nov 2021     -6253.3651 -2.339893e+23 2.339893e+23 -3.578558e+23 3.578558e+23\n",
       "Dec 2021    -18859.4906 -5.308227e+24 5.308227e+24 -8.118233e+24 8.118233e+24"
      ]
     },
     "metadata": {},
     "output_type": "display_data"
    }
   ],
   "source": [
    "# Holt - winter Multiplicative\n",
    "hw_multiplicative_all =  hw(sales_ts,seasonal = 'multiplicative', damped = T)\n",
    "hw_multiplicative_all"
   ]
  },
  {
   "cell_type": "markdown",
   "metadata": {},
   "source": [
    "### Step10: Model Forecast Visualization on the whole dataset"
   ]
  },
  {
   "cell_type": "code",
   "execution_count": 30,
   "metadata": {},
   "outputs": [
    {
     "data": {
      "image/png": "[encoded data removed]",
      "text/plain": [
       "plot without title"
      ]
     },
     "metadata": {
      "image/png": {
       "height": 420,
       "width": 420
      },
      "text/plain": {
       "height": 420,
       "width": 420
      }
     },
     "output_type": "display_data"
    }
   ],
   "source": [
    "# Visualize forecasts (train & test)\n",
    "autoplot(sales_ts)+\n",
    "    autolayer(ses_model_all,series  = 'Simple Exponential Smoothing',PI = F, size = 1.1) +\n",
    "    autolayer(holt_damp_model_all, series = 'Holt Damped Model', PI = F, size = 1.1)+\n",
    "    autolayer(hw_additive_all, series = 'Holt Winter Additive Model', PI =F, size = 1.1)+\n",
    "    autolayer(hw_multiplicative_all, series = 'Holt Winter Multiplicative Model', PI = F, size=1.1)+\n",
    "labs(title=\"Exponential Smoothing model Visualization - Symphony\")+theme_bw()"
   ]
  },
  {
   "cell_type": "markdown",
   "metadata": {},
   "source": [
    "### Step10: obtain forecast values on the whole dataset"
   ]
  },
  {
   "cell_type": "code",
   "execution_count": 196,
   "metadata": {},
   "outputs": [],
   "source": [
    "# obtain predicted value\n",
    "ses_forecast_all = forecast(ses_model_all)\n",
    "holt_forecast_all = forecast(holt_damp_model_all)\n",
    "hw_additive_forecast_all = forecast(hw_additive_all)\n",
    "hw_multiplicative_forecast_all = forecast(hw_multiplicative_all)"
   ]
  },
  {
   "cell_type": "code",
   "execution_count": 197,
   "metadata": {},
   "outputs": [
    {
     "data": {
      "text/plain": [
       "         Point Forecast     Lo 80    Hi 80      Lo 95    Hi 95\n",
       "Jan 2020       833.1178 -365.0619 2031.298  -999.3399 2665.576\n",
       "Feb 2020       833.1178 -371.0379 2037.273 -1008.4794 2674.715\n",
       "Mar 2020       833.1178 -376.9844 2043.220 -1017.5737 2683.809\n",
       "Apr 2020       833.1178 -382.9018 2049.137 -1026.6236 2692.859\n",
       "May 2020       833.1178 -388.7905 2055.026 -1035.6297 2701.865\n",
       "Jun 2020       833.1178 -394.6510 2060.887 -1044.5926 2710.828\n",
       "Jul 2020       833.1178 -400.4837 2066.719 -1053.5129 2719.748\n",
       "Aug 2020       833.1178 -406.2889 2072.525 -1062.3912 2728.627\n",
       "Sep 2020       833.1178 -412.0670 2078.303 -1071.2281 2737.464\n",
       "Oct 2020       833.1178 -417.8185 2084.054 -1080.0242 2746.260"
      ]
     },
     "metadata": {},
     "output_type": "display_data"
    }
   ],
   "source": [
    "ses_forecast_all"
   ]
  },
  {
   "cell_type": "code",
   "execution_count": 198,
   "metadata": {},
   "outputs": [
    {
     "data": {
      "text/plain": [
       "         Point Forecast      Lo 80    Hi 80     Lo 95    Hi 95\n",
       "Jan 2020       166.1625  -881.3242 1213.649 -1435.830 1768.155\n",
       "Feb 2020       167.2607 -1314.1047 1648.626 -2098.292 2432.814\n",
       "Mar 2020       168.2928 -1646.0535 1982.639 -2606.510 2943.096\n",
       "Apr 2020       169.2629 -1925.8370 2264.363 -3034.916 3373.442\n",
       "May 2020       170.1746 -2172.3040 2512.653 -3412.337 3752.686\n",
       "Jun 2020       171.0315 -2395.1191 2737.182 -3753.557 4095.620\n",
       "Jul 2020       171.8369 -2600.0224 2943.696 -4067.356 4411.030\n",
       "Aug 2020       172.5939 -2790.7523 3135.940 -4359.453 4704.641\n",
       "Sep 2020       173.3054 -2969.9050 3316.516 -4633.820 4980.431\n",
       "Oct 2020       173.9741 -3139.3699 3487.318 -4893.348 5241.296"
      ]
     },
     "metadata": {},
     "output_type": "display_data"
    }
   ],
   "source": [
    "holt_forecast_all"
   ]
  },
  {
   "cell_type": "code",
   "execution_count": 199,
   "metadata": {},
   "outputs": [
    {
     "data": {
      "text/plain": [
       "         Point Forecast      Lo 80    Hi 80      Lo 95     Hi 95\n",
       "Jan 2020      772.33439  -874.1616 2418.830  -1745.764  3290.433\n",
       "Feb 2020      -55.60846 -2141.1306 2029.914  -3245.139  3133.922\n",
       "Mar 2020     -279.07536 -2726.1554 2168.005  -4021.561  3463.411\n",
       "Apr 2020     -321.62351 -3083.3822 2440.135  -4545.369  3902.122\n",
       "May 2020     -347.44777 -3391.5737 2696.678  -5003.037  4308.141\n",
       "Jun 2020     -407.82424 -3710.3005 2894.652  -5458.526  4642.877\n",
       "Jul 2020     -573.98955 -4116.0548 2968.076  -5991.111  4843.132\n",
       "Aug 2020     -635.26350 -4401.7355 3131.209  -6395.585  5125.058\n",
       "Sep 2020     -635.05019 -4613.3142 3343.214  -6719.280  5449.180\n",
       "Oct 2020     -710.33838 -4889.6958 3469.019  -7102.114  5681.437\n",
       "Nov 2020     -261.42426 -4632.6513 4109.803  -6946.639  6423.791\n",
       "Dec 2020      413.32433 -4141.7127 4968.361  -6553.004  7379.652\n",
       "Jan 2021      820.48839 -3911.2815 5552.258  -6416.129  8057.106\n",
       "Feb 2021      -12.07937 -4914.1832 4890.024  -7509.200  7485.041\n",
       "Mar 2021     -239.72697 -5306.4518 4826.998  -7988.614  7509.160\n",
       "Apr 2021     -286.05430 -5512.2261 4940.118  -8278.794  7706.686\n",
       "May 2021     -315.29477 -5696.1987 5065.609  -8544.677  7914.088\n",
       "Jun 2021     -378.75934 -5910.0755 5152.557  -8838.177  8080.659\n",
       "Jul 2021     -547.71616 -6225.4673 5130.035  -9231.087  8135.655\n",
       "Aug 2021     -611.51351 -6432.0220 5208.995  -9513.213  8290.186\n",
       "Sep 2021     -613.58124 -6573.4334 5346.271  -9728.389  8501.226\n",
       "Oct 2021     -690.93139 -6786.9470 5405.084 -10013.983  8632.120\n",
       "Nov 2021     -243.88120 -6473.0882 5985.326  -9770.631  9282.869\n",
       "Dec 2021      429.18249 -5930.4304 6788.795  -9297.006 10155.371"
      ]
     },
     "metadata": {},
     "output_type": "display_data"
    }
   ],
   "source": [
    "hw_additive_forecast_all"
   ]
  },
  {
   "cell_type": "code",
   "execution_count": 200,
   "metadata": {},
   "outputs": [
    {
     "data": {
      "text/plain": [
       "         Point Forecast         Lo 80        Hi 80         Lo 95        Hi 95\n",
       "Jan 2020      -200.6850 -3.623559e+03 3.222189e+03 -5.435519e+03 5.034149e+03\n",
       "Feb 2020      -900.5313 -7.480483e+04 7.300377e+04 -1.139274e+05 1.121263e+05\n",
       "Mar 2020      -237.0940 -1.115516e+05 1.110774e+05 -1.704780e+05 1.700038e+05\n",
       "Apr 2020      -270.9749 -7.962949e+05 7.957530e+05 -1.217685e+06 1.217143e+06\n",
       "May 2020      -258.7768 -5.014624e+06 5.014106e+06 -7.669068e+06 7.668550e+06\n",
       "Jun 2020      -309.4480 -4.095146e+07 4.095084e+07 -6.262969e+07 6.262907e+07\n",
       "Jul 2020      -698.1471 -6.467047e+08 6.467033e+08 -9.890491e+08 9.890477e+08\n",
       "Aug 2020      -250.6531 -1.655327e+09 1.655326e+09 -2.531604e+09 2.531603e+09\n",
       "Sep 2020      -206.9924 -9.885283e+09 9.885283e+09 -1.511824e+10 1.511824e+10\n",
       "Oct 2020       374.4942 -1.308048e+11 1.308048e+11 -2.000487e+11 2.000487e+11\n",
       "Nov 2020      -926.8432 -2.389690e+12 2.389690e+12 -3.654715e+12 3.654715e+12\n",
       "Dec 2020     -2826.6237 -5.421195e+13 5.421195e+13 -8.291002e+13 8.291002e+13\n",
       "Jan 2021     -2683.6613 -3.528160e+14 3.528160e+14 -5.395854e+14 5.395854e+14\n",
       "Feb 2021     -9214.4643 -7.246138e+15 7.246138e+15 -1.108201e+16 1.108201e+16\n",
       "Mar 2021     -2118.4554 -1.089981e+16 1.089981e+16 -1.666982e+16 1.666982e+16\n",
       "Apr 2021     -2229.2124 -7.794367e+16 7.794367e+16 -1.192046e+17 1.192046e+17\n",
       "May 2021     -2013.3673 -4.909874e+17 4.909874e+17 -7.509005e+17 7.509005e+17\n",
       "Jun 2021     -2312.6361 -4.009780e+18 4.009780e+18 -6.132429e+18 6.132429e+18\n",
       "Jul 2021     -5061.2026 -6.332278e+19 6.332278e+19 -9.684384e+19 9.684384e+19\n",
       "Aug 2021     -1774.3458 -1.620832e+20 1.620832e+20 -2.478849e+20 2.478849e+20\n",
       "Sep 2021     -1437.4884 -9.679291e+20 9.679291e+20 -1.480320e+21 1.480320e+21\n",
       "Oct 2021      2560.1417 -1.280791e+22 1.280791e+22 -1.958800e+22 1.958800e+22\n",
       "Nov 2021     -6253.3651 -2.339893e+23 2.339893e+23 -3.578558e+23 3.578558e+23\n",
       "Dec 2021    -18859.4906 -5.308227e+24 5.308227e+24 -8.118233e+24 8.118233e+24"
      ]
     },
     "metadata": {},
     "output_type": "display_data"
    }
   ],
   "source": [
    "hw_multiplicative_forecast_all"
   ]
  },
  {
   "cell_type": "markdown",
   "metadata": {},
   "source": [
    "### Step 11: obtain the accuracy value for the constructed models"
   ]
  },
  {
   "cell_type": "code",
   "execution_count": 201,
   "metadata": {},
   "outputs": [
    {
     "data": {
      "text/html": [
       "<table>\n",
       "<thead><tr><th></th><th scope=col>ME</th><th scope=col>RMSE</th><th scope=col>MAE</th><th scope=col>MPE</th><th scope=col>MAPE</th><th scope=col>MASE</th><th scope=col>ACF1</th><th scope=col>Theil's U</th></tr></thead>\n",
       "<tbody>\n",
       "\t<tr><th scope=row>Training set</th><td>339.8700 </td><td> 788.1529</td><td>397.9668 </td><td>-74.80680</td><td>132.0993 </td><td>0.2579733</td><td>0.6062079</td><td>      NA </td></tr>\n",
       "\t<tr><th scope=row>Test set</th><td>592.3062 </td><td>1168.4548</td><td>859.5095 </td><td>-57.61935</td><td>125.3601 </td><td>0.5571583</td><td>0.6643006</td><td>2.804044 </td></tr>\n",
       "</tbody>\n",
       "</table>\n"
      ],
      "text/latex": [
       "\\begin{tabular}{r|llllllll}\n",
       "  & ME & RMSE & MAE & MPE & MAPE & MASE & ACF1 & Theil's U\\\\\n",
       "\\hline\n",
       "\tTraining set & 339.8700  &  788.1529 & 397.9668  & -74.80680 & 132.0993  & 0.2579733 & 0.6062079 &       NA \\\\\n",
       "\tTest set & 592.3062  & 1168.4548 & 859.5095  & -57.61935 & 125.3601  & 0.5571583 & 0.6643006 & 2.804044 \\\\\n",
       "\\end{tabular}\n"
      ],
      "text/markdown": [
       "\n",
       "| <!--/--> | ME | RMSE | MAE | MPE | MAPE | MASE | ACF1 | Theil's U |\n",
       "|---|---|---|---|---|---|---|---|---|\n",
       "| Training set | 339.8700  |  788.1529 | 397.9668  | -74.80680 | 132.0993  | 0.2579733 | 0.6062079 |       NA  |\n",
       "| Test set | 592.3062  | 1168.4548 | 859.5095  | -57.61935 | 125.3601  | 0.5571583 | 0.6643006 | 2.804044  |\n",
       "\n"
      ],
      "text/plain": [
       "             ME       RMSE      MAE      MPE       MAPE     MASE      ACF1     \n",
       "Training set 339.8700  788.1529 397.9668 -74.80680 132.0993 0.2579733 0.6062079\n",
       "Test set     592.3062 1168.4548 859.5095 -57.61935 125.3601 0.5571583 0.6643006\n",
       "             Theil's U\n",
       "Training set       NA \n",
       "Test set     2.804044 "
      ]
     },
     "metadata": {},
     "output_type": "display_data"
    }
   ],
   "source": [
    "# ses model\n",
    "ses_accuracy = accuracy(ses_forecast,x=sales_ts) # accuracy on train and test sets\n",
    "ses_accuracy"
   ]
  },
  {
   "cell_type": "code",
   "execution_count": 202,
   "metadata": {},
   "outputs": [
    {
     "data": {
      "text/html": [
       "<table>\n",
       "<thead><tr><th></th><th scope=col>ME</th><th scope=col>RMSE</th><th scope=col>MAE</th><th scope=col>MPE</th><th scope=col>MAPE</th><th scope=col>MASE</th><th scope=col>ACF1</th><th scope=col>Theil's U</th></tr></thead>\n",
       "<tbody>\n",
       "\t<tr><th scope=row>Training set</th><td> 23.40442 </td><td> 587.5557 </td><td>354.6743  </td><td>-101.57040</td><td>160.1691  </td><td>0.2299099 </td><td>0.2206880 </td><td>      NA  </td></tr>\n",
       "\t<tr><th scope=row>Test set</th><td>675.41976 </td><td>1220.0328 </td><td>893.0061  </td><td> -38.46737</td><td>115.1136  </td><td>0.5788717 </td><td>0.6650487 </td><td>2.430239  </td></tr>\n",
       "</tbody>\n",
       "</table>\n"
      ],
      "text/latex": [
       "\\begin{tabular}{r|llllllll}\n",
       "  & ME & RMSE & MAE & MPE & MAPE & MASE & ACF1 & Theil's U\\\\\n",
       "\\hline\n",
       "\tTraining set &  23.40442  &  587.5557  & 354.6743   & -101.57040 & 160.1691   & 0.2299099  & 0.2206880  &       NA  \\\\\n",
       "\tTest set & 675.41976  & 1220.0328  & 893.0061   &  -38.46737 & 115.1136   & 0.5788717  & 0.6650487  & 2.430239  \\\\\n",
       "\\end{tabular}\n"
      ],
      "text/markdown": [
       "\n",
       "| <!--/--> | ME | RMSE | MAE | MPE | MAPE | MASE | ACF1 | Theil's U |\n",
       "|---|---|---|---|---|---|---|---|---|\n",
       "| Training set |  23.40442  |  587.5557  | 354.6743   | -101.57040 | 160.1691   | 0.2299099  | 0.2206880  |       NA   |\n",
       "| Test set | 675.41976  | 1220.0328  | 893.0061   |  -38.46737 | 115.1136   | 0.5788717  | 0.6650487  | 2.430239   |\n",
       "\n"
      ],
      "text/plain": [
       "             ME        RMSE      MAE      MPE        MAPE     MASE     \n",
       "Training set  23.40442  587.5557 354.6743 -101.57040 160.1691 0.2299099\n",
       "Test set     675.41976 1220.0328 893.0061  -38.46737 115.1136 0.5788717\n",
       "             ACF1      Theil's U\n",
       "Training set 0.2206880       NA \n",
       "Test set     0.6650487 2.430239 "
      ]
     },
     "metadata": {},
     "output_type": "display_data"
    }
   ],
   "source": [
    "# holt damped model\n",
    "holt_damped_accuracy = accuracy(holt_forecast, x= sales_ts)\n",
    "holt_damped_accuracy"
   ]
  },
  {
   "cell_type": "code",
   "execution_count": 203,
   "metadata": {},
   "outputs": [
    {
     "data": {
      "text/html": [
       "<table>\n",
       "<thead><tr><th></th><th scope=col>ME</th><th scope=col>RMSE</th><th scope=col>MAE</th><th scope=col>MPE</th><th scope=col>MAPE</th><th scope=col>MASE</th><th scope=col>ACF1</th><th scope=col>Theil's U</th></tr></thead>\n",
       "<tbody>\n",
       "\t<tr><th scope=row>Training set</th><td>-73.33333</td><td> 640.1091</td><td> 490.2667</td><td>-650.9048</td><td>671.0680 </td><td>0.3178047</td><td>0.5582190</td><td>      NA </td></tr>\n",
       "\t<tr><th scope=row>Test set</th><td>-97.88889</td><td>1153.2631</td><td>1037.0000</td><td>-269.3782</td><td>305.5841 </td><td>0.6722126</td><td>0.6736271</td><td>8.440268 </td></tr>\n",
       "</tbody>\n",
       "</table>\n"
      ],
      "text/latex": [
       "\\begin{tabular}{r|llllllll}\n",
       "  & ME & RMSE & MAE & MPE & MAPE & MASE & ACF1 & Theil's U\\\\\n",
       "\\hline\n",
       "\tTraining set & -73.33333 &  640.1091 &  490.2667 & -650.9048 & 671.0680  & 0.3178047 & 0.5582190 &       NA \\\\\n",
       "\tTest set & -97.88889 & 1153.2631 & 1037.0000 & -269.3782 & 305.5841  & 0.6722126 & 0.6736271 & 8.440268 \\\\\n",
       "\\end{tabular}\n"
      ],
      "text/markdown": [
       "\n",
       "| <!--/--> | ME | RMSE | MAE | MPE | MAPE | MASE | ACF1 | Theil's U |\n",
       "|---|---|---|---|---|---|---|---|---|\n",
       "| Training set | -73.33333 |  640.1091 |  490.2667 | -650.9048 | 671.0680  | 0.3178047 | 0.5582190 |       NA  |\n",
       "| Test set | -97.88889 | 1153.2631 | 1037.0000 | -269.3782 | 305.5841  | 0.6722126 | 0.6736271 | 8.440268  |\n",
       "\n"
      ],
      "text/plain": [
       "             ME        RMSE      MAE       MPE       MAPE     MASE     \n",
       "Training set -73.33333  640.1091  490.2667 -650.9048 671.0680 0.3178047\n",
       "Test set     -97.88889 1153.2631 1037.0000 -269.3782 305.5841 0.6722126\n",
       "             ACF1      Theil's U\n",
       "Training set 0.5582190       NA \n",
       "Test set     0.6736271 8.440268 "
      ]
     },
     "metadata": {},
     "output_type": "display_data"
    }
   ],
   "source": [
    "# hw_additive\n",
    "hw_additive_accuracy = accuracy(hw_additive_forecast, x = sales_ts)\n",
    "hw_additive_accuracy"
   ]
  },
  {
   "cell_type": "code",
   "execution_count": 204,
   "metadata": {},
   "outputs": [
    {
     "data": {
      "text/html": [
       "<table>\n",
       "<thead><tr><th></th><th scope=col>ME</th><th scope=col>RMSE</th><th scope=col>MAE</th><th scope=col>MPE</th><th scope=col>MAPE</th><th scope=col>MASE</th><th scope=col>ACF1</th><th scope=col>Theil's U</th></tr></thead>\n",
       "<tbody>\n",
       "\t<tr><th scope=row>Training set</th><td>-73.33333</td><td> 640.1091</td><td> 490.2667</td><td>-650.9048</td><td>671.0680 </td><td>0.3178047</td><td>0.5582190</td><td>      NA </td></tr>\n",
       "\t<tr><th scope=row>Test set</th><td>-97.88889</td><td>1153.2631</td><td>1037.0000</td><td>-269.3782</td><td>305.5841 </td><td>0.6722126</td><td>0.6736271</td><td>8.440268 </td></tr>\n",
       "</tbody>\n",
       "</table>\n"
      ],
      "text/latex": [
       "\\begin{tabular}{r|llllllll}\n",
       "  & ME & RMSE & MAE & MPE & MAPE & MASE & ACF1 & Theil's U\\\\\n",
       "\\hline\n",
       "\tTraining set & -73.33333 &  640.1091 &  490.2667 & -650.9048 & 671.0680  & 0.3178047 & 0.5582190 &       NA \\\\\n",
       "\tTest set & -97.88889 & 1153.2631 & 1037.0000 & -269.3782 & 305.5841  & 0.6722126 & 0.6736271 & 8.440268 \\\\\n",
       "\\end{tabular}\n"
      ],
      "text/markdown": [
       "\n",
       "| <!--/--> | ME | RMSE | MAE | MPE | MAPE | MASE | ACF1 | Theil's U |\n",
       "|---|---|---|---|---|---|---|---|---|\n",
       "| Training set | -73.33333 |  640.1091 |  490.2667 | -650.9048 | 671.0680  | 0.3178047 | 0.5582190 |       NA  |\n",
       "| Test set | -97.88889 | 1153.2631 | 1037.0000 | -269.3782 | 305.5841  | 0.6722126 | 0.6736271 | 8.440268  |\n",
       "\n"
      ],
      "text/plain": [
       "             ME        RMSE      MAE       MPE       MAPE     MASE     \n",
       "Training set -73.33333  640.1091  490.2667 -650.9048 671.0680 0.3178047\n",
       "Test set     -97.88889 1153.2631 1037.0000 -269.3782 305.5841 0.6722126\n",
       "             ACF1      Theil's U\n",
       "Training set 0.5582190       NA \n",
       "Test set     0.6736271 8.440268 "
      ]
     },
     "metadata": {},
     "output_type": "display_data"
    }
   ],
   "source": [
    "# hw_multiplicative\n",
    "hw_multiplicative_accuracy = accuracy(hw_multiplicative_forecast, x = sales_ts)\n",
    "hw_multiplicative_accuracy"
   ]
  }
 ],
 "metadata": {
  "kernelspec": {
   "display_name": "R",
   "language": "R",
   "name": "ir"
  },
  "language_info": {
   "codemirror_mode": "r",
   "file_extension": ".r",
   "mimetype": "text/x-r-source",
   "name": "R",
   "pygments_lexer": "r",
   "version": "3.6.1"
  }
 },
 "nbformat": 4,
 "nbformat_minor": 4
}
