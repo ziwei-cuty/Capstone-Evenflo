{
 "cells": [
  {
   "cell_type": "markdown",
   "metadata": {},
   "source": [
    "# 5900 Capstone Time Series Model - Exponential Smoothing Model - Pivot with SafeMax"
   ]
  },
  {
   "cell_type": "markdown",
   "metadata": {},
   "source": [
    "### Step 1: load packages"
   ]
  },
  {
   "cell_type": "code",
   "execution_count": 2,
   "metadata": {},
   "outputs": [],
   "source": [
    "# load packages\n",
    "library(ggplot2);library(ggthemes);library(gridExtra);library(dygraphs) # For plots \n",
    "library(quantmod);library(xts);library(zoo) # For converting data into xts class objects\n",
    "library(fpp); library(fpp2) # Datasets from Forecasting text by Rob Hyndman\n",
    "library(tseries) # for a statistical test\n",
    "library(dplyr) # Data wrangling\n",
    "library(caret) # Model Training\n",
    "library(lubridate)"
   ]
  },
  {
   "cell_type": "code",
   "execution_count": 3,
   "metadata": {},
   "outputs": [],
   "source": [
    "# Forecasting Tools\n",
    "library(forecast) # Set of forecasting functions, including auto.arima"
   ]
  },
  {
   "cell_type": "code",
   "execution_count": 4,
   "metadata": {},
   "outputs": [],
   "source": [
    "# Model Evaluation\n",
    "# using the accuracy function in forecast package to provide model evaluation metrics, including ME, RMSE etc"
   ]
  },
  {
   "cell_type": "markdown",
   "metadata": {},
   "source": [
    "### Step 2: read dataset"
   ]
  },
  {
   "cell_type": "code",
   "execution_count": 5,
   "metadata": {},
   "outputs": [
    {
     "data": {
      "text/html": [
       "<table>\n",
       "<thead><tr><th scope=col>Company</th><th scope=col>Transaction.Date</th><th scope=col>Week.End.Date</th><th scope=col>Item</th><th scope=col>Item.Description</th><th scope=col>Category_Family</th><th scope=col>Category_Code</th><th scope=col>Sub_Category_Family</th><th scope=col>BRAND</th><th scope=col>Customer</th><th scope=col>...</th><th scope=col>Short.Close.Amount</th><th scope=col>Open.Qty</th><th scope=col>Open.Amount</th><th scope=col>Invoice.Qty</th><th scope=col>Invoice.Net.Amount</th><th scope=col>Invoice.Gross.Amount</th><th scope=col>POS.Qty</th><th scope=col>POS.Amount</th><th scope=col>Transaction.month</th><th scope=col>unit_price</th></tr></thead>\n",
       "<tbody>\n",
       "\t<tr><td>100                           </td><td>2019-01-01                    </td><td>2019-01-05                    </td><td>55411811                      </td><td>VIVE ELITE TS EMBRACE LINUS   </td><td>Wheeled Goods                 </td><td>Travel Systems                </td><td>Vive with Embrace             </td><td>Evenflo                       </td><td>A731D                         </td><td>...                           </td><td>0                             </td><td>0                             </td><td>0                             </td><td>0                             </td><td>0                             </td><td>0                             </td><td>0                             </td><td>0                             </td><td>1                             </td><td> 89.25                        </td></tr>\n",
       "\t<tr><td>100                           </td><td>2019-01-01                    </td><td>2019-01-05                    </td><td>37112075                      </td><td>SURERIDE SPORT HARPER         </td><td>Car Seats                     </td><td>Convertible                   </td><td>SureRide/Titan 65             </td><td>Evenflo                       </td><td>A731D                         </td><td>...                           </td><td>0                             </td><td>0                             </td><td>0                             </td><td>0                             </td><td>0                             </td><td>0                             </td><td>0                             </td><td>0                             </td><td>1                             </td><td> 72.00                        </td></tr>\n",
       "\t<tr><td>100                           </td><td>2019-01-01                    </td><td>2019-01-05                    </td><td>34912204                      </td><td>MAESTRO SPORT WHITNEY         </td><td>Car Seats                     </td><td>Booster                       </td><td>Maestro Sport                 </td><td>Evenflo                       </td><td>A731D                         </td><td>...                           </td><td>0                             </td><td>0                             </td><td>0                             </td><td>0                             </td><td>0                             </td><td>0                             </td><td>0                             </td><td>0                             </td><td>1                             </td><td> 61.69                        </td></tr>\n",
       "\t<tr><td>100                           </td><td>2019-01-01                    </td><td>2019-01-05                    </td><td>34812023                      </td><td>SONUS65 ROCCO RED             </td><td>Car Seats                     </td><td>Convertible                   </td><td>Sonus                         </td><td>Evenflo                       </td><td>A731D                         </td><td>...                           </td><td>0                             </td><td>0                             </td><td>0                             </td><td>0                             </td><td>0                             </td><td>0                             </td><td>0                             </td><td>0                             </td><td>1                             </td><td> 68.25                        </td></tr>\n",
       "\t<tr><td>100                           </td><td>2019-01-01                    </td><td>2019-01-05                    </td><td>13812254                      </td><td>PIVOT XPAND STROLLER PERCHERON</td><td>Wheeled Goods                 </td><td>Strollers                     </td><td>Xpand                         </td><td>Evenflo                       </td><td>A731D                         </td><td>...                           </td><td>0                             </td><td>0                             </td><td>0                             </td><td>0                             </td><td>0                             </td><td>0                             </td><td>0                             </td><td>0                             </td><td>1                             </td><td>181.99                        </td></tr>\n",
       "\t<tr><td>100                           </td><td>2019-01-01                    </td><td>2019-01-05                    </td><td>39212241                      </td><td>EVERYSTAGE DLX CANYONS        </td><td>Car Seats                     </td><td>Convertible                   </td><td>Everystage                    </td><td>Evenflo                       </td><td>A731D                         </td><td>...                           </td><td>0                             </td><td>0                             </td><td>0                             </td><td>0                             </td><td>0                             </td><td>0                             </td><td>0                             </td><td>0                             </td><td>1                             </td><td>154.79                        </td></tr>\n",
       "</tbody>\n",
       "</table>\n"
      ],
      "text/latex": [
       "\\begin{tabular}{r|llllllllllllllllllllllllllll}\n",
       " Company & Transaction.Date & Week.End.Date & Item & Item.Description & Category\\_Family & Category\\_Code & Sub\\_Category\\_Family & BRAND & Customer & ... & Short.Close.Amount & Open.Qty & Open.Amount & Invoice.Qty & Invoice.Net.Amount & Invoice.Gross.Amount & POS.Qty & POS.Amount & Transaction.month & unit\\_price\\\\\n",
       "\\hline\n",
       "\t 100                            & 2019-01-01                     & 2019-01-05                     & 55411811                       & VIVE ELITE TS EMBRACE LINUS    & Wheeled Goods                  & Travel Systems                 & Vive with Embrace              & Evenflo                        & A731D                          & ...                            & 0                              & 0                              & 0                              & 0                              & 0                              & 0                              & 0                              & 0                              & 1                              &  89.25                        \\\\\n",
       "\t 100                            & 2019-01-01                     & 2019-01-05                     & 37112075                       & SURERIDE SPORT HARPER          & Car Seats                      & Convertible                    & SureRide/Titan 65              & Evenflo                        & A731D                          & ...                            & 0                              & 0                              & 0                              & 0                              & 0                              & 0                              & 0                              & 0                              & 1                              &  72.00                        \\\\\n",
       "\t 100                            & 2019-01-01                     & 2019-01-05                     & 34912204                       & MAESTRO SPORT WHITNEY          & Car Seats                      & Booster                        & Maestro Sport                  & Evenflo                        & A731D                          & ...                            & 0                              & 0                              & 0                              & 0                              & 0                              & 0                              & 0                              & 0                              & 1                              &  61.69                        \\\\\n",
       "\t 100                            & 2019-01-01                     & 2019-01-05                     & 34812023                       & SONUS65 ROCCO RED              & Car Seats                      & Convertible                    & Sonus                          & Evenflo                        & A731D                          & ...                            & 0                              & 0                              & 0                              & 0                              & 0                              & 0                              & 0                              & 0                              & 1                              &  68.25                        \\\\\n",
       "\t 100                            & 2019-01-01                     & 2019-01-05                     & 13812254                       & PIVOT XPAND STROLLER PERCHERON & Wheeled Goods                  & Strollers                      & Xpand                          & Evenflo                        & A731D                          & ...                            & 0                              & 0                              & 0                              & 0                              & 0                              & 0                              & 0                              & 0                              & 1                              & 181.99                        \\\\\n",
       "\t 100                            & 2019-01-01                     & 2019-01-05                     & 39212241                       & EVERYSTAGE DLX CANYONS         & Car Seats                      & Convertible                    & Everystage                     & Evenflo                        & A731D                          & ...                            & 0                              & 0                              & 0                              & 0                              & 0                              & 0                              & 0                              & 0                              & 1                              & 154.79                        \\\\\n",
       "\\end{tabular}\n"
      ],
      "text/markdown": [
       "\n",
       "| Company | Transaction.Date | Week.End.Date | Item | Item.Description | Category_Family | Category_Code | Sub_Category_Family | BRAND | Customer | ... | Short.Close.Amount | Open.Qty | Open.Amount | Invoice.Qty | Invoice.Net.Amount | Invoice.Gross.Amount | POS.Qty | POS.Amount | Transaction.month | unit_price |\n",
       "|---|---|---|---|---|---|---|---|---|---|---|---|---|---|---|---|---|---|---|---|---|\n",
       "| 100                            | 2019-01-01                     | 2019-01-05                     | 55411811                       | VIVE ELITE TS EMBRACE LINUS    | Wheeled Goods                  | Travel Systems                 | Vive with Embrace              | Evenflo                        | A731D                          | ...                            | 0                              | 0                              | 0                              | 0                              | 0                              | 0                              | 0                              | 0                              | 1                              |  89.25                         |\n",
       "| 100                            | 2019-01-01                     | 2019-01-05                     | 37112075                       | SURERIDE SPORT HARPER          | Car Seats                      | Convertible                    | SureRide/Titan 65              | Evenflo                        | A731D                          | ...                            | 0                              | 0                              | 0                              | 0                              | 0                              | 0                              | 0                              | 0                              | 1                              |  72.00                         |\n",
       "| 100                            | 2019-01-01                     | 2019-01-05                     | 34912204                       | MAESTRO SPORT WHITNEY          | Car Seats                      | Booster                        | Maestro Sport                  | Evenflo                        | A731D                          | ...                            | 0                              | 0                              | 0                              | 0                              | 0                              | 0                              | 0                              | 0                              | 1                              |  61.69                         |\n",
       "| 100                            | 2019-01-01                     | 2019-01-05                     | 34812023                       | SONUS65 ROCCO RED              | Car Seats                      | Convertible                    | Sonus                          | Evenflo                        | A731D                          | ...                            | 0                              | 0                              | 0                              | 0                              | 0                              | 0                              | 0                              | 0                              | 1                              |  68.25                         |\n",
       "| 100                            | 2019-01-01                     | 2019-01-05                     | 13812254                       | PIVOT XPAND STROLLER PERCHERON | Wheeled Goods                  | Strollers                      | Xpand                          | Evenflo                        | A731D                          | ...                            | 0                              | 0                              | 0                              | 0                              | 0                              | 0                              | 0                              | 0                              | 1                              | 181.99                         |\n",
       "| 100                            | 2019-01-01                     | 2019-01-05                     | 39212241                       | EVERYSTAGE DLX CANYONS         | Car Seats                      | Convertible                    | Everystage                     | Evenflo                        | A731D                          | ...                            | 0                              | 0                              | 0                              | 0                              | 0                              | 0                              | 0                              | 0                              | 1                              | 154.79                         |\n",
       "\n"
      ],
      "text/plain": [
       "  Company Transaction.Date Week.End.Date Item    \n",
       "1 100     2019-01-01       2019-01-05    55411811\n",
       "2 100     2019-01-01       2019-01-05    37112075\n",
       "3 100     2019-01-01       2019-01-05    34912204\n",
       "4 100     2019-01-01       2019-01-05    34812023\n",
       "5 100     2019-01-01       2019-01-05    13812254\n",
       "6 100     2019-01-01       2019-01-05    39212241\n",
       "  Item.Description               Category_Family               \n",
       "1 VIVE ELITE TS EMBRACE LINUS    Wheeled Goods                 \n",
       "2 SURERIDE SPORT HARPER          Car Seats                     \n",
       "3 MAESTRO SPORT WHITNEY          Car Seats                     \n",
       "4 SONUS65 ROCCO RED              Car Seats                     \n",
       "5 PIVOT XPAND STROLLER PERCHERON Wheeled Goods                 \n",
       "6 EVERYSTAGE DLX CANYONS         Car Seats                     \n",
       "  Category_Code                  Sub_Category_Family           \n",
       "1 Travel Systems                 Vive with Embrace             \n",
       "2 Convertible                    SureRide/Titan 65             \n",
       "3 Booster                        Maestro Sport                 \n",
       "4 Convertible                    Sonus                         \n",
       "5 Strollers                      Xpand                         \n",
       "6 Convertible                    Everystage                    \n",
       "  BRAND                          Customer ... Short.Close.Amount Open.Qty\n",
       "1 Evenflo                        A731D    ... 0                  0       \n",
       "2 Evenflo                        A731D    ... 0                  0       \n",
       "3 Evenflo                        A731D    ... 0                  0       \n",
       "4 Evenflo                        A731D    ... 0                  0       \n",
       "5 Evenflo                        A731D    ... 0                  0       \n",
       "6 Evenflo                        A731D    ... 0                  0       \n",
       "  Open.Amount Invoice.Qty Invoice.Net.Amount Invoice.Gross.Amount POS.Qty\n",
       "1 0           0           0                  0                    0      \n",
       "2 0           0           0                  0                    0      \n",
       "3 0           0           0                  0                    0      \n",
       "4 0           0           0                  0                    0      \n",
       "5 0           0           0                  0                    0      \n",
       "6 0           0           0                  0                    0      \n",
       "  POS.Amount Transaction.month unit_price\n",
       "1 0          1                  89.25    \n",
       "2 0          1                  72.00    \n",
       "3 0          1                  61.69    \n",
       "4 0          1                  68.25    \n",
       "5 0          1                 181.99    \n",
       "6 0          1                 154.79    "
      ]
     },
     "metadata": {},
     "output_type": "display_data"
    }
   ],
   "source": [
    "# 2019 order dataset\n",
    "setwd('/Users/czw/Desktop')\n",
    "order = read.csv(\"order19.csv\") \n",
    "# pre-filtered dataset of items having price over 50\n",
    "# transform the data type for order - 2019\n",
    "order$Order.Qty=as.numeric(order$Order.Qty)\n",
    "order$Order.Amount = as.numeric(order$Order.Amount)\n",
    "order$Transaction.Date=as.Date(order$Transaction.Date, format='%m/%d/%Y')\n",
    "order$Transaction.month=month(as.POSIXlt(order$Transaction.Date, format=\"%m/%d/%Y\"))\n",
    "order$Week.End.Date=as.Date(order$Week.End.Date, format='%m/%d/%Y')\n",
    "order$Sub_Category_Family = as.factor(order$Sub_Category_Family)\n",
    "# add a new column for unit price\n",
    "order$unit_price = order$Order.Amount/order$Order.Qty \n",
    "# filter the dataset that only captures the items with unit price>$50\n",
    "order = order %>%\n",
    "    filter(order$unit_price>50)\n",
    "head(order)"
   ]
  },
  {
   "cell_type": "code",
   "execution_count": 6,
   "metadata": {},
   "outputs": [
    {
     "data": {
      "text/html": [
       "<table>\n",
       "<thead><tr><th scope=col>Company</th><th scope=col>Transaction.Date</th><th scope=col>Week.End.Date..EF.</th><th scope=col>Item</th><th scope=col>Item.Description</th><th scope=col>Category.Family</th><th scope=col>Category</th><th scope=col>Sub.Category</th><th scope=col>Brand</th><th scope=col>Customer.ID</th><th scope=col>...</th><th scope=col>Open.Amount</th><th scope=col>Invoice.Qty</th><th scope=col>Invoice.Gross.Amount..HC.</th><th scope=col>Invoice.Net.Amount..HC.</th><th scope=col>Invoice.Gross.Amount..USD.</th><th scope=col>Invoice.Net.Amount..USD.</th><th scope=col>POS.Qty</th><th scope=col>POS.Amount</th><th scope=col>Transaction.month</th><th scope=col>unit_price</th></tr></thead>\n",
       "<tbody>\n",
       "\t<tr><td>100                           </td><td>2018-01-01                    </td><td>2018-01-06                    </td><td>1050500                       </td><td>TOP OF STAIR EXTRA TALL BOX   </td><td>Gates                         </td><td>Wood Gates                    </td><td>105 Gates                     </td><td>Evenflo                       </td><td>A731                          </td><td>...                           </td><td> $ -                          </td><td>0                             </td><td> $ -                          </td><td>0.00                          </td><td> $ -                          </td><td> $ -                          </td><td>0                             </td><td> $ -                          </td><td>1                             </td><td>138.73333                     </td></tr>\n",
       "\t<tr><td>100                           </td><td>2018-01-01                    </td><td>2018-01-06                    </td><td>30512004                      </td><td>PROSERIES LTMX PORTLAND TWEED </td><td>Car Seats                     </td><td>Infant                        </td><td>Litemax                       </td><td>Evenflo                       </td><td>A731                          </td><td>...                           </td><td> $ -                          </td><td>0                             </td><td> $ -                          </td><td>0.00                          </td><td> $ -                          </td><td> $ -                          </td><td>0                             </td><td> $ -                          </td><td>1                             </td><td>308.66667                     </td></tr>\n",
       "\t<tr><td>100                           </td><td>2018-01-01                    </td><td>2018-01-06                    </td><td>34411927                      </td><td>SAFEMAX 3 IN 1 CRIMSON        </td><td>Car Seats                     </td><td>Booster                       </td><td>Safemax                       </td><td>Evenflo                       </td><td>A731D                         </td><td>...                           </td><td> $ -                          </td><td>0                             </td><td> $ -                          </td><td>0.00                          </td><td> $ -                          </td><td> $ -                          </td><td>0                             </td><td> $ -                          </td><td>1                             </td><td> 60.86667                     </td></tr>\n",
       "\t<tr><td>100                                                      </td><td>2018-01-01                                               </td><td>2018-01-06                                               </td><td>4448100                                                  </td><td>EMBRACE WOOD &amp; METAL GATE .COM                       </td><td><span style=white-space:pre-wrap>Gates    </span>        </td><td><span style=white-space:pre-wrap>Metal Gates     </span> </td><td><span style=white-space:pre-wrap>105 Gates        </span></td><td><span style=white-space:pre-wrap>Evenflo   </span>       </td><td>A731                                                     </td><td>...                                                      </td><td><span style=white-space:pre-wrap> $ -   </span>          </td><td>0                                                        </td><td><span style=white-space:pre-wrap> $ -   </span>          </td><td>0.00                                                     </td><td><span style=white-space:pre-wrap> $ -   </span>          </td><td><span style=white-space:pre-wrap> $ -   </span>          </td><td>0                                                        </td><td><span style=white-space:pre-wrap> $ -   </span>          </td><td>1                                                        </td><td>212.66667                                                </td></tr>\n",
       "\t<tr><td>100                           </td><td>2018-01-01                    </td><td>2018-01-06                    </td><td>4449100                       </td><td>EMBRACE CLEAR PANEL GATE .COM </td><td>Gates                         </td><td>Metal Gates                   </td><td>448 Gates                     </td><td>Evenflo                       </td><td>A731                          </td><td>...                           </td><td> $ -                          </td><td>0                             </td><td> $ -                          </td><td>0.00                          </td><td> $ -                          </td><td> $ -                          </td><td>0                             </td><td> $ -                          </td><td>1                             </td><td>212.66667                     </td></tr>\n",
       "\t<tr><td>100                           </td><td>2018-01-01                    </td><td>2018-01-06                    </td><td>60511372                      </td><td>ZOO FRIENDS EXERSAUCER DLX    </td><td>Activity                      </td><td>Activity Centers              </td><td>Exersaucer Deluxe             </td><td>Exersaucer                    </td><td>A731                          </td><td>...                           </td><td> $ -                          </td><td>0                             </td><td> $ -                          </td><td>0.00                          </td><td> $ -                          </td><td> $ -                          </td><td>0                             </td><td> $ -                          </td><td>1                             </td><td>154.88889                     </td></tr>\n",
       "</tbody>\n",
       "</table>\n"
      ],
      "text/latex": [
       "\\begin{tabular}{r|llllllllllllllllllllllllllllllll}\n",
       " Company & Transaction.Date & Week.End.Date..EF. & Item & Item.Description & Category.Family & Category & Sub.Category & Brand & Customer.ID & ... & Open.Amount & Invoice.Qty & Invoice.Gross.Amount..HC. & Invoice.Net.Amount..HC. & Invoice.Gross.Amount..USD. & Invoice.Net.Amount..USD. & POS.Qty & POS.Amount & Transaction.month & unit\\_price\\\\\n",
       "\\hline\n",
       "\t 100                            & 2018-01-01                     & 2018-01-06                     & 1050500                        & TOP OF STAIR EXTRA TALL BOX    & Gates                          & Wood Gates                     & 105 Gates                      & Evenflo                        & A731                           & ...                            &  \\$ -                         & 0                              &  \\$ -                         & 0.00                           &  \\$ -                         &  \\$ -                         & 0                              &  \\$ -                         & 1                              & 138.73333                     \\\\\n",
       "\t 100                            & 2018-01-01                     & 2018-01-06                     & 30512004                       & PROSERIES LTMX PORTLAND TWEED  & Car Seats                      & Infant                         & Litemax                        & Evenflo                        & A731                           & ...                            &  \\$ -                         & 0                              &  \\$ -                         & 0.00                           &  \\$ -                         &  \\$ -                         & 0                              &  \\$ -                         & 1                              & 308.66667                     \\\\\n",
       "\t 100                            & 2018-01-01                     & 2018-01-06                     & 34411927                       & SAFEMAX 3 IN 1 CRIMSON         & Car Seats                      & Booster                        & Safemax                        & Evenflo                        & A731D                          & ...                            &  \\$ -                         & 0                              &  \\$ -                         & 0.00                           &  \\$ -                         &  \\$ -                         & 0                              &  \\$ -                         & 1                              &  60.86667                     \\\\\n",
       "\t 100                              & 2018-01-01                       & 2018-01-06                       & 4448100                          & EMBRACE WOOD \\& METAL GATE .COM & Gates                            & Metal Gates                      & 105 Gates                        & Evenflo                          & A731                             & ...                              &  \\$ -                           & 0                                &  \\$ -                           & 0.00                             &  \\$ -                           &  \\$ -                           & 0                                &  \\$ -                           & 1                                & 212.66667                       \\\\\n",
       "\t 100                            & 2018-01-01                     & 2018-01-06                     & 4449100                        & EMBRACE CLEAR PANEL GATE .COM  & Gates                          & Metal Gates                    & 448 Gates                      & Evenflo                        & A731                           & ...                            &  \\$ -                         & 0                              &  \\$ -                         & 0.00                           &  \\$ -                         &  \\$ -                         & 0                              &  \\$ -                         & 1                              & 212.66667                     \\\\\n",
       "\t 100                            & 2018-01-01                     & 2018-01-06                     & 60511372                       & ZOO FRIENDS EXERSAUCER DLX     & Activity                       & Activity Centers               & Exersaucer Deluxe              & Exersaucer                     & A731                           & ...                            &  \\$ -                         & 0                              &  \\$ -                         & 0.00                           &  \\$ -                         &  \\$ -                         & 0                              &  \\$ -                         & 1                              & 154.88889                     \\\\\n",
       "\\end{tabular}\n"
      ],
      "text/markdown": [
       "\n",
       "| Company | Transaction.Date | Week.End.Date..EF. | Item | Item.Description | Category.Family | Category | Sub.Category | Brand | Customer.ID | ... | Open.Amount | Invoice.Qty | Invoice.Gross.Amount..HC. | Invoice.Net.Amount..HC. | Invoice.Gross.Amount..USD. | Invoice.Net.Amount..USD. | POS.Qty | POS.Amount | Transaction.month | unit_price |\n",
       "|---|---|---|---|---|---|---|---|---|---|---|---|---|---|---|---|---|---|---|---|---|\n",
       "| 100                            | 2018-01-01                     | 2018-01-06                     | 1050500                        | TOP OF STAIR EXTRA TALL BOX    | Gates                          | Wood Gates                     | 105 Gates                      | Evenflo                        | A731                           | ...                            |  $ -                           | 0                              |  $ -                           | 0.00                           |  $ -                           |  $ -                           | 0                              |  $ -                           | 1                              | 138.73333                      |\n",
       "| 100                            | 2018-01-01                     | 2018-01-06                     | 30512004                       | PROSERIES LTMX PORTLAND TWEED  | Car Seats                      | Infant                         | Litemax                        | Evenflo                        | A731                           | ...                            |  $ -                           | 0                              |  $ -                           | 0.00                           |  $ -                           |  $ -                           | 0                              |  $ -                           | 1                              | 308.66667                      |\n",
       "| 100                            | 2018-01-01                     | 2018-01-06                     | 34411927                       | SAFEMAX 3 IN 1 CRIMSON         | Car Seats                      | Booster                        | Safemax                        | Evenflo                        | A731D                          | ...                            |  $ -                           | 0                              |  $ -                           | 0.00                           |  $ -                           |  $ -                           | 0                              |  $ -                           | 1                              |  60.86667                      |\n",
       "| 100                            | 2018-01-01                     | 2018-01-06                     | 4448100                        | EMBRACE WOOD & METAL GATE .COM | Gates                          | Metal Gates                    | 105 Gates                      | Evenflo                        | A731                           | ...                            |  $ -                           | 0                              |  $ -                           | 0.00                           |  $ -                           |  $ -                           | 0                              |  $ -                           | 1                              | 212.66667                      |\n",
       "| 100                            | 2018-01-01                     | 2018-01-06                     | 4449100                        | EMBRACE CLEAR PANEL GATE .COM  | Gates                          | Metal Gates                    | 448 Gates                      | Evenflo                        | A731                           | ...                            |  $ -                           | 0                              |  $ -                           | 0.00                           |  $ -                           |  $ -                           | 0                              |  $ -                           | 1                              | 212.66667                      |\n",
       "| 100                            | 2018-01-01                     | 2018-01-06                     | 60511372                       | ZOO FRIENDS EXERSAUCER DLX     | Activity                       | Activity Centers               | Exersaucer Deluxe              | Exersaucer                     | A731                           | ...                            |  $ -                           | 0                              |  $ -                           | 0.00                           |  $ -                           |  $ -                           | 0                              |  $ -                           | 1                              | 154.88889                      |\n",
       "\n"
      ],
      "text/plain": [
       "  Company Transaction.Date Week.End.Date..EF. Item    \n",
       "1 100     2018-01-01       2018-01-06         1050500 \n",
       "2 100     2018-01-01       2018-01-06         30512004\n",
       "3 100     2018-01-01       2018-01-06         34411927\n",
       "4 100     2018-01-01       2018-01-06         4448100 \n",
       "5 100     2018-01-01       2018-01-06         4449100 \n",
       "6 100     2018-01-01       2018-01-06         60511372\n",
       "  Item.Description               Category.Family Category        \n",
       "1 TOP OF STAIR EXTRA TALL BOX    Gates           Wood Gates      \n",
       "2 PROSERIES LTMX PORTLAND TWEED  Car Seats       Infant          \n",
       "3 SAFEMAX 3 IN 1 CRIMSON         Car Seats       Booster         \n",
       "4 EMBRACE WOOD & METAL GATE .COM Gates           Metal Gates     \n",
       "5 EMBRACE CLEAR PANEL GATE .COM  Gates           Metal Gates     \n",
       "6 ZOO FRIENDS EXERSAUCER DLX     Activity        Activity Centers\n",
       "  Sub.Category      Brand      Customer.ID ... Open.Amount Invoice.Qty\n",
       "1 105 Gates         Evenflo    A731        ...  $ -        0          \n",
       "2 Litemax           Evenflo    A731        ...  $ -        0          \n",
       "3 Safemax           Evenflo    A731D       ...  $ -        0          \n",
       "4 105 Gates         Evenflo    A731        ...  $ -        0          \n",
       "5 448 Gates         Evenflo    A731        ...  $ -        0          \n",
       "6 Exersaucer Deluxe Exersaucer A731        ...  $ -        0          \n",
       "  Invoice.Gross.Amount..HC. Invoice.Net.Amount..HC. Invoice.Gross.Amount..USD.\n",
       "1  $ -                      0.00                     $ -                      \n",
       "2  $ -                      0.00                     $ -                      \n",
       "3  $ -                      0.00                     $ -                      \n",
       "4  $ -                      0.00                     $ -                      \n",
       "5  $ -                      0.00                     $ -                      \n",
       "6  $ -                      0.00                     $ -                      \n",
       "  Invoice.Net.Amount..USD. POS.Qty POS.Amount Transaction.month unit_price\n",
       "1  $ -                     0        $ -       1                 138.73333 \n",
       "2  $ -                     0        $ -       1                 308.66667 \n",
       "3  $ -                     0        $ -       1                  60.86667 \n",
       "4  $ -                     0        $ -       1                 212.66667 \n",
       "5  $ -                     0        $ -       1                 212.66667 \n",
       "6  $ -                     0        $ -       1                 154.88889 "
      ]
     },
     "metadata": {},
     "output_type": "display_data"
    }
   ],
   "source": [
    "# 2018 order dataset\n",
    "setwd('/Users/czw/Desktop')\n",
    "order2=read.csv(\"order18.csv\") \n",
    "# transform the data type for order - 2018\n",
    "order2$Order.Qty=as.numeric(order2$Order.Qty)\n",
    "order2$Order.Amount=as.numeric(order2$Order.Amount)\n",
    "order2$Transaction.Date=as.Date(order2$Transaction.Date, format='%d-%B-%y')\n",
    "order2$Transaction.month=month(as.POSIXlt(order2$Transaction.Date, format=\"%d-%B-%y\"))\n",
    "order2$Week.End.Date..EF.=as.Date(order2$Week.End.Date..EF., format='%d-%B-%y')\n",
    "order2$Sub.Category = as.factor(order2$Sub.Category)\n",
    "# add a new column for unit price\n",
    "order2$unit_price = order2$Order.Amount/order2$Order.Qty\n",
    "# filter the dataset that only captures the items with unit price>$50\n",
    "order2 = order2 %>%\n",
    "    filter(order2$unit_price>50)\n",
    "head(order2)"
   ]
  },
  {
   "cell_type": "markdown",
   "metadata": {},
   "source": [
    "### Step 3: Visualize the Historical Sales"
   ]
  },
  {
   "cell_type": "code",
   "execution_count": 7,
   "metadata": {},
   "outputs": [
    {
     "data": {
      "text/html": [
       "<table>\n",
       "<thead><tr><th scope=col>Company</th><th scope=col>Transaction.Date</th><th scope=col>Week.End.Date</th><th scope=col>Item</th><th scope=col>Item.Description</th><th scope=col>Category_Family</th><th scope=col>Category_Code</th><th scope=col>Sub_Category_Family</th><th scope=col>BRAND</th><th scope=col>Customer</th><th scope=col>...</th><th scope=col>Short.Close.Amount</th><th scope=col>Open.Qty</th><th scope=col>Open.Amount</th><th scope=col>Invoice.Qty</th><th scope=col>Invoice.Net.Amount</th><th scope=col>Invoice.Gross.Amount</th><th scope=col>POS.Qty</th><th scope=col>POS.Amount</th><th scope=col>Transaction.month</th><th scope=col>unit_price</th></tr></thead>\n",
       "<tbody>\n",
       "\t<tr><td>100                           </td><td>2019-01-03                    </td><td>2019-01-05                    </td><td>56012217                      </td><td>PIVOT TS SAFEMAX DUSTY ROSE   </td><td>Wheeled Goods                 </td><td>Travel Systems                </td><td>Pivot with SafeMax            </td><td>Evenflo                       </td><td>A731D                         </td><td>...                           </td><td>0                             </td><td>0                             </td><td>0                             </td><td>1                             </td><td>190.56                        </td><td>190.56                        </td><td>0                             </td><td>0                             </td><td>1                             </td><td>190.56                        </td></tr>\n",
       "\t<tr><td>100                           </td><td>2019-01-09                    </td><td>2019-01-12                    </td><td>56012215                      </td><td>PIVOT TS SAFEMAX NAVY         </td><td>Wheeled Goods                 </td><td>Travel Systems                </td><td>Pivot with SafeMax            </td><td>Evenflo                       </td><td>A731                          </td><td>...                           </td><td>0                             </td><td>0                             </td><td>0                             </td><td>0                             </td><td>  0.00                        </td><td>  0.00                        </td><td>0                             </td><td>0                             </td><td>1                             </td><td>181.49                        </td></tr>\n",
       "\t<tr><td>100                           </td><td>2019-01-09                    </td><td>2019-01-12                    </td><td>56011993                      </td><td>PIVOT MOD TS SFMX ICS SNDSTNE </td><td>Wheeled Goods                 </td><td>Travel Systems                </td><td>Pivot with SafeMax            </td><td>Evenflo                       </td><td>A731                          </td><td>...                           </td><td>0                             </td><td>0                             </td><td>0                             </td><td>0                             </td><td>  0.00                        </td><td>  0.00                        </td><td>0                             </td><td>0                             </td><td>1                             </td><td>181.49                        </td></tr>\n",
       "\t<tr><td>100                           </td><td>2019-01-10                    </td><td>2019-01-12                    </td><td>56012217                      </td><td>PIVOT TS SAFEMAX DUSTY ROSE   </td><td>Wheeled Goods                 </td><td>Travel Systems                </td><td>Pivot with SafeMax            </td><td>Evenflo                       </td><td>A731D                         </td><td>...                           </td><td>0                             </td><td>0                             </td><td>0                             </td><td>1                             </td><td>190.56                        </td><td>190.56                        </td><td>0                             </td><td>0                             </td><td>1                             </td><td>190.56                        </td></tr>\n",
       "\t<tr><td>100                           </td><td>2019-01-11                    </td><td>2019-01-12                    </td><td>56012217                      </td><td>PIVOT TS SAFEMAX DUSTY ROSE   </td><td>Wheeled Goods                 </td><td>Travel Systems                </td><td>Pivot with SafeMax            </td><td>Evenflo                       </td><td>A731D                         </td><td>...                           </td><td>0                             </td><td>0                             </td><td>0                             </td><td>1                             </td><td>190.56                        </td><td>190.56                        </td><td>0                             </td><td>0                             </td><td>1                             </td><td>190.56                        </td></tr>\n",
       "\t<tr><td>100                           </td><td>2019-01-11                    </td><td>2019-01-12                    </td><td>56011993                      </td><td>PIVOT MOD TS SFMX ICS SNDSTNE </td><td>Wheeled Goods                 </td><td>Travel Systems                </td><td>Pivot with SafeMax            </td><td>Evenflo                       </td><td>A731                          </td><td>...                           </td><td>0                             </td><td>0                             </td><td>0                             </td><td>0                             </td><td>  0.00                        </td><td>  0.00                        </td><td>0                             </td><td>0                             </td><td>1                             </td><td>181.49                        </td></tr>\n",
       "</tbody>\n",
       "</table>\n"
      ],
      "text/latex": [
       "\\begin{tabular}{r|llllllllllllllllllllllllllll}\n",
       " Company & Transaction.Date & Week.End.Date & Item & Item.Description & Category\\_Family & Category\\_Code & Sub\\_Category\\_Family & BRAND & Customer & ... & Short.Close.Amount & Open.Qty & Open.Amount & Invoice.Qty & Invoice.Net.Amount & Invoice.Gross.Amount & POS.Qty & POS.Amount & Transaction.month & unit\\_price\\\\\n",
       "\\hline\n",
       "\t 100                            & 2019-01-03                     & 2019-01-05                     & 56012217                       & PIVOT TS SAFEMAX DUSTY ROSE    & Wheeled Goods                  & Travel Systems                 & Pivot with SafeMax             & Evenflo                        & A731D                          & ...                            & 0                              & 0                              & 0                              & 1                              & 190.56                         & 190.56                         & 0                              & 0                              & 1                              & 190.56                        \\\\\n",
       "\t 100                            & 2019-01-09                     & 2019-01-12                     & 56012215                       & PIVOT TS SAFEMAX NAVY          & Wheeled Goods                  & Travel Systems                 & Pivot with SafeMax             & Evenflo                        & A731                           & ...                            & 0                              & 0                              & 0                              & 0                              &   0.00                         &   0.00                         & 0                              & 0                              & 1                              & 181.49                        \\\\\n",
       "\t 100                            & 2019-01-09                     & 2019-01-12                     & 56011993                       & PIVOT MOD TS SFMX ICS SNDSTNE  & Wheeled Goods                  & Travel Systems                 & Pivot with SafeMax             & Evenflo                        & A731                           & ...                            & 0                              & 0                              & 0                              & 0                              &   0.00                         &   0.00                         & 0                              & 0                              & 1                              & 181.49                        \\\\\n",
       "\t 100                            & 2019-01-10                     & 2019-01-12                     & 56012217                       & PIVOT TS SAFEMAX DUSTY ROSE    & Wheeled Goods                  & Travel Systems                 & Pivot with SafeMax             & Evenflo                        & A731D                          & ...                            & 0                              & 0                              & 0                              & 1                              & 190.56                         & 190.56                         & 0                              & 0                              & 1                              & 190.56                        \\\\\n",
       "\t 100                            & 2019-01-11                     & 2019-01-12                     & 56012217                       & PIVOT TS SAFEMAX DUSTY ROSE    & Wheeled Goods                  & Travel Systems                 & Pivot with SafeMax             & Evenflo                        & A731D                          & ...                            & 0                              & 0                              & 0                              & 1                              & 190.56                         & 190.56                         & 0                              & 0                              & 1                              & 190.56                        \\\\\n",
       "\t 100                            & 2019-01-11                     & 2019-01-12                     & 56011993                       & PIVOT MOD TS SFMX ICS SNDSTNE  & Wheeled Goods                  & Travel Systems                 & Pivot with SafeMax             & Evenflo                        & A731                           & ...                            & 0                              & 0                              & 0                              & 0                              &   0.00                         &   0.00                         & 0                              & 0                              & 1                              & 181.49                        \\\\\n",
       "\\end{tabular}\n"
      ],
      "text/markdown": [
       "\n",
       "| Company | Transaction.Date | Week.End.Date | Item | Item.Description | Category_Family | Category_Code | Sub_Category_Family | BRAND | Customer | ... | Short.Close.Amount | Open.Qty | Open.Amount | Invoice.Qty | Invoice.Net.Amount | Invoice.Gross.Amount | POS.Qty | POS.Amount | Transaction.month | unit_price |\n",
       "|---|---|---|---|---|---|---|---|---|---|---|---|---|---|---|---|---|---|---|---|---|\n",
       "| 100                            | 2019-01-03                     | 2019-01-05                     | 56012217                       | PIVOT TS SAFEMAX DUSTY ROSE    | Wheeled Goods                  | Travel Systems                 | Pivot with SafeMax             | Evenflo                        | A731D                          | ...                            | 0                              | 0                              | 0                              | 1                              | 190.56                         | 190.56                         | 0                              | 0                              | 1                              | 190.56                         |\n",
       "| 100                            | 2019-01-09                     | 2019-01-12                     | 56012215                       | PIVOT TS SAFEMAX NAVY          | Wheeled Goods                  | Travel Systems                 | Pivot with SafeMax             | Evenflo                        | A731                           | ...                            | 0                              | 0                              | 0                              | 0                              |   0.00                         |   0.00                         | 0                              | 0                              | 1                              | 181.49                         |\n",
       "| 100                            | 2019-01-09                     | 2019-01-12                     | 56011993                       | PIVOT MOD TS SFMX ICS SNDSTNE  | Wheeled Goods                  | Travel Systems                 | Pivot with SafeMax             | Evenflo                        | A731                           | ...                            | 0                              | 0                              | 0                              | 0                              |   0.00                         |   0.00                         | 0                              | 0                              | 1                              | 181.49                         |\n",
       "| 100                            | 2019-01-10                     | 2019-01-12                     | 56012217                       | PIVOT TS SAFEMAX DUSTY ROSE    | Wheeled Goods                  | Travel Systems                 | Pivot with SafeMax             | Evenflo                        | A731D                          | ...                            | 0                              | 0                              | 0                              | 1                              | 190.56                         | 190.56                         | 0                              | 0                              | 1                              | 190.56                         |\n",
       "| 100                            | 2019-01-11                     | 2019-01-12                     | 56012217                       | PIVOT TS SAFEMAX DUSTY ROSE    | Wheeled Goods                  | Travel Systems                 | Pivot with SafeMax             | Evenflo                        | A731D                          | ...                            | 0                              | 0                              | 0                              | 1                              | 190.56                         | 190.56                         | 0                              | 0                              | 1                              | 190.56                         |\n",
       "| 100                            | 2019-01-11                     | 2019-01-12                     | 56011993                       | PIVOT MOD TS SFMX ICS SNDSTNE  | Wheeled Goods                  | Travel Systems                 | Pivot with SafeMax             | Evenflo                        | A731                           | ...                            | 0                              | 0                              | 0                              | 0                              |   0.00                         |   0.00                         | 0                              | 0                              | 1                              | 181.49                         |\n",
       "\n"
      ],
      "text/plain": [
       "  Company Transaction.Date Week.End.Date Item    \n",
       "1 100     2019-01-03       2019-01-05    56012217\n",
       "2 100     2019-01-09       2019-01-12    56012215\n",
       "3 100     2019-01-09       2019-01-12    56011993\n",
       "4 100     2019-01-10       2019-01-12    56012217\n",
       "5 100     2019-01-11       2019-01-12    56012217\n",
       "6 100     2019-01-11       2019-01-12    56011993\n",
       "  Item.Description               Category_Family               \n",
       "1 PIVOT TS SAFEMAX DUSTY ROSE    Wheeled Goods                 \n",
       "2 PIVOT TS SAFEMAX NAVY          Wheeled Goods                 \n",
       "3 PIVOT MOD TS SFMX ICS SNDSTNE  Wheeled Goods                 \n",
       "4 PIVOT TS SAFEMAX DUSTY ROSE    Wheeled Goods                 \n",
       "5 PIVOT TS SAFEMAX DUSTY ROSE    Wheeled Goods                 \n",
       "6 PIVOT MOD TS SFMX ICS SNDSTNE  Wheeled Goods                 \n",
       "  Category_Code                  Sub_Category_Family\n",
       "1 Travel Systems                 Pivot with SafeMax \n",
       "2 Travel Systems                 Pivot with SafeMax \n",
       "3 Travel Systems                 Pivot with SafeMax \n",
       "4 Travel Systems                 Pivot with SafeMax \n",
       "5 Travel Systems                 Pivot with SafeMax \n",
       "6 Travel Systems                 Pivot with SafeMax \n",
       "  BRAND                          Customer ... Short.Close.Amount Open.Qty\n",
       "1 Evenflo                        A731D    ... 0                  0       \n",
       "2 Evenflo                        A731     ... 0                  0       \n",
       "3 Evenflo                        A731     ... 0                  0       \n",
       "4 Evenflo                        A731D    ... 0                  0       \n",
       "5 Evenflo                        A731D    ... 0                  0       \n",
       "6 Evenflo                        A731     ... 0                  0       \n",
       "  Open.Amount Invoice.Qty Invoice.Net.Amount Invoice.Gross.Amount POS.Qty\n",
       "1 0           1           190.56             190.56               0      \n",
       "2 0           0             0.00               0.00               0      \n",
       "3 0           0             0.00               0.00               0      \n",
       "4 0           1           190.56             190.56               0      \n",
       "5 0           1           190.56             190.56               0      \n",
       "6 0           0             0.00               0.00               0      \n",
       "  POS.Amount Transaction.month unit_price\n",
       "1 0          1                 190.56    \n",
       "2 0          1                 181.49    \n",
       "3 0          1                 181.49    \n",
       "4 0          1                 190.56    \n",
       "5 0          1                 190.56    \n",
       "6 0          1                 181.49    "
      ]
     },
     "metadata": {},
     "output_type": "display_data"
    }
   ],
   "source": [
    "# Group by the Sub_Category_Family & transaction date, get the sum of order quantity 2019\n",
    "# Editing whitespace out of levels\n",
    "order$Sub_Category_Family = factor(trimws(order$Sub_Category_Family))\n",
    "# subcategory 1: Symphony - 2019\n",
    "order = order %>%\n",
    "    filter(order$Sub_Category_Family == 'Pivot with SafeMax')\n",
    "head(order)"
   ]
  },
  {
   "cell_type": "code",
   "execution_count": 8,
   "metadata": {},
   "outputs": [
    {
     "data": {
      "text/html": [
       "<table>\n",
       "<thead><tr><th scope=col>Company</th><th scope=col>Transaction.Date</th><th scope=col>Week.End.Date..EF.</th><th scope=col>Item</th><th scope=col>Item.Description</th><th scope=col>Category.Family</th><th scope=col>Category</th><th scope=col>Sub.Category</th><th scope=col>Brand</th><th scope=col>Customer.ID</th><th scope=col>...</th><th scope=col>Open.Amount</th><th scope=col>Invoice.Qty</th><th scope=col>Invoice.Gross.Amount..HC.</th><th scope=col>Invoice.Net.Amount..HC.</th><th scope=col>Invoice.Gross.Amount..USD.</th><th scope=col>Invoice.Net.Amount..USD.</th><th scope=col>POS.Qty</th><th scope=col>POS.Amount</th><th scope=col>Transaction.month</th><th scope=col>unit_price</th></tr></thead>\n",
       "<tbody>\n",
       "\t<tr><td>100                           </td><td>2018-02-27                    </td><td>2018-03-03                    </td><td>56011990                      </td><td>PIVOT MDTS G0179 SFMX CSUAlGRY</td><td>Wheeled Goods                 </td><td>Travel Systems                </td><td>Pivot with SafeMax            </td><td>Evenflo                       </td><td>A731D                         </td><td>...                           </td><td> $ -                          </td><td>0                             </td><td> $ -                          </td><td>0.00                          </td><td> $ -                          </td><td> $ -                          </td><td>0                             </td><td> $ -                          </td><td>2                             </td><td>92.53333                      </td></tr>\n",
       "\t<tr><td>100                           </td><td>2018-03-02                    </td><td>2018-03-03                    </td><td>56011990                      </td><td>PIVOT MDTS G0179 SFMX CSUAlGRY</td><td>Wheeled Goods                 </td><td>Travel Systems                </td><td>Pivot with SafeMax            </td><td>Evenflo                       </td><td>A731D                         </td><td>...                           </td><td> $ -                          </td><td>2                             </td><td> $ 381                        </td><td>381.12                        </td><td> $ 381                        </td><td> $ 381                        </td><td>0                             </td><td> $ -                          </td><td>3                             </td><td>96.53333                      </td></tr>\n",
       "\t<tr><td>100                           </td><td>2018-03-09                    </td><td>2018-03-10                    </td><td>56011990                      </td><td>PIVOT MDTS G0179 SFMX CSUAlGRY</td><td>Wheeled Goods                 </td><td>Travel Systems                </td><td>Pivot with SafeMax            </td><td>Evenflo                       </td><td>A731D                         </td><td>...                           </td><td> $ -                          </td><td>5                             </td><td> $ 953                        </td><td>952.80                        </td><td> $ 953                        </td><td> $ 953                        </td><td>0                             </td><td> $ -                          </td><td>3                             </td><td>96.53333                      </td></tr>\n",
       "\t<tr><td>100                           </td><td>2018-03-13                    </td><td>2018-03-17                    </td><td>56011990                      </td><td>PIVOT MDTS G0179 SFMX CSUAlGRY</td><td>Wheeled Goods                 </td><td>Travel Systems                </td><td>Pivot with SafeMax            </td><td>Evenflo                       </td><td>A731D                         </td><td>...                           </td><td> $ -                          </td><td>2                             </td><td> $ 381                        </td><td>381.12                        </td><td> $ 381                        </td><td> $ 381                        </td><td>0                             </td><td> $ -                          </td><td>3                             </td><td>96.53333                      </td></tr>\n",
       "\t<tr><td>100                           </td><td>2018-03-16                    </td><td>2018-03-17                    </td><td>56012217                      </td><td>PIVOT TS SAFEMAX DUSTY ROSE   </td><td>Wheeled Goods                 </td><td>Travel Systems                </td><td>Pivot with SafeMax            </td><td>Evenflo                       </td><td>A731D                         </td><td>...                           </td><td> $ -                          </td><td>1                             </td><td> $ 191                        </td><td>190.56                        </td><td> $ 191                        </td><td> $ 191                        </td><td>0                             </td><td> $ -                          </td><td>3                             </td><td>96.53333                      </td></tr>\n",
       "\t<tr><td>100                           </td><td>2018-03-17                    </td><td>2018-03-17                    </td><td>56012217                      </td><td>PIVOT TS SAFEMAX DUSTY ROSE   </td><td>Wheeled Goods                 </td><td>Travel Systems                </td><td>Pivot with SafeMax            </td><td>Evenflo                       </td><td>A731D                         </td><td>...                           </td><td> $ -                          </td><td>0                             </td><td> $ -                          </td><td>0.00                          </td><td> $ -                          </td><td> $ -                          </td><td>0                             </td><td> $ -                          </td><td>3                             </td><td>96.53333                      </td></tr>\n",
       "</tbody>\n",
       "</table>\n"
      ],
      "text/latex": [
       "\\begin{tabular}{r|llllllllllllllllllllllllllllllll}\n",
       " Company & Transaction.Date & Week.End.Date..EF. & Item & Item.Description & Category.Family & Category & Sub.Category & Brand & Customer.ID & ... & Open.Amount & Invoice.Qty & Invoice.Gross.Amount..HC. & Invoice.Net.Amount..HC. & Invoice.Gross.Amount..USD. & Invoice.Net.Amount..USD. & POS.Qty & POS.Amount & Transaction.month & unit\\_price\\\\\n",
       "\\hline\n",
       "\t 100                            & 2018-02-27                     & 2018-03-03                     & 56011990                       & PIVOT MDTS G0179 SFMX CSUAlGRY & Wheeled Goods                  & Travel Systems                 & Pivot with SafeMax             & Evenflo                        & A731D                          & ...                            &  \\$ -                         & 0                              &  \\$ -                         & 0.00                           &  \\$ -                         &  \\$ -                         & 0                              &  \\$ -                         & 2                              & 92.53333                      \\\\\n",
       "\t 100                            & 2018-03-02                     & 2018-03-03                     & 56011990                       & PIVOT MDTS G0179 SFMX CSUAlGRY & Wheeled Goods                  & Travel Systems                 & Pivot with SafeMax             & Evenflo                        & A731D                          & ...                            &  \\$ -                         & 2                              &  \\$ 381                       & 381.12                         &  \\$ 381                       &  \\$ 381                       & 0                              &  \\$ -                         & 3                              & 96.53333                      \\\\\n",
       "\t 100                            & 2018-03-09                     & 2018-03-10                     & 56011990                       & PIVOT MDTS G0179 SFMX CSUAlGRY & Wheeled Goods                  & Travel Systems                 & Pivot with SafeMax             & Evenflo                        & A731D                          & ...                            &  \\$ -                         & 5                              &  \\$ 953                       & 952.80                         &  \\$ 953                       &  \\$ 953                       & 0                              &  \\$ -                         & 3                              & 96.53333                      \\\\\n",
       "\t 100                            & 2018-03-13                     & 2018-03-17                     & 56011990                       & PIVOT MDTS G0179 SFMX CSUAlGRY & Wheeled Goods                  & Travel Systems                 & Pivot with SafeMax             & Evenflo                        & A731D                          & ...                            &  \\$ -                         & 2                              &  \\$ 381                       & 381.12                         &  \\$ 381                       &  \\$ 381                       & 0                              &  \\$ -                         & 3                              & 96.53333                      \\\\\n",
       "\t 100                            & 2018-03-16                     & 2018-03-17                     & 56012217                       & PIVOT TS SAFEMAX DUSTY ROSE    & Wheeled Goods                  & Travel Systems                 & Pivot with SafeMax             & Evenflo                        & A731D                          & ...                            &  \\$ -                         & 1                              &  \\$ 191                       & 190.56                         &  \\$ 191                       &  \\$ 191                       & 0                              &  \\$ -                         & 3                              & 96.53333                      \\\\\n",
       "\t 100                            & 2018-03-17                     & 2018-03-17                     & 56012217                       & PIVOT TS SAFEMAX DUSTY ROSE    & Wheeled Goods                  & Travel Systems                 & Pivot with SafeMax             & Evenflo                        & A731D                          & ...                            &  \\$ -                         & 0                              &  \\$ -                         & 0.00                           &  \\$ -                         &  \\$ -                         & 0                              &  \\$ -                         & 3                              & 96.53333                      \\\\\n",
       "\\end{tabular}\n"
      ],
      "text/markdown": [
       "\n",
       "| Company | Transaction.Date | Week.End.Date..EF. | Item | Item.Description | Category.Family | Category | Sub.Category | Brand | Customer.ID | ... | Open.Amount | Invoice.Qty | Invoice.Gross.Amount..HC. | Invoice.Net.Amount..HC. | Invoice.Gross.Amount..USD. | Invoice.Net.Amount..USD. | POS.Qty | POS.Amount | Transaction.month | unit_price |\n",
       "|---|---|---|---|---|---|---|---|---|---|---|---|---|---|---|---|---|---|---|---|---|\n",
       "| 100                            | 2018-02-27                     | 2018-03-03                     | 56011990                       | PIVOT MDTS G0179 SFMX CSUAlGRY | Wheeled Goods                  | Travel Systems                 | Pivot with SafeMax             | Evenflo                        | A731D                          | ...                            |  $ -                           | 0                              |  $ -                           | 0.00                           |  $ -                           |  $ -                           | 0                              |  $ -                           | 2                              | 92.53333                       |\n",
       "| 100                            | 2018-03-02                     | 2018-03-03                     | 56011990                       | PIVOT MDTS G0179 SFMX CSUAlGRY | Wheeled Goods                  | Travel Systems                 | Pivot with SafeMax             | Evenflo                        | A731D                          | ...                            |  $ -                           | 2                              |  $ 381                         | 381.12                         |  $ 381                         |  $ 381                         | 0                              |  $ -                           | 3                              | 96.53333                       |\n",
       "| 100                            | 2018-03-09                     | 2018-03-10                     | 56011990                       | PIVOT MDTS G0179 SFMX CSUAlGRY | Wheeled Goods                  | Travel Systems                 | Pivot with SafeMax             | Evenflo                        | A731D                          | ...                            |  $ -                           | 5                              |  $ 953                         | 952.80                         |  $ 953                         |  $ 953                         | 0                              |  $ -                           | 3                              | 96.53333                       |\n",
       "| 100                            | 2018-03-13                     | 2018-03-17                     | 56011990                       | PIVOT MDTS G0179 SFMX CSUAlGRY | Wheeled Goods                  | Travel Systems                 | Pivot with SafeMax             | Evenflo                        | A731D                          | ...                            |  $ -                           | 2                              |  $ 381                         | 381.12                         |  $ 381                         |  $ 381                         | 0                              |  $ -                           | 3                              | 96.53333                       |\n",
       "| 100                            | 2018-03-16                     | 2018-03-17                     | 56012217                       | PIVOT TS SAFEMAX DUSTY ROSE    | Wheeled Goods                  | Travel Systems                 | Pivot with SafeMax             | Evenflo                        | A731D                          | ...                            |  $ -                           | 1                              |  $ 191                         | 190.56                         |  $ 191                         |  $ 191                         | 0                              |  $ -                           | 3                              | 96.53333                       |\n",
       "| 100                            | 2018-03-17                     | 2018-03-17                     | 56012217                       | PIVOT TS SAFEMAX DUSTY ROSE    | Wheeled Goods                  | Travel Systems                 | Pivot with SafeMax             | Evenflo                        | A731D                          | ...                            |  $ -                           | 0                              |  $ -                           | 0.00                           |  $ -                           |  $ -                           | 0                              |  $ -                           | 3                              | 96.53333                       |\n",
       "\n"
      ],
      "text/plain": [
       "  Company Transaction.Date Week.End.Date..EF. Item    \n",
       "1 100     2018-02-27       2018-03-03         56011990\n",
       "2 100     2018-03-02       2018-03-03         56011990\n",
       "3 100     2018-03-09       2018-03-10         56011990\n",
       "4 100     2018-03-13       2018-03-17         56011990\n",
       "5 100     2018-03-16       2018-03-17         56012217\n",
       "6 100     2018-03-17       2018-03-17         56012217\n",
       "  Item.Description               Category.Family Category      \n",
       "1 PIVOT MDTS G0179 SFMX CSUAlGRY Wheeled Goods   Travel Systems\n",
       "2 PIVOT MDTS G0179 SFMX CSUAlGRY Wheeled Goods   Travel Systems\n",
       "3 PIVOT MDTS G0179 SFMX CSUAlGRY Wheeled Goods   Travel Systems\n",
       "4 PIVOT MDTS G0179 SFMX CSUAlGRY Wheeled Goods   Travel Systems\n",
       "5 PIVOT TS SAFEMAX DUSTY ROSE    Wheeled Goods   Travel Systems\n",
       "6 PIVOT TS SAFEMAX DUSTY ROSE    Wheeled Goods   Travel Systems\n",
       "  Sub.Category       Brand   Customer.ID ... Open.Amount Invoice.Qty\n",
       "1 Pivot with SafeMax Evenflo A731D       ...  $ -        0          \n",
       "2 Pivot with SafeMax Evenflo A731D       ...  $ -        2          \n",
       "3 Pivot with SafeMax Evenflo A731D       ...  $ -        5          \n",
       "4 Pivot with SafeMax Evenflo A731D       ...  $ -        2          \n",
       "5 Pivot with SafeMax Evenflo A731D       ...  $ -        1          \n",
       "6 Pivot with SafeMax Evenflo A731D       ...  $ -        0          \n",
       "  Invoice.Gross.Amount..HC. Invoice.Net.Amount..HC. Invoice.Gross.Amount..USD.\n",
       "1  $ -                      0.00                     $ -                      \n",
       "2  $ 381                    381.12                   $ 381                    \n",
       "3  $ 953                    952.80                   $ 953                    \n",
       "4  $ 381                    381.12                   $ 381                    \n",
       "5  $ 191                    190.56                   $ 191                    \n",
       "6  $ -                      0.00                     $ -                      \n",
       "  Invoice.Net.Amount..USD. POS.Qty POS.Amount Transaction.month unit_price\n",
       "1  $ -                     0        $ -       2                 92.53333  \n",
       "2  $ 381                   0        $ -       3                 96.53333  \n",
       "3  $ 953                   0        $ -       3                 96.53333  \n",
       "4  $ 381                   0        $ -       3                 96.53333  \n",
       "5  $ 191                   0        $ -       3                 96.53333  \n",
       "6  $ -                     0        $ -       3                 96.53333  "
      ]
     },
     "metadata": {},
     "output_type": "display_data"
    }
   ],
   "source": [
    "# subcategory 1: Symphony - 2018\n",
    "order2$Sub.Category= factor(trimws(order2$Sub.Category))\n",
    "order2 = order2 %>%\n",
    "    filter(order2$Sub.Category == 'Pivot with SafeMax')\n",
    "head(order2)"
   ]
  },
  {
   "cell_type": "code",
   "execution_count": 9,
   "metadata": {},
   "outputs": [
    {
     "name": "stderr",
     "output_type": "stream",
     "text": [
      "`summarise()` ungrouping output (override with `.groups` argument)\n",
      "\n"
     ]
    },
    {
     "data": {
      "text/html": [
       "<table>\n",
       "<thead><tr><th scope=col>Transaction.Date</th><th scope=col>order_qty</th><th scope=col>transaction_month</th><th scope=col>transaction_year</th></tr></thead>\n",
       "<tbody>\n",
       "\t<tr><td>2019-01-03</td><td>  2       </td><td>Jan       </td><td>2019      </td></tr>\n",
       "\t<tr><td>2019-01-09</td><td>180       </td><td>Jan       </td><td>2019      </td></tr>\n",
       "\t<tr><td>2019-01-10</td><td>  1       </td><td>Jan       </td><td>2019      </td></tr>\n",
       "\t<tr><td>2019-01-11</td><td> 73       </td><td>Jan       </td><td>2019      </td></tr>\n",
       "\t<tr><td>2019-01-13</td><td> 84       </td><td>Jan       </td><td>2019      </td></tr>\n",
       "\t<tr><td>2019-01-15</td><td>  1       </td><td>Jan       </td><td>2019      </td></tr>\n",
       "</tbody>\n",
       "</table>\n"
      ],
      "text/latex": [
       "\\begin{tabular}{r|llll}\n",
       " Transaction.Date & order\\_qty & transaction\\_month & transaction\\_year\\\\\n",
       "\\hline\n",
       "\t 2019-01-03 &   2        & Jan        & 2019      \\\\\n",
       "\t 2019-01-09 & 180        & Jan        & 2019      \\\\\n",
       "\t 2019-01-10 &   1        & Jan        & 2019      \\\\\n",
       "\t 2019-01-11 &  73        & Jan        & 2019      \\\\\n",
       "\t 2019-01-13 &  84        & Jan        & 2019      \\\\\n",
       "\t 2019-01-15 &   1        & Jan        & 2019      \\\\\n",
       "\\end{tabular}\n"
      ],
      "text/markdown": [
       "\n",
       "| Transaction.Date | order_qty | transaction_month | transaction_year |\n",
       "|---|---|---|---|\n",
       "| 2019-01-03 |   2        | Jan        | 2019       |\n",
       "| 2019-01-09 | 180        | Jan        | 2019       |\n",
       "| 2019-01-10 |   1        | Jan        | 2019       |\n",
       "| 2019-01-11 |  73        | Jan        | 2019       |\n",
       "| 2019-01-13 |  84        | Jan        | 2019       |\n",
       "| 2019-01-15 |   1        | Jan        | 2019       |\n",
       "\n"
      ],
      "text/plain": [
       "  Transaction.Date order_qty transaction_month transaction_year\n",
       "1 2019-01-03         2       Jan               2019            \n",
       "2 2019-01-09       180       Jan               2019            \n",
       "3 2019-01-10         1       Jan               2019            \n",
       "4 2019-01-11        73       Jan               2019            \n",
       "5 2019-01-13        84       Jan               2019            \n",
       "6 2019-01-15         1       Jan               2019            "
      ]
     },
     "metadata": {},
     "output_type": "display_data"
    }
   ],
   "source": [
    "# Group by the Sub_Category_Family & transaction date, get the sum of order quantity 2019\n",
    "days = order %>%\n",
    "    group_by(Transaction.Date) %>%\n",
    "    summarise(order_qty=sum(Order.Qty)) %>%\n",
    "    mutate(transaction_month = month(Transaction.Date)) %>%\n",
    "    mutate(transaction_year = year(Transaction.Date))\n",
    "# convert numberic month to the abbreviation of month\n",
    "days$transaction_month = month.abb[days$transaction_month]\n",
    "head(days)"
   ]
  },
  {
   "cell_type": "code",
   "execution_count": 10,
   "metadata": {},
   "outputs": [
    {
     "name": "stderr",
     "output_type": "stream",
     "text": [
      "`summarise()` ungrouping output (override with `.groups` argument)\n",
      "\n"
     ]
    },
    {
     "data": {
      "text/html": [
       "<table>\n",
       "<thead><tr><th scope=col>Transaction.Date</th><th scope=col>order_qty</th><th scope=col>transaction_month</th><th scope=col>transaction_year</th></tr></thead>\n",
       "<tbody>\n",
       "\t<tr><td>2018-02-27</td><td>15        </td><td>Feb       </td><td>2018      </td></tr>\n",
       "\t<tr><td>2018-03-02</td><td>15        </td><td>Mar       </td><td>2018      </td></tr>\n",
       "\t<tr><td>2018-03-09</td><td>15        </td><td>Mar       </td><td>2018      </td></tr>\n",
       "\t<tr><td>2018-03-13</td><td>15        </td><td>Mar       </td><td>2018      </td></tr>\n",
       "\t<tr><td>2018-03-16</td><td>15        </td><td>Mar       </td><td>2018      </td></tr>\n",
       "\t<tr><td>2018-03-17</td><td>15        </td><td>Mar       </td><td>2018      </td></tr>\n",
       "</tbody>\n",
       "</table>\n"
      ],
      "text/latex": [
       "\\begin{tabular}{r|llll}\n",
       " Transaction.Date & order\\_qty & transaction\\_month & transaction\\_year\\\\\n",
       "\\hline\n",
       "\t 2018-02-27 & 15         & Feb        & 2018      \\\\\n",
       "\t 2018-03-02 & 15         & Mar        & 2018      \\\\\n",
       "\t 2018-03-09 & 15         & Mar        & 2018      \\\\\n",
       "\t 2018-03-13 & 15         & Mar        & 2018      \\\\\n",
       "\t 2018-03-16 & 15         & Mar        & 2018      \\\\\n",
       "\t 2018-03-17 & 15         & Mar        & 2018      \\\\\n",
       "\\end{tabular}\n"
      ],
      "text/markdown": [
       "\n",
       "| Transaction.Date | order_qty | transaction_month | transaction_year |\n",
       "|---|---|---|---|\n",
       "| 2018-02-27 | 15         | Feb        | 2018       |\n",
       "| 2018-03-02 | 15         | Mar        | 2018       |\n",
       "| 2018-03-09 | 15         | Mar        | 2018       |\n",
       "| 2018-03-13 | 15         | Mar        | 2018       |\n",
       "| 2018-03-16 | 15         | Mar        | 2018       |\n",
       "| 2018-03-17 | 15         | Mar        | 2018       |\n",
       "\n"
      ],
      "text/plain": [
       "  Transaction.Date order_qty transaction_month transaction_year\n",
       "1 2018-02-27       15        Feb               2018            \n",
       "2 2018-03-02       15        Mar               2018            \n",
       "3 2018-03-09       15        Mar               2018            \n",
       "4 2018-03-13       15        Mar               2018            \n",
       "5 2018-03-16       15        Mar               2018            \n",
       "6 2018-03-17       15        Mar               2018            "
      ]
     },
     "metadata": {},
     "output_type": "display_data"
    }
   ],
   "source": [
    "# Group by the Sub_Category_Family & transaction date, get the sum of order quantity 2018\n",
    "days2 = order2 %>%\n",
    "    group_by(Transaction.Date) %>%\n",
    "    summarise(order_qty=sum(Order.Qty)) %>%\n",
    "    mutate(transaction_month = month(Transaction.Date)) %>%\n",
    "    mutate(transaction_year = year(Transaction.Date))\n",
    "# convert numberic month to the abbreviation of month\n",
    "days2$transaction_month = month.abb[days2$transaction_month]\n",
    "head(days2)"
   ]
  },
  {
   "cell_type": "code",
   "execution_count": 11,
   "metadata": {},
   "outputs": [
    {
     "data": {
      "text/html": [
       "<table>\n",
       "<thead><tr><th scope=col>Transaction.Date</th><th scope=col>order_qty</th><th scope=col>transaction_month</th><th scope=col>transaction_year</th></tr></thead>\n",
       "<tbody>\n",
       "\t<tr><td>2018-02-27</td><td>15        </td><td>Feb       </td><td>2018      </td></tr>\n",
       "\t<tr><td>2018-03-02</td><td>15        </td><td>Mar       </td><td>2018      </td></tr>\n",
       "\t<tr><td>2018-03-09</td><td>15        </td><td>Mar       </td><td>2018      </td></tr>\n",
       "\t<tr><td>2018-03-13</td><td>15        </td><td>Mar       </td><td>2018      </td></tr>\n",
       "\t<tr><td>2018-03-16</td><td>15        </td><td>Mar       </td><td>2018      </td></tr>\n",
       "\t<tr><td>2018-03-17</td><td>15        </td><td>Mar       </td><td>2018      </td></tr>\n",
       "</tbody>\n",
       "</table>\n"
      ],
      "text/latex": [
       "\\begin{tabular}{r|llll}\n",
       " Transaction.Date & order\\_qty & transaction\\_month & transaction\\_year\\\\\n",
       "\\hline\n",
       "\t 2018-02-27 & 15         & Feb        & 2018      \\\\\n",
       "\t 2018-03-02 & 15         & Mar        & 2018      \\\\\n",
       "\t 2018-03-09 & 15         & Mar        & 2018      \\\\\n",
       "\t 2018-03-13 & 15         & Mar        & 2018      \\\\\n",
       "\t 2018-03-16 & 15         & Mar        & 2018      \\\\\n",
       "\t 2018-03-17 & 15         & Mar        & 2018      \\\\\n",
       "\\end{tabular}\n"
      ],
      "text/markdown": [
       "\n",
       "| Transaction.Date | order_qty | transaction_month | transaction_year |\n",
       "|---|---|---|---|\n",
       "| 2018-02-27 | 15         | Feb        | 2018       |\n",
       "| 2018-03-02 | 15         | Mar        | 2018       |\n",
       "| 2018-03-09 | 15         | Mar        | 2018       |\n",
       "| 2018-03-13 | 15         | Mar        | 2018       |\n",
       "| 2018-03-16 | 15         | Mar        | 2018       |\n",
       "| 2018-03-17 | 15         | Mar        | 2018       |\n",
       "\n"
      ],
      "text/plain": [
       "  Transaction.Date order_qty transaction_month transaction_year\n",
       "1 2018-02-27       15        Feb               2018            \n",
       "2 2018-03-02       15        Mar               2018            \n",
       "3 2018-03-09       15        Mar               2018            \n",
       "4 2018-03-13       15        Mar               2018            \n",
       "5 2018-03-16       15        Mar               2018            \n",
       "6 2018-03-17       15        Mar               2018            "
      ]
     },
     "metadata": {},
     "output_type": "display_data"
    }
   ],
   "source": [
    "# merge the 2018-2019 days table\n",
    "library(dplyr)\n",
    "merge = rbind(days2,days)\n",
    "head(merge)"
   ]
  },
  {
   "cell_type": "code",
   "execution_count": 12,
   "metadata": {},
   "outputs": [],
   "source": [
    "ts1 = xts(x= merge$order_qty, order.by = as.Date(merge$Transaction.Date, format='%Y/%m/%d'))\n",
    "#dygraph(ts1,main=\"Historical Sales in 2018-2019 - Sonus\",xlab=\"Date\",ylab=\"Daily order quantity\")"
   ]
  },
  {
   "cell_type": "markdown",
   "metadata": {},
   "source": [
    "### Step4: Group by month and generate the ts format"
   ]
  },
  {
   "cell_type": "code",
   "execution_count": 13,
   "metadata": {},
   "outputs": [
    {
     "name": "stderr",
     "output_type": "stream",
     "text": [
      "`summarise()` ungrouping output (override with `.groups` argument)\n",
      "\n"
     ]
    },
    {
     "data": {
      "text/html": [
       "<table>\n",
       "<thead><tr><th scope=col>month</th><th scope=col>order.sum</th></tr></thead>\n",
       "<tbody>\n",
       "\t<tr><td>2018-02-01</td><td>  15      </td></tr>\n",
       "\t<tr><td>2018-03-01</td><td> 120      </td></tr>\n",
       "\t<tr><td>2018-06-01</td><td> 165      </td></tr>\n",
       "\t<tr><td>2018-11-01</td><td>  60      </td></tr>\n",
       "\t<tr><td>2018-12-01</td><td> 240      </td></tr>\n",
       "\t<tr><td>2019-01-01</td><td> 825      </td></tr>\n",
       "\t<tr><td>2019-02-01</td><td>4248      </td></tr>\n",
       "\t<tr><td>2019-03-01</td><td>1914      </td></tr>\n",
       "\t<tr><td>2019-04-01</td><td>1971      </td></tr>\n",
       "\t<tr><td>2019-06-01</td><td>2088      </td></tr>\n",
       "\t<tr><td>2019-07-01</td><td>  60      </td></tr>\n",
       "\t<tr><td>2019-08-01</td><td> 525      </td></tr>\n",
       "\t<tr><td>2019-09-01</td><td>2579      </td></tr>\n",
       "\t<tr><td>2019-10-01</td><td> 934      </td></tr>\n",
       "\t<tr><td>2019-11-01</td><td> 395      </td></tr>\n",
       "\t<tr><td>2019-12-01</td><td>  79      </td></tr>\n",
       "</tbody>\n",
       "</table>\n"
      ],
      "text/latex": [
       "\\begin{tabular}{r|ll}\n",
       " month & order.sum\\\\\n",
       "\\hline\n",
       "\t 2018-02-01 &   15      \\\\\n",
       "\t 2018-03-01 &  120      \\\\\n",
       "\t 2018-06-01 &  165      \\\\\n",
       "\t 2018-11-01 &   60      \\\\\n",
       "\t 2018-12-01 &  240      \\\\\n",
       "\t 2019-01-01 &  825      \\\\\n",
       "\t 2019-02-01 & 4248      \\\\\n",
       "\t 2019-03-01 & 1914      \\\\\n",
       "\t 2019-04-01 & 1971      \\\\\n",
       "\t 2019-06-01 & 2088      \\\\\n",
       "\t 2019-07-01 &   60      \\\\\n",
       "\t 2019-08-01 &  525      \\\\\n",
       "\t 2019-09-01 & 2579      \\\\\n",
       "\t 2019-10-01 &  934      \\\\\n",
       "\t 2019-11-01 &  395      \\\\\n",
       "\t 2019-12-01 &   79      \\\\\n",
       "\\end{tabular}\n"
      ],
      "text/markdown": [
       "\n",
       "| month | order.sum |\n",
       "|---|---|\n",
       "| 2018-02-01 |   15       |\n",
       "| 2018-03-01 |  120       |\n",
       "| 2018-06-01 |  165       |\n",
       "| 2018-11-01 |   60       |\n",
       "| 2018-12-01 |  240       |\n",
       "| 2019-01-01 |  825       |\n",
       "| 2019-02-01 | 4248       |\n",
       "| 2019-03-01 | 1914       |\n",
       "| 2019-04-01 | 1971       |\n",
       "| 2019-06-01 | 2088       |\n",
       "| 2019-07-01 |   60       |\n",
       "| 2019-08-01 |  525       |\n",
       "| 2019-09-01 | 2579       |\n",
       "| 2019-10-01 |  934       |\n",
       "| 2019-11-01 |  395       |\n",
       "| 2019-12-01 |   79       |\n",
       "\n"
      ],
      "text/plain": [
       "   month      order.sum\n",
       "1  2018-02-01   15     \n",
       "2  2018-03-01  120     \n",
       "3  2018-06-01  165     \n",
       "4  2018-11-01   60     \n",
       "5  2018-12-01  240     \n",
       "6  2019-01-01  825     \n",
       "7  2019-02-01 4248     \n",
       "8  2019-03-01 1914     \n",
       "9  2019-04-01 1971     \n",
       "10 2019-06-01 2088     \n",
       "11 2019-07-01   60     \n",
       "12 2019-08-01  525     \n",
       "13 2019-09-01 2579     \n",
       "14 2019-10-01  934     \n",
       "15 2019-11-01  395     \n",
       "16 2019-12-01   79     "
      ]
     },
     "metadata": {},
     "output_type": "display_data"
    },
    {
     "name": "stdout",
     "output_type": "stream",
     "text": [
      "      Jan  Feb  Mar  Apr  May  Jun  Jul  Aug  Sep  Oct  Nov  Dec\n",
      "2018   15  120  165   60  240  825 4248 1914 1971 2088   60  525\n",
      "2019 2579  934  395   79   15  120  165   60  240  825 4248 1914\n"
     ]
    }
   ],
   "source": [
    "# group by month\n",
    "months = merge%>%\n",
    "    group_by(month=floor_date(Transaction.Date, \"month\")) %>%\n",
    "   summarize(order.sum=sum(order_qty))\n",
    "months\n",
    "# transform to ts\n",
    "sales_ts = ts(months$order.sum, freq = 12, start = c(2018, 1), end = c(2019, 12))\n",
    "print(sales_ts)"
   ]
  },
  {
   "cell_type": "markdown",
   "metadata": {},
   "source": [
    "### Step 5: split data into train and test"
   ]
  },
  {
   "cell_type": "code",
   "execution_count": 14,
   "metadata": {},
   "outputs": [
    {
     "data": {
      "text/html": [
       "24"
      ],
      "text/latex": [
       "24"
      ],
      "text/markdown": [
       "24"
      ],
      "text/plain": [
       "[1] 24"
      ]
     },
     "metadata": {},
     "output_type": "display_data"
    },
    {
     "data": {
      "text/html": [
       "15"
      ],
      "text/latex": [
       "15"
      ],
      "text/markdown": [
       "15"
      ],
      "text/plain": [
       "[1] 15"
      ]
     },
     "metadata": {},
     "output_type": "display_data"
    },
    {
     "data": {
      "text/html": [
       "9"
      ],
      "text/latex": [
       "9"
      ],
      "text/markdown": [
       "9"
      ],
      "text/plain": [
       "[1] 9"
      ]
     },
     "metadata": {},
     "output_type": "display_data"
    }
   ],
   "source": [
    "train=window(sales_ts,end=c(2019,3))\n",
    "test=window(sales_ts,start=c(2019,4))\n",
    "length(sales_ts) #24\n",
    "length(train) #15\n",
    "length(test) #9"
   ]
  },
  {
   "cell_type": "markdown",
   "metadata": {},
   "source": [
    "### Step6: Exponential Smoothing Model Construction on test"
   ]
  },
  {
   "cell_type": "code",
   "execution_count": 15,
   "metadata": {},
   "outputs": [
    {
     "data": {
      "text/plain": [
       "         Point Forecast     Lo 80    Hi 80     Lo 95    Hi 95\n",
       "Apr 2019       930.4731 -789.6554 2650.602 -1700.236 3561.183\n",
       "May 2019       930.4731 -798.2346 2659.181 -1713.357 3574.303\n",
       "Jun 2019       930.4731 -806.7715 2667.718 -1726.413 3587.359\n",
       "Jul 2019       930.4731 -815.2666 2676.213 -1739.405 3600.352\n",
       "Aug 2019       930.4731 -823.7206 2684.667 -1752.335 3613.281\n",
       "Sep 2019       930.4731 -832.1341 2693.080 -1765.202 3626.148\n",
       "Oct 2019       930.4731 -840.5075 2701.454 -1778.008 3638.954\n",
       "Nov 2019       930.4731 -848.8416 2709.788 -1790.754 3651.700\n",
       "Dec 2019       930.4731 -857.1368 2718.083 -1803.440 3664.387"
      ]
     },
     "metadata": {},
     "output_type": "display_data"
    }
   ],
   "source": [
    "# Simple Exponential Smoothing Model on test\n",
    "library(forecast)\n",
    "ses_model = ses(train,h=9,alpha=0.1, initial=\"simple\")\n",
    "ses_model"
   ]
  },
  {
   "cell_type": "code",
   "execution_count": 16,
   "metadata": {},
   "outputs": [
    {
     "data": {
      "text/plain": [
       "         Point Forecast      Lo 80    Hi 80      Lo 95    Hi 95\n",
       "Apr 2019       1692.515 -81.952284 3466.981 -1021.2983 4406.327\n",
       "May 2019       1738.914 -35.553246 3513.381  -974.8993 4452.727\n",
       "Jun 2019       1780.297   5.830202 3554.764  -933.5159 4494.110\n",
       "Jul 2019       1817.207  42.740218 3591.674  -896.6059 4531.020\n",
       "Aug 2019       1850.128  75.660354 3624.595  -863.6859 4563.941\n",
       "Sep 2019       1879.489 105.021894 3653.957  -834.3244 4593.303\n",
       "Oct 2019       1905.677 131.209504 3680.145  -808.1369 4619.491\n",
       "Nov 2019       1929.034 154.566269 3703.502  -784.7803 4642.849\n",
       "Dec 2019       1949.866 175.398190 3724.335  -763.9485 4663.681"
      ]
     },
     "metadata": {},
     "output_type": "display_data"
    }
   ],
   "source": [
    "# Holt's methods with damping on test\n",
    "holt_damp_model = holt(train, h = 9, damped = T)\n",
    "holt_damp_model"
   ]
  },
  {
   "cell_type": "code",
   "execution_count": 17,
   "metadata": {},
   "outputs": [
    {
     "name": "stderr",
     "output_type": "stream",
     "text": [
      "Warning message in ets(x, \"AAA\", alpha = alpha, beta = beta, gamma = gamma, phi = phi, :\n",
      "“Not enough data to use damping”\n",
      "Warning message in ets(x, \"AAA\", alpha = alpha, beta = beta, gamma = gamma, phi = phi, :\n",
      "“Seasonal component could not be estimated”\n"
     ]
    },
    {
     "data": {
      "text/plain": [
       "         Point Forecast     Lo 80    Hi 80      Lo 95    Hi 95\n",
       "Apr 2019           1695  189.4355 3200.564 -607.56215 3997.562\n",
       "May 2019           1800  294.4355 3305.564 -502.56215 4102.562\n",
       "Jun 2019           1905  399.4355 3410.564 -397.56215 4207.562\n",
       "Jul 2019           2010  504.4355 3515.564 -292.56215 4312.562\n",
       "Aug 2019           2115  609.4355 3620.564 -187.56215 4417.562\n",
       "Sep 2019           2220  714.4355 3725.564  -82.56215 4522.562\n",
       "Oct 2019           2325  819.4355 3830.564   22.43785 4627.562\n",
       "Nov 2019           2430  924.4355 3935.564  127.43785 4732.562\n",
       "Dec 2019           2535 1029.4355 4040.564  232.43785 4837.562"
      ]
     },
     "metadata": {},
     "output_type": "display_data"
    }
   ],
   "source": [
    "# Try to capture the seasonality, but not sufficient observations\n",
    "# Holt - winter seasonal method\n",
    "hw_additive = hw(train, h = 9, seasonal = 'additive', damped = T)\n",
    "hw_additive"
   ]
  },
  {
   "cell_type": "code",
   "execution_count": 18,
   "metadata": {},
   "outputs": [
    {
     "name": "stderr",
     "output_type": "stream",
     "text": [
      "Warning message in ets(x, \"MAM\", alpha = alpha, beta = beta, gamma = gamma, phi = phi, :\n",
      "“Not enough data to use damping”\n",
      "Warning message in ets(x, \"MAM\", alpha = alpha, beta = beta, gamma = gamma, phi = phi, :\n",
      "“Seasonal component could not be estimated”\n"
     ]
    },
    {
     "data": {
      "text/plain": [
       "         Point Forecast     Lo 80    Hi 80      Lo 95    Hi 95\n",
       "Apr 2019           1695  189.4355 3200.564 -607.56215 3997.562\n",
       "May 2019           1800  294.4355 3305.564 -502.56215 4102.562\n",
       "Jun 2019           1905  399.4355 3410.564 -397.56215 4207.562\n",
       "Jul 2019           2010  504.4355 3515.564 -292.56215 4312.562\n",
       "Aug 2019           2115  609.4355 3620.564 -187.56215 4417.562\n",
       "Sep 2019           2220  714.4355 3725.564  -82.56215 4522.562\n",
       "Oct 2019           2325  819.4355 3830.564   22.43785 4627.562\n",
       "Nov 2019           2430  924.4355 3935.564  127.43785 4732.562\n",
       "Dec 2019           2535 1029.4355 4040.564  232.43785 4837.562"
      ]
     },
     "metadata": {},
     "output_type": "display_data"
    }
   ],
   "source": [
    "# Holt - winter Multiplicative\n",
    "hw_multiplicative =  hw(train, h=9, seasonal = 'multiplicative', damped = T)\n",
    "hw_multiplicative"
   ]
  },
  {
   "cell_type": "markdown",
   "metadata": {},
   "source": [
    "### Step7: Model Forecast Visualization"
   ]
  },
  {
   "cell_type": "code",
   "execution_count": 19,
   "metadata": {},
   "outputs": [
    {
     "data": {
      "image/png": "[encoded data removed]",
      "text/plain": [
       "plot without title"
      ]
     },
     "metadata": {
      "image/png": {
       "height": 420,
       "width": 420
      },
      "text/plain": {
       "height": 420,
       "width": 420
      }
     },
     "output_type": "display_data"
    }
   ],
   "source": [
    "# Visualize forecasts (train & test)\n",
    "autoplot(train)+\n",
    "    autolayer(ses_model,series  = 'Simple Exponential Smoothing',PI = F, size = 1.1) +\n",
    "    autolayer(holt_damp_model, series = 'Holt Damped Model', PI = F, size = 1.1)+\n",
    "    autolayer(hw_additive, series = 'Holt Winter Additive Model', PI =F, size = 1.1)+\n",
    "    autolayer(hw_multiplicative, series = 'Holt Winter Multiplicative Model', PI = F, size=1.1)+\n",
    "labs(title=\"Exponential Smoothing Forecast Visualization -Pivot Safe Max\")+\n",
    "    autolayer(test)+theme_bw()"
   ]
  },
  {
   "cell_type": "markdown",
   "metadata": {},
   "source": [
    "### Step8: Obtain the forecast Value"
   ]
  },
  {
   "cell_type": "code",
   "execution_count": 20,
   "metadata": {},
   "outputs": [],
   "source": [
    "# obtain predicted value\n",
    "ses_forecast = forecast(ses_model,h=9)\n",
    "holt_forecast = forecast(holt_damp_model, h = 9)\n",
    "hw_additive_forecast = forecast(hw_additive,h=9)\n",
    "hw_multiplicative_forecast = forecast(hw_multiplicative,h=9)"
   ]
  },
  {
   "cell_type": "code",
   "execution_count": 21,
   "metadata": {},
   "outputs": [
    {
     "data": {
      "text/plain": [
       "         Point Forecast     Lo 80    Hi 80     Lo 95    Hi 95\n",
       "Apr 2019       930.4731 -789.6554 2650.602 -1700.236 3561.183\n",
       "May 2019       930.4731 -798.2346 2659.181 -1713.357 3574.303\n",
       "Jun 2019       930.4731 -806.7715 2667.718 -1726.413 3587.359\n",
       "Jul 2019       930.4731 -815.2666 2676.213 -1739.405 3600.352\n",
       "Aug 2019       930.4731 -823.7206 2684.667 -1752.335 3613.281\n",
       "Sep 2019       930.4731 -832.1341 2693.080 -1765.202 3626.148\n",
       "Oct 2019       930.4731 -840.5075 2701.454 -1778.008 3638.954\n",
       "Nov 2019       930.4731 -848.8416 2709.788 -1790.754 3651.700\n",
       "Dec 2019       930.4731 -857.1368 2718.083 -1803.440 3664.387"
      ]
     },
     "metadata": {},
     "output_type": "display_data"
    }
   ],
   "source": [
    "ses_forecast"
   ]
  },
  {
   "cell_type": "code",
   "execution_count": 22,
   "metadata": {},
   "outputs": [
    {
     "data": {
      "text/plain": [
       "         Point Forecast      Lo 80    Hi 80      Lo 95    Hi 95\n",
       "Apr 2019       1692.515 -81.952284 3466.981 -1021.2983 4406.327\n",
       "May 2019       1738.914 -35.553246 3513.381  -974.8993 4452.727\n",
       "Jun 2019       1780.297   5.830202 3554.764  -933.5159 4494.110\n",
       "Jul 2019       1817.207  42.740218 3591.674  -896.6059 4531.020\n",
       "Aug 2019       1850.128  75.660354 3624.595  -863.6859 4563.941\n",
       "Sep 2019       1879.489 105.021894 3653.957  -834.3244 4593.303\n",
       "Oct 2019       1905.677 131.209504 3680.145  -808.1369 4619.491\n",
       "Nov 2019       1929.034 154.566269 3703.502  -784.7803 4642.849\n",
       "Dec 2019       1949.866 175.398190 3724.335  -763.9485 4663.681"
      ]
     },
     "metadata": {},
     "output_type": "display_data"
    }
   ],
   "source": [
    "holt_forecast"
   ]
  },
  {
   "cell_type": "code",
   "execution_count": 23,
   "metadata": {},
   "outputs": [
    {
     "data": {
      "text/plain": [
       "         Point Forecast     Lo 80    Hi 80      Lo 95    Hi 95\n",
       "Apr 2019           1695  189.4355 3200.564 -607.56215 3997.562\n",
       "May 2019           1800  294.4355 3305.564 -502.56215 4102.562\n",
       "Jun 2019           1905  399.4355 3410.564 -397.56215 4207.562\n",
       "Jul 2019           2010  504.4355 3515.564 -292.56215 4312.562\n",
       "Aug 2019           2115  609.4355 3620.564 -187.56215 4417.562\n",
       "Sep 2019           2220  714.4355 3725.564  -82.56215 4522.562\n",
       "Oct 2019           2325  819.4355 3830.564   22.43785 4627.562\n",
       "Nov 2019           2430  924.4355 3935.564  127.43785 4732.562\n",
       "Dec 2019           2535 1029.4355 4040.564  232.43785 4837.562"
      ]
     },
     "metadata": {},
     "output_type": "display_data"
    }
   ],
   "source": [
    "hw_additive_forecast"
   ]
  },
  {
   "cell_type": "code",
   "execution_count": 24,
   "metadata": {},
   "outputs": [
    {
     "data": {
      "text/plain": [
       "         Point Forecast     Lo 80    Hi 80      Lo 95    Hi 95\n",
       "Apr 2019           1695  189.4355 3200.564 -607.56215 3997.562\n",
       "May 2019           1800  294.4355 3305.564 -502.56215 4102.562\n",
       "Jun 2019           1905  399.4355 3410.564 -397.56215 4207.562\n",
       "Jul 2019           2010  504.4355 3515.564 -292.56215 4312.562\n",
       "Aug 2019           2115  609.4355 3620.564 -187.56215 4417.562\n",
       "Sep 2019           2220  714.4355 3725.564  -82.56215 4522.562\n",
       "Oct 2019           2325  819.4355 3830.564   22.43785 4627.562\n",
       "Nov 2019           2430  924.4355 3935.564  127.43785 4732.562\n",
       "Dec 2019           2535 1029.4355 4040.564  232.43785 4837.562"
      ]
     },
     "metadata": {},
     "output_type": "display_data"
    }
   ],
   "source": [
    "hw_multiplicative_forecast"
   ]
  },
  {
   "cell_type": "markdown",
   "metadata": {},
   "source": [
    "### Step 9: Exponential Smoothing Model on the whole dataset"
   ]
  },
  {
   "cell_type": "code",
   "execution_count": 25,
   "metadata": {},
   "outputs": [
    {
     "data": {
      "text/plain": [
       "         Point Forecast     Lo 80    Hi 80     Lo 95    Hi 95\n",
       "Jan 2020         1042.7 -693.9094 2779.310 -1613.215 3698.616\n",
       "Feb 2020         1042.7 -702.5708 2787.972 -1626.462 3711.863\n",
       "Mar 2020         1042.7 -711.1895 2796.590 -1639.643 3725.044\n",
       "Apr 2020         1042.7 -719.7661 2805.167 -1652.759 3738.160\n",
       "May 2020         1042.7 -728.3010 2813.702 -1665.813 3751.214\n",
       "Jun 2020         1042.7 -736.7951 2822.196 -1678.803 3764.204\n",
       "Jul 2020         1042.7 -745.2488 2830.650 -1691.732 3777.133\n",
       "Aug 2020         1042.7 -753.6627 2839.064 -1704.600 3790.001\n",
       "Sep 2020         1042.7 -762.0374 2847.438 -1717.408 3802.809\n",
       "Oct 2020         1042.7 -770.3735 2855.774 -1730.157 3815.558"
      ]
     },
     "metadata": {},
     "output_type": "display_data"
    }
   ],
   "source": [
    "# Simple Exponential Smoothing Model on the whole dataset\n",
    "library(forecast)\n",
    "ses_model_all = ses(sales_ts,alpha=0.1, initial=\"simple\")\n",
    "ses_model_all"
   ]
  },
  {
   "cell_type": "code",
   "execution_count": 26,
   "metadata": {},
   "outputs": [
    {
     "data": {
      "text/plain": [
       "         Point Forecast      Lo 80    Hi 80      Lo 95    Hi 95\n",
       "Jan 2020       2049.562  230.20702 3868.917  -732.9014 4832.026\n",
       "Feb 2020       2055.287   69.12960 4041.444  -982.2784 5092.852\n",
       "Mar 2020       2060.182  -79.86446 4200.229 -1212.7366 5333.101\n",
       "Apr 2020       2064.368 -219.26027 4347.997 -1428.1402 5556.877\n",
       "May 2020       2067.948 -350.78600 4486.682 -1631.1865 5767.083\n",
       "Jun 2020       2071.010 -475.69882 4617.718 -1823.8448 5965.864\n",
       "Jul 2020       2073.627 -594.94619 4742.201 -2007.6037 6154.859\n",
       "Aug 2020       2075.866 -709.26295 4860.995 -2183.6212 6335.353\n",
       "Sep 2020       2077.780 -819.23271 4974.794 -2352.8189 6508.380\n",
       "Oct 2020       2079.418 -925.32835 5084.163 -2515.9448 6674.780"
      ]
     },
     "metadata": {},
     "output_type": "display_data"
    }
   ],
   "source": [
    "# Holt's methods with damping on the whole dataset\n",
    "holt_damp_model_all = holt(sales_ts,damped = T)\n",
    "holt_damp_model_all"
   ]
  },
  {
   "cell_type": "code",
   "execution_count": 27,
   "metadata": {},
   "outputs": [
    {
     "data": {
      "text/plain": [
       "         Point Forecast      Lo 80    Hi 80     Lo 95    Hi 95\n",
       "Jan 2020     -313.41920 -3763.4636 3136.625 -5589.807 4962.968\n",
       "Feb 2020       11.91299 -3438.1315 3461.957 -5264.475 5288.301\n",
       "Mar 2020       59.40505 -3390.6396 3509.450 -5216.983 5335.793\n",
       "Apr 2020      -42.99308 -3493.0380 3407.052 -5319.381 5233.395\n",
       "May 2020      139.66113 -3310.3842 3589.706 -5136.728 5416.050\n",
       "Jun 2020      727.42887 -2722.6170 4177.475 -4548.961 6003.819\n",
       "Jul 2020     4152.87644   702.8298 7602.923 -1123.515 9429.267\n",
       "Aug 2020     1822.09589 -1627.9517 5272.143 -3454.297 7098.488\n",
       "Sep 2020     1882.04661 -1568.0021 5332.095 -3394.348 7158.441\n",
       "Oct 2020     2002.09948 -1447.9507 5452.150 -3274.297 7278.496\n",
       "Nov 2020      299.96593 -3150.0859 3750.018 -4976.433 5576.365\n",
       "Dec 2020      445.48344 -3004.5704 3895.537 -4830.919 5721.885\n",
       "Jan 2021     -351.26353 -3801.3200 3098.793 -5627.670 4925.143\n",
       "Feb 2021      -25.13135 -3475.1904 3424.928 -5301.541 5251.279\n",
       "Mar 2021       23.14379 -3426.9182 3473.206 -5253.271 5299.558\n",
       "Apr 2021      -78.48783 -3528.5531 3371.577 -5354.907 5197.932\n",
       "May 2021      104.91671 -3345.1521 3554.986 -5171.508 5381.342\n",
       "Jun 2021      693.41890 -2756.6538 4143.492 -4583.012 5969.850\n",
       "Jul 2021     4119.58540   669.5084 7569.662 -1156.852 9396.023\n",
       "Aug 2021     1789.50858 -1660.5731 5239.590 -3486.936 7065.953\n",
       "Sep 2021     1850.14816 -1599.9386 5300.235 -3426.304 7126.601\n",
       "Oct 2021     1970.87533 -1479.2169 5420.968 -3305.585 7247.336\n",
       "Nov 2021      269.40182 -3180.6962 3719.500 -5007.068 5545.871\n",
       "Dec 2021      415.56542 -3034.5388 3865.670 -4860.914 5692.044"
      ]
     },
     "metadata": {},
     "output_type": "display_data"
    }
   ],
   "source": [
    "# Try to capture the seasonality, but not sufficient observations\n",
    "# Holt - winter seasonal method\n",
    "hw_additive_all = hw(sales_ts,seasonal = 'additive', damped = T)\n",
    "hw_additive_all"
   ]
  },
  {
   "cell_type": "code",
   "execution_count": 28,
   "metadata": {},
   "outputs": [
    {
     "data": {
      "text/plain": [
       "         Point Forecast         Lo 80        Hi 80         Lo 95        Hi 95\n",
       "Jan 2020     2830.12180   -281350.847   287011.091   -431787.165   437447.408\n",
       "Feb 2020     1021.22630   -101535.427   103577.880   -155825.640   157868.093\n",
       "Mar 2020      447.49054    -44503.276    45398.257    -68298.774    69193.755\n",
       "Apr 2020       93.42696     -9295.455     9482.309    -14265.628    14452.482\n",
       "May 2020       51.31711     -5109.093     5211.727     -7840.849     7943.484\n",
       "Jun 2020      251.67536    -25079.040    25582.390    -38488.310    38991.661\n",
       "Jul 2020      821.54082    -81960.371    83603.453   -125782.468   127425.550\n",
       "Aug 2020      359.32750    -35900.000    36618.655    -55094.528    55813.183\n",
       "Sep 2020      564.99320    -56546.825    57676.812    -86779.995    87909.982\n",
       "Oct 2020     1213.10221   -121663.686   124089.890   -186710.728   189136.932\n",
       "Nov 2020     4547.04344   -457123.267   466217.354   -701516.767   710610.853\n",
       "Dec 2020     2106.39749   -212339.474   216552.269   -325860.261   330073.056\n",
       "Jan 2021    21395.03910 -23927839.975 23970630.053 -36605799.173 36648589.251\n",
       "Feb 2021     7713.23638  -8613521.478  8628947.951 -13177327.457 13192753.930\n",
       "Mar 2021     3376.95878  -3767645.033  3774398.951  -5763903.491  5770657.408\n",
       "Apr 2021      704.46658   -785679.212   787088.145  -1201965.586  1203374.519\n",
       "May 2021      386.64681   -431295.077   432068.370   -659813.577   660586.871\n",
       "Jun 2021     1894.84372  -2115130.609  2118920.297  -3235816.189  3239605.876\n",
       "Jul 2021     6180.98535  -6907925.965  6920287.935 -10568033.094 10580395.064\n",
       "Aug 2021     2701.65094  -3024556.495  3029959.797  -4627090.156  4632493.458\n",
       "Sep 2021     4245.27303  -4763112.245  4771602.791  -7286798.870  7295289.417\n",
       "Oct 2021     9109.53054 -10247973.955 10266193.016 -15677745.965 15695965.026\n",
       "Nov 2021    34125.23760 -38509912.533 38578163.008 -58913893.617 58982144.093\n",
       "Dec 2021    15799.59502 -17893264.007 17924863.197 -27373749.605 27405348.795"
      ]
     },
     "metadata": {},
     "output_type": "display_data"
    }
   ],
   "source": [
    "# Holt - winter Multiplicative\n",
    "hw_multiplicative_all =  hw(sales_ts,seasonal = 'multiplicative', damped = T)\n",
    "hw_multiplicative_all"
   ]
  },
  {
   "cell_type": "markdown",
   "metadata": {},
   "source": [
    "### Step10: Model Forecast Visualization on the whole dataset"
   ]
  },
  {
   "cell_type": "code",
   "execution_count": 29,
   "metadata": {},
   "outputs": [
    {
     "data": {
      "image/png": "[encoded data removed]",
      "text/plain": [
       "plot without title"
      ]
     },
     "metadata": {
      "image/png": {
       "height": 420,
       "width": 420
      },
      "text/plain": {
       "height": 420,
       "width": 420
      }
     },
     "output_type": "display_data"
    }
   ],
   "source": [
    "# Visualize forecasts (train & test)\n",
    "autoplot(sales_ts)+\n",
    "    autolayer(ses_model_all,series  = 'Simple Exponential Smoothing',PI = F, size = 1.1) +\n",
    "    autolayer(holt_damp_model_all, series = 'Holt Damped Model', PI = F, size = 1.1)+\n",
    "    autolayer(hw_additive_all, series = 'Holt Winter Additive Model', PI =F, size = 1.1)+\n",
    "    autolayer(hw_multiplicative_all, series = 'Holt Winter Multiplicative Model', PI = F, size=1.1)+\n",
    "labs(title=\"Exponential Smoothing model Visualization - Pivot SafeMax\")+theme_bw()"
   ]
  },
  {
   "cell_type": "markdown",
   "metadata": {},
   "source": [
    "### Step10: obtain forecast values on the whole dataset"
   ]
  },
  {
   "cell_type": "code",
   "execution_count": 43,
   "metadata": {},
   "outputs": [],
   "source": [
    "# obtain predicted value\n",
    "ses_forecast_all = forecast(ses_model_all)\n",
    "holt_forecast_all = forecast(holt_damp_model_all)\n",
    "hw_additive_forecast_all = forecast(hw_additive_all)\n",
    "hw_multiplicative_forecast_all = forecast(hw_multiplicative_all)"
   ]
  },
  {
   "cell_type": "code",
   "execution_count": 44,
   "metadata": {},
   "outputs": [
    {
     "data": {
      "text/plain": [
       "         Point Forecast     Lo 80    Hi 80     Lo 95    Hi 95\n",
       "Jan 2020         1042.7 -693.9094 2779.310 -1613.215 3698.616\n",
       "Feb 2020         1042.7 -702.5708 2787.972 -1626.462 3711.863\n",
       "Mar 2020         1042.7 -711.1895 2796.590 -1639.643 3725.044\n",
       "Apr 2020         1042.7 -719.7661 2805.167 -1652.759 3738.160\n",
       "May 2020         1042.7 -728.3010 2813.702 -1665.813 3751.214\n",
       "Jun 2020         1042.7 -736.7951 2822.196 -1678.803 3764.204\n",
       "Jul 2020         1042.7 -745.2488 2830.650 -1691.732 3777.133\n",
       "Aug 2020         1042.7 -753.6627 2839.064 -1704.600 3790.001\n",
       "Sep 2020         1042.7 -762.0374 2847.438 -1717.408 3802.809\n",
       "Oct 2020         1042.7 -770.3735 2855.774 -1730.157 3815.558"
      ]
     },
     "metadata": {},
     "output_type": "display_data"
    }
   ],
   "source": [
    "ses_forecast_all"
   ]
  },
  {
   "cell_type": "code",
   "execution_count": 45,
   "metadata": {},
   "outputs": [
    {
     "data": {
      "text/plain": [
       "         Point Forecast      Lo 80    Hi 80      Lo 95    Hi 95\n",
       "Jan 2020       2049.562  230.20702 3868.917  -732.9014 4832.026\n",
       "Feb 2020       2055.287   69.12960 4041.444  -982.2784 5092.852\n",
       "Mar 2020       2060.182  -79.86446 4200.229 -1212.7366 5333.101\n",
       "Apr 2020       2064.368 -219.26027 4347.997 -1428.1402 5556.877\n",
       "May 2020       2067.948 -350.78600 4486.682 -1631.1865 5767.083\n",
       "Jun 2020       2071.010 -475.69882 4617.718 -1823.8448 5965.864\n",
       "Jul 2020       2073.627 -594.94619 4742.201 -2007.6037 6154.859\n",
       "Aug 2020       2075.866 -709.26295 4860.995 -2183.6212 6335.353\n",
       "Sep 2020       2077.780 -819.23271 4974.794 -2352.8189 6508.380\n",
       "Oct 2020       2079.418 -925.32835 5084.163 -2515.9448 6674.780"
      ]
     },
     "metadata": {},
     "output_type": "display_data"
    }
   ],
   "source": [
    "holt_forecast_all"
   ]
  },
  {
   "cell_type": "code",
   "execution_count": 46,
   "metadata": {},
   "outputs": [
    {
     "data": {
      "text/plain": [
       "         Point Forecast      Lo 80    Hi 80     Lo 95    Hi 95\n",
       "Jan 2020     -313.41920 -3763.4636 3136.625 -5589.807 4962.968\n",
       "Feb 2020       11.91299 -3438.1315 3461.957 -5264.475 5288.301\n",
       "Mar 2020       59.40505 -3390.6396 3509.450 -5216.983 5335.793\n",
       "Apr 2020      -42.99308 -3493.0380 3407.052 -5319.381 5233.395\n",
       "May 2020      139.66113 -3310.3842 3589.706 -5136.728 5416.050\n",
       "Jun 2020      727.42887 -2722.6170 4177.475 -4548.961 6003.819\n",
       "Jul 2020     4152.87644   702.8298 7602.923 -1123.515 9429.267\n",
       "Aug 2020     1822.09589 -1627.9517 5272.143 -3454.297 7098.488\n",
       "Sep 2020     1882.04661 -1568.0021 5332.095 -3394.348 7158.441\n",
       "Oct 2020     2002.09948 -1447.9507 5452.150 -3274.297 7278.496\n",
       "Nov 2020      299.96593 -3150.0859 3750.018 -4976.433 5576.365\n",
       "Dec 2020      445.48344 -3004.5704 3895.537 -4830.919 5721.885\n",
       "Jan 2021     -351.26353 -3801.3200 3098.793 -5627.670 4925.143\n",
       "Feb 2021      -25.13135 -3475.1904 3424.928 -5301.541 5251.279\n",
       "Mar 2021       23.14379 -3426.9182 3473.206 -5253.271 5299.558\n",
       "Apr 2021      -78.48783 -3528.5531 3371.577 -5354.907 5197.932\n",
       "May 2021      104.91671 -3345.1521 3554.986 -5171.508 5381.342\n",
       "Jun 2021      693.41890 -2756.6538 4143.492 -4583.012 5969.850\n",
       "Jul 2021     4119.58540   669.5084 7569.662 -1156.852 9396.023\n",
       "Aug 2021     1789.50858 -1660.5731 5239.590 -3486.936 7065.953\n",
       "Sep 2021     1850.14816 -1599.9386 5300.235 -3426.304 7126.601\n",
       "Oct 2021     1970.87533 -1479.2169 5420.968 -3305.585 7247.336\n",
       "Nov 2021      269.40182 -3180.6962 3719.500 -5007.068 5545.871\n",
       "Dec 2021      415.56542 -3034.5388 3865.670 -4860.914 5692.044"
      ]
     },
     "metadata": {},
     "output_type": "display_data"
    }
   ],
   "source": [
    "hw_additive_forecast_all"
   ]
  },
  {
   "cell_type": "code",
   "execution_count": 47,
   "metadata": {},
   "outputs": [
    {
     "data": {
      "text/plain": [
       "         Point Forecast         Lo 80        Hi 80         Lo 95        Hi 95\n",
       "Jan 2020     2830.12180   -281350.847   287011.091   -431787.165   437447.408\n",
       "Feb 2020     1021.22630   -101535.427   103577.880   -155825.640   157868.093\n",
       "Mar 2020      447.49054    -44503.276    45398.257    -68298.774    69193.755\n",
       "Apr 2020       93.42696     -9295.455     9482.309    -14265.628    14452.482\n",
       "May 2020       51.31711     -5109.093     5211.727     -7840.849     7943.484\n",
       "Jun 2020      251.67536    -25079.040    25582.390    -38488.310    38991.661\n",
       "Jul 2020      821.54082    -81960.371    83603.453   -125782.468   127425.550\n",
       "Aug 2020      359.32750    -35900.000    36618.655    -55094.528    55813.183\n",
       "Sep 2020      564.99320    -56546.825    57676.812    -86779.995    87909.982\n",
       "Oct 2020     1213.10221   -121663.686   124089.890   -186710.728   189136.932\n",
       "Nov 2020     4547.04344   -457123.267   466217.354   -701516.767   710610.853\n",
       "Dec 2020     2106.39749   -212339.474   216552.269   -325860.261   330073.056\n",
       "Jan 2021    21395.03910 -23927839.975 23970630.053 -36605799.173 36648589.251\n",
       "Feb 2021     7713.23638  -8613521.478  8628947.951 -13177327.457 13192753.930\n",
       "Mar 2021     3376.95878  -3767645.033  3774398.951  -5763903.491  5770657.408\n",
       "Apr 2021      704.46658   -785679.212   787088.145  -1201965.586  1203374.519\n",
       "May 2021      386.64681   -431295.077   432068.370   -659813.577   660586.871\n",
       "Jun 2021     1894.84372  -2115130.609  2118920.297  -3235816.189  3239605.876\n",
       "Jul 2021     6180.98535  -6907925.965  6920287.935 -10568033.094 10580395.064\n",
       "Aug 2021     2701.65094  -3024556.495  3029959.797  -4627090.156  4632493.458\n",
       "Sep 2021     4245.27303  -4763112.245  4771602.791  -7286798.870  7295289.417\n",
       "Oct 2021     9109.53054 -10247973.955 10266193.016 -15677745.965 15695965.026\n",
       "Nov 2021    34125.23760 -38509912.533 38578163.008 -58913893.617 58982144.093\n",
       "Dec 2021    15799.59502 -17893264.007 17924863.197 -27373749.605 27405348.795"
      ]
     },
     "metadata": {},
     "output_type": "display_data"
    }
   ],
   "source": [
    "hw_multiplicative_forecast_all"
   ]
  },
  {
   "cell_type": "markdown",
   "metadata": {},
   "source": [
    "### Step 11: obtain the accuracy value for the constructed models"
   ]
  },
  {
   "cell_type": "code",
   "execution_count": 48,
   "metadata": {},
   "outputs": [
    {
     "data": {
      "text/html": [
       "<table>\n",
       "<thead><tr><th></th><th scope=col>ME</th><th scope=col>RMSE</th><th scope=col>MAE</th><th scope=col>MPE</th><th scope=col>MAPE</th><th scope=col>MASE</th><th scope=col>ACF1</th><th scope=col>Theil's U</th></tr></thead>\n",
       "<tbody>\n",
       "\t<tr><th scope=row>Training set</th><td>610.31541  </td><td>1342.223   </td><td> 859.1893  </td><td>  -62.96356</td><td> 162.1769  </td><td>0.7144035  </td><td>0.2104424  </td><td>      NA   </td></tr>\n",
       "\t<tr><th scope=row>Test set</th><td>-78.69533  </td><td>1334.367   </td><td>1034.4851  </td><td>-1104.67485</td><td>1133.4487  </td><td>0.8601594  </td><td>0.3959335  </td><td>6.290666   </td></tr>\n",
       "</tbody>\n",
       "</table>\n"
      ],
      "text/latex": [
       "\\begin{tabular}{r|llllllll}\n",
       "  & ME & RMSE & MAE & MPE & MAPE & MASE & ACF1 & Theil's U\\\\\n",
       "\\hline\n",
       "\tTraining set & 610.31541   & 1342.223    &  859.1893   &   -62.96356 &  162.1769   & 0.7144035   & 0.2104424   &       NA   \\\\\n",
       "\tTest set & -78.69533   & 1334.367    & 1034.4851   & -1104.67485 & 1133.4487   & 0.8601594   & 0.3959335   & 6.290666   \\\\\n",
       "\\end{tabular}\n"
      ],
      "text/markdown": [
       "\n",
       "| <!--/--> | ME | RMSE | MAE | MPE | MAPE | MASE | ACF1 | Theil's U |\n",
       "|---|---|---|---|---|---|---|---|---|\n",
       "| Training set | 610.31541   | 1342.223    |  859.1893   |   -62.96356 |  162.1769   | 0.7144035   | 0.2104424   |       NA    |\n",
       "| Test set | -78.69533   | 1334.367    | 1034.4851   | -1104.67485 | 1133.4487   | 0.8601594   | 0.3959335   | 6.290666    |\n",
       "\n"
      ],
      "text/plain": [
       "             ME        RMSE     MAE       MPE         MAPE      MASE     \n",
       "Training set 610.31541 1342.223  859.1893   -62.96356  162.1769 0.7144035\n",
       "Test set     -78.69533 1334.367 1034.4851 -1104.67485 1133.4487 0.8601594\n",
       "             ACF1      Theil's U\n",
       "Training set 0.2104424       NA \n",
       "Test set     0.3959335 6.290666 "
      ]
     },
     "metadata": {},
     "output_type": "display_data"
    }
   ],
   "source": [
    "# ses model\n",
    "ses_accuracy = accuracy(ses_forecast,x=sales_ts) # accuracy on train and test sets\n",
    "ses_accuracy"
   ]
  },
  {
   "cell_type": "code",
   "execution_count": 49,
   "metadata": {},
   "outputs": [
    {
     "data": {
      "text/html": [
       "<table>\n",
       "<thead><tr><th></th><th scope=col>ME</th><th scope=col>RMSE</th><th scope=col>MAE</th><th scope=col>MPE</th><th scope=col>MAPE</th><th scope=col>MASE</th><th scope=col>ACF1</th><th scope=col>Theil's U</th></tr></thead>\n",
       "<tbody>\n",
       "\t<tr><th scope=row>Training set</th><td> 163.1831  </td><td>1130.541   </td><td> 816.8999  </td><td>  -85.26975</td><td> 384.6766  </td><td>0.6792405  </td><td>0.1743306  </td><td>      NA   </td></tr>\n",
       "\t<tr><th scope=row>Test set</th><td>-986.3475  </td><td>1615.925   </td><td>1501.6732  </td><td>-2185.00467</td><td>2197.1357  </td><td>1.2486196  </td><td>0.3635177  </td><td>12.92544   </td></tr>\n",
       "</tbody>\n",
       "</table>\n"
      ],
      "text/latex": [
       "\\begin{tabular}{r|llllllll}\n",
       "  & ME & RMSE & MAE & MPE & MAPE & MASE & ACF1 & Theil's U\\\\\n",
       "\\hline\n",
       "\tTraining set &  163.1831   & 1130.541    &  816.8999   &   -85.26975 &  384.6766   & 0.6792405   & 0.1743306   &       NA   \\\\\n",
       "\tTest set & -986.3475   & 1615.925    & 1501.6732   & -2185.00467 & 2197.1357   & 1.2486196   & 0.3635177   & 12.92544   \\\\\n",
       "\\end{tabular}\n"
      ],
      "text/markdown": [
       "\n",
       "| <!--/--> | ME | RMSE | MAE | MPE | MAPE | MASE | ACF1 | Theil's U |\n",
       "|---|---|---|---|---|---|---|---|---|\n",
       "| Training set |  163.1831   | 1130.541    |  816.8999   |   -85.26975 |  384.6766   | 0.6792405   | 0.1743306   |       NA    |\n",
       "| Test set | -986.3475   | 1615.925    | 1501.6732   | -2185.00467 | 2197.1357   | 1.2486196   | 0.3635177   | 12.92544    |\n",
       "\n"
      ],
      "text/plain": [
       "             ME        RMSE     MAE       MPE         MAPE      MASE     \n",
       "Training set  163.1831 1130.541  816.8999   -85.26975  384.6766 0.6792405\n",
       "Test set     -986.3475 1615.925 1501.6732 -2185.00467 2197.1357 1.2486196\n",
       "             ACF1      Theil's U\n",
       "Training set 0.1743306       NA \n",
       "Test set     0.3635177 12.92544 "
      ]
     },
     "metadata": {},
     "output_type": "display_data"
    }
   ],
   "source": [
    "# holt damped model\n",
    "holt_damped_accuracy = accuracy(holt_forecast, x= sales_ts)\n",
    "holt_damped_accuracy"
   ]
  },
  {
   "cell_type": "code",
   "execution_count": 50,
   "metadata": {},
   "outputs": [
    {
     "data": {
      "text/html": [
       "<table>\n",
       "<thead><tr><th></th><th scope=col>ME</th><th scope=col>RMSE</th><th scope=col>MAE</th><th scope=col>MPE</th><th scope=col>MAPE</th><th scope=col>MASE</th><th scope=col>ACF1</th><th scope=col>Theil's U</th></tr></thead>\n",
       "<tbody>\n",
       "\t<tr><th scope=row>Training set</th><td>  220.9333</td><td>1174.798  </td><td> 841.7333 </td><td> -245.7074</td><td> 286.5435 </td><td>0.6998891 </td><td>0.2160715 </td><td>      NA  </td></tr>\n",
       "\t<tr><th scope=row>Test set</th><td>-1263.2222</td><td>1715.036  </td><td>1667.2222 </td><td>-2330.3020</td><td>2339.8124 </td><td>1.3862712 </td><td>0.2648131 </td><td>13.99766  </td></tr>\n",
       "</tbody>\n",
       "</table>\n"
      ],
      "text/latex": [
       "\\begin{tabular}{r|llllllll}\n",
       "  & ME & RMSE & MAE & MPE & MAPE & MASE & ACF1 & Theil's U\\\\\n",
       "\\hline\n",
       "\tTraining set &   220.9333 & 1174.798   &  841.7333  &  -245.7074 &  286.5435  & 0.6998891  & 0.2160715  &       NA  \\\\\n",
       "\tTest set & -1263.2222 & 1715.036   & 1667.2222  & -2330.3020 & 2339.8124  & 1.3862712  & 0.2648131  & 13.99766  \\\\\n",
       "\\end{tabular}\n"
      ],
      "text/markdown": [
       "\n",
       "| <!--/--> | ME | RMSE | MAE | MPE | MAPE | MASE | ACF1 | Theil's U |\n",
       "|---|---|---|---|---|---|---|---|---|\n",
       "| Training set |   220.9333 | 1174.798   |  841.7333  |  -245.7074 |  286.5435  | 0.6998891  | 0.2160715  |       NA   |\n",
       "| Test set | -1263.2222 | 1715.036   | 1667.2222  | -2330.3020 | 2339.8124  | 1.3862712  | 0.2648131  | 13.99766   |\n",
       "\n"
      ],
      "text/plain": [
       "             ME         RMSE     MAE       MPE        MAPE      MASE     \n",
       "Training set   220.9333 1174.798  841.7333  -245.7074  286.5435 0.6998891\n",
       "Test set     -1263.2222 1715.036 1667.2222 -2330.3020 2339.8124 1.3862712\n",
       "             ACF1      Theil's U\n",
       "Training set 0.2160715       NA \n",
       "Test set     0.2648131 13.99766 "
      ]
     },
     "metadata": {},
     "output_type": "display_data"
    }
   ],
   "source": [
    "# hw_additive\n",
    "hw_additive_accuracy = accuracy(hw_additive_forecast, x = sales_ts)\n",
    "hw_additive_accuracy"
   ]
  },
  {
   "cell_type": "code",
   "execution_count": 51,
   "metadata": {},
   "outputs": [
    {
     "data": {
      "text/html": [
       "<table>\n",
       "<thead><tr><th></th><th scope=col>ME</th><th scope=col>RMSE</th><th scope=col>MAE</th><th scope=col>MPE</th><th scope=col>MAPE</th><th scope=col>MASE</th><th scope=col>ACF1</th><th scope=col>Theil's U</th></tr></thead>\n",
       "<tbody>\n",
       "\t<tr><th scope=row>Training set</th><td>  220.9333</td><td>1174.798  </td><td> 841.7333 </td><td> -245.7074</td><td> 286.5435 </td><td>0.6998891 </td><td>0.2160715 </td><td>      NA  </td></tr>\n",
       "\t<tr><th scope=row>Test set</th><td>-1263.2222</td><td>1715.036  </td><td>1667.2222 </td><td>-2330.3020</td><td>2339.8124 </td><td>1.3862712 </td><td>0.2648131 </td><td>13.99766  </td></tr>\n",
       "</tbody>\n",
       "</table>\n"
      ],
      "text/latex": [
       "\\begin{tabular}{r|llllllll}\n",
       "  & ME & RMSE & MAE & MPE & MAPE & MASE & ACF1 & Theil's U\\\\\n",
       "\\hline\n",
       "\tTraining set &   220.9333 & 1174.798   &  841.7333  &  -245.7074 &  286.5435  & 0.6998891  & 0.2160715  &       NA  \\\\\n",
       "\tTest set & -1263.2222 & 1715.036   & 1667.2222  & -2330.3020 & 2339.8124  & 1.3862712  & 0.2648131  & 13.99766  \\\\\n",
       "\\end{tabular}\n"
      ],
      "text/markdown": [
       "\n",
       "| <!--/--> | ME | RMSE | MAE | MPE | MAPE | MASE | ACF1 | Theil's U |\n",
       "|---|---|---|---|---|---|---|---|---|\n",
       "| Training set |   220.9333 | 1174.798   |  841.7333  |  -245.7074 |  286.5435  | 0.6998891  | 0.2160715  |       NA   |\n",
       "| Test set | -1263.2222 | 1715.036   | 1667.2222  | -2330.3020 | 2339.8124  | 1.3862712  | 0.2648131  | 13.99766   |\n",
       "\n"
      ],
      "text/plain": [
       "             ME         RMSE     MAE       MPE        MAPE      MASE     \n",
       "Training set   220.9333 1174.798  841.7333  -245.7074  286.5435 0.6998891\n",
       "Test set     -1263.2222 1715.036 1667.2222 -2330.3020 2339.8124 1.3862712\n",
       "             ACF1      Theil's U\n",
       "Training set 0.2160715       NA \n",
       "Test set     0.2648131 13.99766 "
      ]
     },
     "metadata": {},
     "output_type": "display_data"
    }
   ],
   "source": [
    "# hw_multiplicative\n",
    "hw_multiplicative_accuracy = accuracy(hw_multiplicative_forecast, x = sales_ts)\n",
    "hw_multiplicative_accuracy"
   ]
  }
 ],
 "metadata": {
  "kernelspec": {
   "display_name": "R",
   "language": "R",
   "name": "ir"
  },
  "language_info": {
   "codemirror_mode": "r",
   "file_extension": ".r",
   "mimetype": "text/x-r-source",
   "name": "R",
   "pygments_lexer": "r",
   "version": "3.6.1"
  }
 },
 "nbformat": 4,
 "nbformat_minor": 4
}
