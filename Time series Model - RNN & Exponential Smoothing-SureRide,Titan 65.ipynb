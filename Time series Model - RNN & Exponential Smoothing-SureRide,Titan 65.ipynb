{
 "cells": [
  {
   "cell_type": "markdown",
   "metadata": {},
   "source": [
    "# 5900 Capstone Time Series Model - Exponential Smoothing Model - SureRide/Titan 65 "
   ]
  },
  {
   "cell_type": "markdown",
   "metadata": {},
   "source": [
    "### Step 1: load packages"
   ]
  },
  {
   "cell_type": "code",
   "execution_count": 3,
   "metadata": {},
   "outputs": [],
   "source": [
    "# load packages\n",
    "library(ggplot2);library(ggthemes);library(gridExtra);library(dygraphs) # For plots \n",
    "library(quantmod);library(xts);library(zoo) # For converting data into xts class objects\n",
    "library(fpp); library(fpp2) # Datasets from Forecasting text by Rob Hyndman\n",
    "library(tseries) # for a statistical test\n",
    "library(dplyr) # Data wrangling\n",
    "library(caret) # Model Training\n",
    "library(lubridate)"
   ]
  },
  {
   "cell_type": "code",
   "execution_count": 4,
   "metadata": {},
   "outputs": [],
   "source": [
    "# Forecasting Tools\n",
    "library(forecast) # Set of forecasting functions, including auto.arima"
   ]
  },
  {
   "cell_type": "code",
   "execution_count": 5,
   "metadata": {},
   "outputs": [],
   "source": [
    "# Model Evaluation\n",
    "# using the accuracy function in forecast package to provide model evaluation metrics, including ME, RMSE etc"
   ]
  },
  {
   "cell_type": "markdown",
   "metadata": {},
   "source": [
    "### Step 2: read dataset"
   ]
  },
  {
   "cell_type": "code",
   "execution_count": 6,
   "metadata": {},
   "outputs": [
    {
     "data": {
      "text/html": [
       "<table>\n",
       "<thead><tr><th scope=col>Company</th><th scope=col>Transaction.Date</th><th scope=col>Week.End.Date</th><th scope=col>Item</th><th scope=col>Item.Description</th><th scope=col>Category_Family</th><th scope=col>Category_Code</th><th scope=col>Sub_Category_Family</th><th scope=col>BRAND</th><th scope=col>Customer</th><th scope=col>...</th><th scope=col>Short.Close.Amount</th><th scope=col>Open.Qty</th><th scope=col>Open.Amount</th><th scope=col>Invoice.Qty</th><th scope=col>Invoice.Net.Amount</th><th scope=col>Invoice.Gross.Amount</th><th scope=col>POS.Qty</th><th scope=col>POS.Amount</th><th scope=col>Transaction.month</th><th scope=col>unit_price</th></tr></thead>\n",
       "<tbody>\n",
       "\t<tr><td>100                           </td><td>2019-01-01                    </td><td>2019-01-05                    </td><td>55411811                      </td><td>VIVE ELITE TS EMBRACE LINUS   </td><td>Wheeled Goods                 </td><td>Travel Systems                </td><td>Vive with Embrace             </td><td>Evenflo                       </td><td>A731D                         </td><td>...                           </td><td>0                             </td><td>0                             </td><td>0                             </td><td>0                             </td><td>0                             </td><td>0                             </td><td>0                             </td><td>0                             </td><td>1                             </td><td> 89.25                        </td></tr>\n",
       "\t<tr><td>100                           </td><td>2019-01-01                    </td><td>2019-01-05                    </td><td>37112075                      </td><td>SURERIDE SPORT HARPER         </td><td>Car Seats                     </td><td>Convertible                   </td><td>SureRide/Titan 65             </td><td>Evenflo                       </td><td>A731D                         </td><td>...                           </td><td>0                             </td><td>0                             </td><td>0                             </td><td>0                             </td><td>0                             </td><td>0                             </td><td>0                             </td><td>0                             </td><td>1                             </td><td> 72.00                        </td></tr>\n",
       "\t<tr><td>100                           </td><td>2019-01-01                    </td><td>2019-01-05                    </td><td>34912204                      </td><td>MAESTRO SPORT WHITNEY         </td><td>Car Seats                     </td><td>Booster                       </td><td>Maestro Sport                 </td><td>Evenflo                       </td><td>A731D                         </td><td>...                           </td><td>0                             </td><td>0                             </td><td>0                             </td><td>0                             </td><td>0                             </td><td>0                             </td><td>0                             </td><td>0                             </td><td>1                             </td><td> 61.69                        </td></tr>\n",
       "\t<tr><td>100                           </td><td>2019-01-01                    </td><td>2019-01-05                    </td><td>34812023                      </td><td>SONUS65 ROCCO RED             </td><td>Car Seats                     </td><td>Convertible                   </td><td>Sonus                         </td><td>Evenflo                       </td><td>A731D                         </td><td>...                           </td><td>0                             </td><td>0                             </td><td>0                             </td><td>0                             </td><td>0                             </td><td>0                             </td><td>0                             </td><td>0                             </td><td>1                             </td><td> 68.25                        </td></tr>\n",
       "\t<tr><td>100                           </td><td>2019-01-01                    </td><td>2019-01-05                    </td><td>13812254                      </td><td>PIVOT XPAND STROLLER PERCHERON</td><td>Wheeled Goods                 </td><td>Strollers                     </td><td>Xpand                         </td><td>Evenflo                       </td><td>A731D                         </td><td>...                           </td><td>0                             </td><td>0                             </td><td>0                             </td><td>0                             </td><td>0                             </td><td>0                             </td><td>0                             </td><td>0                             </td><td>1                             </td><td>181.99                        </td></tr>\n",
       "\t<tr><td>100                           </td><td>2019-01-01                    </td><td>2019-01-05                    </td><td>39212241                      </td><td>EVERYSTAGE DLX CANYONS        </td><td>Car Seats                     </td><td>Convertible                   </td><td>Everystage                    </td><td>Evenflo                       </td><td>A731D                         </td><td>...                           </td><td>0                             </td><td>0                             </td><td>0                             </td><td>0                             </td><td>0                             </td><td>0                             </td><td>0                             </td><td>0                             </td><td>1                             </td><td>154.79                        </td></tr>\n",
       "</tbody>\n",
       "</table>\n"
      ],
      "text/latex": [
       "\\begin{tabular}{r|llllllllllllllllllllllllllll}\n",
       " Company & Transaction.Date & Week.End.Date & Item & Item.Description & Category\\_Family & Category\\_Code & Sub\\_Category\\_Family & BRAND & Customer & ... & Short.Close.Amount & Open.Qty & Open.Amount & Invoice.Qty & Invoice.Net.Amount & Invoice.Gross.Amount & POS.Qty & POS.Amount & Transaction.month & unit\\_price\\\\\n",
       "\\hline\n",
       "\t 100                            & 2019-01-01                     & 2019-01-05                     & 55411811                       & VIVE ELITE TS EMBRACE LINUS    & Wheeled Goods                  & Travel Systems                 & Vive with Embrace              & Evenflo                        & A731D                          & ...                            & 0                              & 0                              & 0                              & 0                              & 0                              & 0                              & 0                              & 0                              & 1                              &  89.25                        \\\\\n",
       "\t 100                            & 2019-01-01                     & 2019-01-05                     & 37112075                       & SURERIDE SPORT HARPER          & Car Seats                      & Convertible                    & SureRide/Titan 65              & Evenflo                        & A731D                          & ...                            & 0                              & 0                              & 0                              & 0                              & 0                              & 0                              & 0                              & 0                              & 1                              &  72.00                        \\\\\n",
       "\t 100                            & 2019-01-01                     & 2019-01-05                     & 34912204                       & MAESTRO SPORT WHITNEY          & Car Seats                      & Booster                        & Maestro Sport                  & Evenflo                        & A731D                          & ...                            & 0                              & 0                              & 0                              & 0                              & 0                              & 0                              & 0                              & 0                              & 1                              &  61.69                        \\\\\n",
       "\t 100                            & 2019-01-01                     & 2019-01-05                     & 34812023                       & SONUS65 ROCCO RED              & Car Seats                      & Convertible                    & Sonus                          & Evenflo                        & A731D                          & ...                            & 0                              & 0                              & 0                              & 0                              & 0                              & 0                              & 0                              & 0                              & 1                              &  68.25                        \\\\\n",
       "\t 100                            & 2019-01-01                     & 2019-01-05                     & 13812254                       & PIVOT XPAND STROLLER PERCHERON & Wheeled Goods                  & Strollers                      & Xpand                          & Evenflo                        & A731D                          & ...                            & 0                              & 0                              & 0                              & 0                              & 0                              & 0                              & 0                              & 0                              & 1                              & 181.99                        \\\\\n",
       "\t 100                            & 2019-01-01                     & 2019-01-05                     & 39212241                       & EVERYSTAGE DLX CANYONS         & Car Seats                      & Convertible                    & Everystage                     & Evenflo                        & A731D                          & ...                            & 0                              & 0                              & 0                              & 0                              & 0                              & 0                              & 0                              & 0                              & 1                              & 154.79                        \\\\\n",
       "\\end{tabular}\n"
      ],
      "text/markdown": [
       "\n",
       "| Company | Transaction.Date | Week.End.Date | Item | Item.Description | Category_Family | Category_Code | Sub_Category_Family | BRAND | Customer | ... | Short.Close.Amount | Open.Qty | Open.Amount | Invoice.Qty | Invoice.Net.Amount | Invoice.Gross.Amount | POS.Qty | POS.Amount | Transaction.month | unit_price |\n",
       "|---|---|---|---|---|---|---|---|---|---|---|---|---|---|---|---|---|---|---|---|---|\n",
       "| 100                            | 2019-01-01                     | 2019-01-05                     | 55411811                       | VIVE ELITE TS EMBRACE LINUS    | Wheeled Goods                  | Travel Systems                 | Vive with Embrace              | Evenflo                        | A731D                          | ...                            | 0                              | 0                              | 0                              | 0                              | 0                              | 0                              | 0                              | 0                              | 1                              |  89.25                         |\n",
       "| 100                            | 2019-01-01                     | 2019-01-05                     | 37112075                       | SURERIDE SPORT HARPER          | Car Seats                      | Convertible                    | SureRide/Titan 65              | Evenflo                        | A731D                          | ...                            | 0                              | 0                              | 0                              | 0                              | 0                              | 0                              | 0                              | 0                              | 1                              |  72.00                         |\n",
       "| 100                            | 2019-01-01                     | 2019-01-05                     | 34912204                       | MAESTRO SPORT WHITNEY          | Car Seats                      | Booster                        | Maestro Sport                  | Evenflo                        | A731D                          | ...                            | 0                              | 0                              | 0                              | 0                              | 0                              | 0                              | 0                              | 0                              | 1                              |  61.69                         |\n",
       "| 100                            | 2019-01-01                     | 2019-01-05                     | 34812023                       | SONUS65 ROCCO RED              | Car Seats                      | Convertible                    | Sonus                          | Evenflo                        | A731D                          | ...                            | 0                              | 0                              | 0                              | 0                              | 0                              | 0                              | 0                              | 0                              | 1                              |  68.25                         |\n",
       "| 100                            | 2019-01-01                     | 2019-01-05                     | 13812254                       | PIVOT XPAND STROLLER PERCHERON | Wheeled Goods                  | Strollers                      | Xpand                          | Evenflo                        | A731D                          | ...                            | 0                              | 0                              | 0                              | 0                              | 0                              | 0                              | 0                              | 0                              | 1                              | 181.99                         |\n",
       "| 100                            | 2019-01-01                     | 2019-01-05                     | 39212241                       | EVERYSTAGE DLX CANYONS         | Car Seats                      | Convertible                    | Everystage                     | Evenflo                        | A731D                          | ...                            | 0                              | 0                              | 0                              | 0                              | 0                              | 0                              | 0                              | 0                              | 1                              | 154.79                         |\n",
       "\n"
      ],
      "text/plain": [
       "  Company Transaction.Date Week.End.Date Item    \n",
       "1 100     2019-01-01       2019-01-05    55411811\n",
       "2 100     2019-01-01       2019-01-05    37112075\n",
       "3 100     2019-01-01       2019-01-05    34912204\n",
       "4 100     2019-01-01       2019-01-05    34812023\n",
       "5 100     2019-01-01       2019-01-05    13812254\n",
       "6 100     2019-01-01       2019-01-05    39212241\n",
       "  Item.Description               Category_Family               \n",
       "1 VIVE ELITE TS EMBRACE LINUS    Wheeled Goods                 \n",
       "2 SURERIDE SPORT HARPER          Car Seats                     \n",
       "3 MAESTRO SPORT WHITNEY          Car Seats                     \n",
       "4 SONUS65 ROCCO RED              Car Seats                     \n",
       "5 PIVOT XPAND STROLLER PERCHERON Wheeled Goods                 \n",
       "6 EVERYSTAGE DLX CANYONS         Car Seats                     \n",
       "  Category_Code                  Sub_Category_Family           \n",
       "1 Travel Systems                 Vive with Embrace             \n",
       "2 Convertible                    SureRide/Titan 65             \n",
       "3 Booster                        Maestro Sport                 \n",
       "4 Convertible                    Sonus                         \n",
       "5 Strollers                      Xpand                         \n",
       "6 Convertible                    Everystage                    \n",
       "  BRAND                          Customer ... Short.Close.Amount Open.Qty\n",
       "1 Evenflo                        A731D    ... 0                  0       \n",
       "2 Evenflo                        A731D    ... 0                  0       \n",
       "3 Evenflo                        A731D    ... 0                  0       \n",
       "4 Evenflo                        A731D    ... 0                  0       \n",
       "5 Evenflo                        A731D    ... 0                  0       \n",
       "6 Evenflo                        A731D    ... 0                  0       \n",
       "  Open.Amount Invoice.Qty Invoice.Net.Amount Invoice.Gross.Amount POS.Qty\n",
       "1 0           0           0                  0                    0      \n",
       "2 0           0           0                  0                    0      \n",
       "3 0           0           0                  0                    0      \n",
       "4 0           0           0                  0                    0      \n",
       "5 0           0           0                  0                    0      \n",
       "6 0           0           0                  0                    0      \n",
       "  POS.Amount Transaction.month unit_price\n",
       "1 0          1                  89.25    \n",
       "2 0          1                  72.00    \n",
       "3 0          1                  61.69    \n",
       "4 0          1                  68.25    \n",
       "5 0          1                 181.99    \n",
       "6 0          1                 154.79    "
      ]
     },
     "metadata": {},
     "output_type": "display_data"
    }
   ],
   "source": [
    "# 2019 order dataset\n",
    "setwd('/Users/czw/Desktop')\n",
    "order = read.csv(\"order19.csv\") \n",
    "# pre-filtered dataset of items having price over 50\n",
    "# transform the data type for order - 2019\n",
    "order$Order.Qty=as.numeric(order$Order.Qty)\n",
    "order$Order.Amount = as.numeric(order$Order.Amount)\n",
    "order$Transaction.Date=as.Date(order$Transaction.Date, format='%m/%d/%Y')\n",
    "order$Transaction.month=month(as.POSIXlt(order$Transaction.Date, format=\"%m/%d/%Y\"))\n",
    "order$Week.End.Date=as.Date(order$Week.End.Date, format='%m/%d/%Y')\n",
    "order$Sub_Category_Family = as.factor(order$Sub_Category_Family)\n",
    "# add a new column for unit price\n",
    "order$unit_price = order$Order.Amount/order$Order.Qty \n",
    "# filter the dataset that only captures the items with unit price>$50\n",
    "order = order %>%\n",
    "    filter(order$unit_price>50)\n",
    "head(order)"
   ]
  },
  {
   "cell_type": "code",
   "execution_count": 7,
   "metadata": {},
   "outputs": [
    {
     "data": {
      "text/html": [
       "<table>\n",
       "<thead><tr><th scope=col>Company</th><th scope=col>Transaction.Date</th><th scope=col>Week.End.Date..EF.</th><th scope=col>Item</th><th scope=col>Item.Description</th><th scope=col>Category.Family</th><th scope=col>Category</th><th scope=col>Sub.Category</th><th scope=col>Brand</th><th scope=col>Customer.ID</th><th scope=col>...</th><th scope=col>Open.Amount</th><th scope=col>Invoice.Qty</th><th scope=col>Invoice.Gross.Amount..HC.</th><th scope=col>Invoice.Net.Amount..HC.</th><th scope=col>Invoice.Gross.Amount..USD.</th><th scope=col>Invoice.Net.Amount..USD.</th><th scope=col>POS.Qty</th><th scope=col>POS.Amount</th><th scope=col>Transaction.month</th><th scope=col>unit_price</th></tr></thead>\n",
       "<tbody>\n",
       "\t<tr><td>100                           </td><td>2018-01-01                    </td><td>2018-01-06                    </td><td>1050500                       </td><td>TOP OF STAIR EXTRA TALL BOX   </td><td>Gates                         </td><td>Wood Gates                    </td><td>105 Gates                     </td><td>Evenflo                       </td><td>A731                          </td><td>...                           </td><td> $ -                          </td><td>0                             </td><td> $ -                          </td><td>0.00                          </td><td> $ -                          </td><td> $ -                          </td><td>0                             </td><td> $ -                          </td><td>1                             </td><td>138.73333                     </td></tr>\n",
       "\t<tr><td>100                           </td><td>2018-01-01                    </td><td>2018-01-06                    </td><td>30512004                      </td><td>PROSERIES LTMX PORTLAND TWEED </td><td>Car Seats                     </td><td>Infant                        </td><td>Litemax                       </td><td>Evenflo                       </td><td>A731                          </td><td>...                           </td><td> $ -                          </td><td>0                             </td><td> $ -                          </td><td>0.00                          </td><td> $ -                          </td><td> $ -                          </td><td>0                             </td><td> $ -                          </td><td>1                             </td><td>308.66667                     </td></tr>\n",
       "\t<tr><td>100                           </td><td>2018-01-01                    </td><td>2018-01-06                    </td><td>34411927                      </td><td>SAFEMAX 3 IN 1 CRIMSON        </td><td>Car Seats                     </td><td>Booster                       </td><td>Safemax                       </td><td>Evenflo                       </td><td>A731D                         </td><td>...                           </td><td> $ -                          </td><td>0                             </td><td> $ -                          </td><td>0.00                          </td><td> $ -                          </td><td> $ -                          </td><td>0                             </td><td> $ -                          </td><td>1                             </td><td> 60.86667                     </td></tr>\n",
       "\t<tr><td>100                                                      </td><td>2018-01-01                                               </td><td>2018-01-06                                               </td><td>4448100                                                  </td><td>EMBRACE WOOD &amp; METAL GATE .COM                       </td><td><span style=white-space:pre-wrap>Gates    </span>        </td><td><span style=white-space:pre-wrap>Metal Gates     </span> </td><td><span style=white-space:pre-wrap>105 Gates        </span></td><td><span style=white-space:pre-wrap>Evenflo   </span>       </td><td>A731                                                     </td><td>...                                                      </td><td><span style=white-space:pre-wrap> $ -   </span>          </td><td>0                                                        </td><td><span style=white-space:pre-wrap> $ -   </span>          </td><td>0.00                                                     </td><td><span style=white-space:pre-wrap> $ -   </span>          </td><td><span style=white-space:pre-wrap> $ -   </span>          </td><td>0                                                        </td><td><span style=white-space:pre-wrap> $ -   </span>          </td><td>1                                                        </td><td>212.66667                                                </td></tr>\n",
       "\t<tr><td>100                           </td><td>2018-01-01                    </td><td>2018-01-06                    </td><td>4449100                       </td><td>EMBRACE CLEAR PANEL GATE .COM </td><td>Gates                         </td><td>Metal Gates                   </td><td>448 Gates                     </td><td>Evenflo                       </td><td>A731                          </td><td>...                           </td><td> $ -                          </td><td>0                             </td><td> $ -                          </td><td>0.00                          </td><td> $ -                          </td><td> $ -                          </td><td>0                             </td><td> $ -                          </td><td>1                             </td><td>212.66667                     </td></tr>\n",
       "\t<tr><td>100                           </td><td>2018-01-01                    </td><td>2018-01-06                    </td><td>60511372                      </td><td>ZOO FRIENDS EXERSAUCER DLX    </td><td>Activity                      </td><td>Activity Centers              </td><td>Exersaucer Deluxe             </td><td>Exersaucer                    </td><td>A731                          </td><td>...                           </td><td> $ -                          </td><td>0                             </td><td> $ -                          </td><td>0.00                          </td><td> $ -                          </td><td> $ -                          </td><td>0                             </td><td> $ -                          </td><td>1                             </td><td>154.88889                     </td></tr>\n",
       "</tbody>\n",
       "</table>\n"
      ],
      "text/latex": [
       "\\begin{tabular}{r|llllllllllllllllllllllllllllllll}\n",
       " Company & Transaction.Date & Week.End.Date..EF. & Item & Item.Description & Category.Family & Category & Sub.Category & Brand & Customer.ID & ... & Open.Amount & Invoice.Qty & Invoice.Gross.Amount..HC. & Invoice.Net.Amount..HC. & Invoice.Gross.Amount..USD. & Invoice.Net.Amount..USD. & POS.Qty & POS.Amount & Transaction.month & unit\\_price\\\\\n",
       "\\hline\n",
       "\t 100                            & 2018-01-01                     & 2018-01-06                     & 1050500                        & TOP OF STAIR EXTRA TALL BOX    & Gates                          & Wood Gates                     & 105 Gates                      & Evenflo                        & A731                           & ...                            &  \\$ -                         & 0                              &  \\$ -                         & 0.00                           &  \\$ -                         &  \\$ -                         & 0                              &  \\$ -                         & 1                              & 138.73333                     \\\\\n",
       "\t 100                            & 2018-01-01                     & 2018-01-06                     & 30512004                       & PROSERIES LTMX PORTLAND TWEED  & Car Seats                      & Infant                         & Litemax                        & Evenflo                        & A731                           & ...                            &  \\$ -                         & 0                              &  \\$ -                         & 0.00                           &  \\$ -                         &  \\$ -                         & 0                              &  \\$ -                         & 1                              & 308.66667                     \\\\\n",
       "\t 100                            & 2018-01-01                     & 2018-01-06                     & 34411927                       & SAFEMAX 3 IN 1 CRIMSON         & Car Seats                      & Booster                        & Safemax                        & Evenflo                        & A731D                          & ...                            &  \\$ -                         & 0                              &  \\$ -                         & 0.00                           &  \\$ -                         &  \\$ -                         & 0                              &  \\$ -                         & 1                              &  60.86667                     \\\\\n",
       "\t 100                              & 2018-01-01                       & 2018-01-06                       & 4448100                          & EMBRACE WOOD \\& METAL GATE .COM & Gates                            & Metal Gates                      & 105 Gates                        & Evenflo                          & A731                             & ...                              &  \\$ -                           & 0                                &  \\$ -                           & 0.00                             &  \\$ -                           &  \\$ -                           & 0                                &  \\$ -                           & 1                                & 212.66667                       \\\\\n",
       "\t 100                            & 2018-01-01                     & 2018-01-06                     & 4449100                        & EMBRACE CLEAR PANEL GATE .COM  & Gates                          & Metal Gates                    & 448 Gates                      & Evenflo                        & A731                           & ...                            &  \\$ -                         & 0                              &  \\$ -                         & 0.00                           &  \\$ -                         &  \\$ -                         & 0                              &  \\$ -                         & 1                              & 212.66667                     \\\\\n",
       "\t 100                            & 2018-01-01                     & 2018-01-06                     & 60511372                       & ZOO FRIENDS EXERSAUCER DLX     & Activity                       & Activity Centers               & Exersaucer Deluxe              & Exersaucer                     & A731                           & ...                            &  \\$ -                         & 0                              &  \\$ -                         & 0.00                           &  \\$ -                         &  \\$ -                         & 0                              &  \\$ -                         & 1                              & 154.88889                     \\\\\n",
       "\\end{tabular}\n"
      ],
      "text/markdown": [
       "\n",
       "| Company | Transaction.Date | Week.End.Date..EF. | Item | Item.Description | Category.Family | Category | Sub.Category | Brand | Customer.ID | ... | Open.Amount | Invoice.Qty | Invoice.Gross.Amount..HC. | Invoice.Net.Amount..HC. | Invoice.Gross.Amount..USD. | Invoice.Net.Amount..USD. | POS.Qty | POS.Amount | Transaction.month | unit_price |\n",
       "|---|---|---|---|---|---|---|---|---|---|---|---|---|---|---|---|---|---|---|---|---|\n",
       "| 100                            | 2018-01-01                     | 2018-01-06                     | 1050500                        | TOP OF STAIR EXTRA TALL BOX    | Gates                          | Wood Gates                     | 105 Gates                      | Evenflo                        | A731                           | ...                            |  $ -                           | 0                              |  $ -                           | 0.00                           |  $ -                           |  $ -                           | 0                              |  $ -                           | 1                              | 138.73333                      |\n",
       "| 100                            | 2018-01-01                     | 2018-01-06                     | 30512004                       | PROSERIES LTMX PORTLAND TWEED  | Car Seats                      | Infant                         | Litemax                        | Evenflo                        | A731                           | ...                            |  $ -                           | 0                              |  $ -                           | 0.00                           |  $ -                           |  $ -                           | 0                              |  $ -                           | 1                              | 308.66667                      |\n",
       "| 100                            | 2018-01-01                     | 2018-01-06                     | 34411927                       | SAFEMAX 3 IN 1 CRIMSON         | Car Seats                      | Booster                        | Safemax                        | Evenflo                        | A731D                          | ...                            |  $ -                           | 0                              |  $ -                           | 0.00                           |  $ -                           |  $ -                           | 0                              |  $ -                           | 1                              |  60.86667                      |\n",
       "| 100                            | 2018-01-01                     | 2018-01-06                     | 4448100                        | EMBRACE WOOD & METAL GATE .COM | Gates                          | Metal Gates                    | 105 Gates                      | Evenflo                        | A731                           | ...                            |  $ -                           | 0                              |  $ -                           | 0.00                           |  $ -                           |  $ -                           | 0                              |  $ -                           | 1                              | 212.66667                      |\n",
       "| 100                            | 2018-01-01                     | 2018-01-06                     | 4449100                        | EMBRACE CLEAR PANEL GATE .COM  | Gates                          | Metal Gates                    | 448 Gates                      | Evenflo                        | A731                           | ...                            |  $ -                           | 0                              |  $ -                           | 0.00                           |  $ -                           |  $ -                           | 0                              |  $ -                           | 1                              | 212.66667                      |\n",
       "| 100                            | 2018-01-01                     | 2018-01-06                     | 60511372                       | ZOO FRIENDS EXERSAUCER DLX     | Activity                       | Activity Centers               | Exersaucer Deluxe              | Exersaucer                     | A731                           | ...                            |  $ -                           | 0                              |  $ -                           | 0.00                           |  $ -                           |  $ -                           | 0                              |  $ -                           | 1                              | 154.88889                      |\n",
       "\n"
      ],
      "text/plain": [
       "  Company Transaction.Date Week.End.Date..EF. Item    \n",
       "1 100     2018-01-01       2018-01-06         1050500 \n",
       "2 100     2018-01-01       2018-01-06         30512004\n",
       "3 100     2018-01-01       2018-01-06         34411927\n",
       "4 100     2018-01-01       2018-01-06         4448100 \n",
       "5 100     2018-01-01       2018-01-06         4449100 \n",
       "6 100     2018-01-01       2018-01-06         60511372\n",
       "  Item.Description               Category.Family Category        \n",
       "1 TOP OF STAIR EXTRA TALL BOX    Gates           Wood Gates      \n",
       "2 PROSERIES LTMX PORTLAND TWEED  Car Seats       Infant          \n",
       "3 SAFEMAX 3 IN 1 CRIMSON         Car Seats       Booster         \n",
       "4 EMBRACE WOOD & METAL GATE .COM Gates           Metal Gates     \n",
       "5 EMBRACE CLEAR PANEL GATE .COM  Gates           Metal Gates     \n",
       "6 ZOO FRIENDS EXERSAUCER DLX     Activity        Activity Centers\n",
       "  Sub.Category      Brand      Customer.ID ... Open.Amount Invoice.Qty\n",
       "1 105 Gates         Evenflo    A731        ...  $ -        0          \n",
       "2 Litemax           Evenflo    A731        ...  $ -        0          \n",
       "3 Safemax           Evenflo    A731D       ...  $ -        0          \n",
       "4 105 Gates         Evenflo    A731        ...  $ -        0          \n",
       "5 448 Gates         Evenflo    A731        ...  $ -        0          \n",
       "6 Exersaucer Deluxe Exersaucer A731        ...  $ -        0          \n",
       "  Invoice.Gross.Amount..HC. Invoice.Net.Amount..HC. Invoice.Gross.Amount..USD.\n",
       "1  $ -                      0.00                     $ -                      \n",
       "2  $ -                      0.00                     $ -                      \n",
       "3  $ -                      0.00                     $ -                      \n",
       "4  $ -                      0.00                     $ -                      \n",
       "5  $ -                      0.00                     $ -                      \n",
       "6  $ -                      0.00                     $ -                      \n",
       "  Invoice.Net.Amount..USD. POS.Qty POS.Amount Transaction.month unit_price\n",
       "1  $ -                     0        $ -       1                 138.73333 \n",
       "2  $ -                     0        $ -       1                 308.66667 \n",
       "3  $ -                     0        $ -       1                  60.86667 \n",
       "4  $ -                     0        $ -       1                 212.66667 \n",
       "5  $ -                     0        $ -       1                 212.66667 \n",
       "6  $ -                     0        $ -       1                 154.88889 "
      ]
     },
     "metadata": {},
     "output_type": "display_data"
    }
   ],
   "source": [
    "# 2018 order dataset\n",
    "setwd('/Users/czw/Desktop')\n",
    "order2=read.csv(\"order18.csv\") \n",
    "# transform the data type for order - 2018\n",
    "order2$Order.Qty=as.numeric(order2$Order.Qty)\n",
    "order2$Order.Amount=as.numeric(order2$Order.Amount)\n",
    "order2$Transaction.Date=as.Date(order2$Transaction.Date, format='%d-%B-%y')\n",
    "order2$Transaction.month=month(as.POSIXlt(order2$Transaction.Date, format=\"%d-%B-%y\"))\n",
    "order2$Week.End.Date..EF.=as.Date(order2$Week.End.Date..EF., format='%d-%B-%y')\n",
    "order2$Sub.Category = as.factor(order2$Sub.Category)\n",
    "# add a new column for unit price\n",
    "order2$unit_price = order2$Order.Amount/order2$Order.Qty\n",
    "# filter the dataset that only captures the items with unit price>$50\n",
    "order2 = order2 %>%\n",
    "    filter(order2$unit_price>50)\n",
    "head(order2)"
   ]
  },
  {
   "cell_type": "markdown",
   "metadata": {},
   "source": [
    "### Step 3: Visualize the Historical Sales"
   ]
  },
  {
   "cell_type": "code",
   "execution_count": 8,
   "metadata": {},
   "outputs": [
    {
     "data": {
      "text/html": [
       "<table>\n",
       "<thead><tr><th scope=col>Company</th><th scope=col>Transaction.Date</th><th scope=col>Week.End.Date</th><th scope=col>Item</th><th scope=col>Item.Description</th><th scope=col>Category_Family</th><th scope=col>Category_Code</th><th scope=col>Sub_Category_Family</th><th scope=col>BRAND</th><th scope=col>Customer</th><th scope=col>...</th><th scope=col>Short.Close.Amount</th><th scope=col>Open.Qty</th><th scope=col>Open.Amount</th><th scope=col>Invoice.Qty</th><th scope=col>Invoice.Net.Amount</th><th scope=col>Invoice.Gross.Amount</th><th scope=col>POS.Qty</th><th scope=col>POS.Amount</th><th scope=col>Transaction.month</th><th scope=col>unit_price</th></tr></thead>\n",
       "<tbody>\n",
       "\t<tr><td>100                           </td><td>2019-01-01                    </td><td>2019-01-05                    </td><td>37112075                      </td><td>SURERIDE SPORT HARPER         </td><td>Car Seats                     </td><td>Convertible                   </td><td>SureRide/Titan 65             </td><td>Evenflo                       </td><td>A731D                         </td><td>...                           </td><td>0                             </td><td>0                             </td><td>0                             </td><td> 0                            </td><td>   0                          </td><td>   0                          </td><td>0                             </td><td>0                             </td><td>1                             </td><td>72                            </td></tr>\n",
       "\t<tr><td>100                           </td><td>2019-01-01                    </td><td>2019-01-05                    </td><td>37112280                      </td><td>SURERIDE CARSON               </td><td>Car Seats                     </td><td>Convertible                   </td><td>SureRide/Titan 65             </td><td>Evenflo                       </td><td>A731D                         </td><td>...                           </td><td>0                             </td><td>0                             </td><td>0                             </td><td> 0                            </td><td>   0                          </td><td>   0                          </td><td>0                             </td><td>0                             </td><td>1                             </td><td>72                            </td></tr>\n",
       "\t<tr><td>100                           </td><td>2019-01-02                    </td><td>2019-01-05                    </td><td>37121334                      </td><td>SURERIDE DLX SUGAR PLUM       </td><td>Car Seats                     </td><td>Convertible                   </td><td>SureRide/Titan 65             </td><td>Evenflo                       </td><td>A731D                         </td><td>...                           </td><td>0                             </td><td>0                             </td><td>0                             </td><td> 0                            </td><td>   0                          </td><td>   0                          </td><td>0                             </td><td>0                             </td><td>1                             </td><td>72                            </td></tr>\n",
       "\t<tr><td>100                           </td><td>2019-01-03                    </td><td>2019-01-05                    </td><td>37121334                      </td><td>SURERIDE DLX SUGAR PLUM       </td><td>Car Seats                     </td><td>Convertible                   </td><td>SureRide/Titan 65             </td><td>Evenflo                       </td><td>A731D                         </td><td>...                           </td><td>0                             </td><td>0                             </td><td>0                             </td><td> 3                            </td><td> 216                          </td><td> 216                          </td><td>0                             </td><td>0                             </td><td>1                             </td><td>72                            </td></tr>\n",
       "\t<tr><td>100                           </td><td>2019-01-04                    </td><td>2019-01-05                    </td><td>37121334                      </td><td>SURERIDE DLX SUGAR PLUM       </td><td>Car Seats                     </td><td>Convertible                   </td><td>SureRide/Titan 65             </td><td>Evenflo                       </td><td>A731D                         </td><td>...                           </td><td>0                             </td><td>0                             </td><td>0                             </td><td>15                            </td><td>1080                          </td><td>1080                          </td><td>0                             </td><td>0                             </td><td>1                             </td><td>72                            </td></tr>\n",
       "\t<tr><td>100                           </td><td>2019-01-04                    </td><td>2019-01-05                    </td><td>37112280                      </td><td>SURERIDE CARSON               </td><td>Car Seats                     </td><td>Convertible                   </td><td>SureRide/Titan 65             </td><td>Evenflo                       </td><td>A731D                         </td><td>...                           </td><td>0                             </td><td>0                             </td><td>0                             </td><td> 0                            </td><td>   0                          </td><td>   0                          </td><td>0                             </td><td>0                             </td><td>1                             </td><td>72                            </td></tr>\n",
       "</tbody>\n",
       "</table>\n"
      ],
      "text/latex": [
       "\\begin{tabular}{r|llllllllllllllllllllllllllll}\n",
       " Company & Transaction.Date & Week.End.Date & Item & Item.Description & Category\\_Family & Category\\_Code & Sub\\_Category\\_Family & BRAND & Customer & ... & Short.Close.Amount & Open.Qty & Open.Amount & Invoice.Qty & Invoice.Net.Amount & Invoice.Gross.Amount & POS.Qty & POS.Amount & Transaction.month & unit\\_price\\\\\n",
       "\\hline\n",
       "\t 100                            & 2019-01-01                     & 2019-01-05                     & 37112075                       & SURERIDE SPORT HARPER          & Car Seats                      & Convertible                    & SureRide/Titan 65              & Evenflo                        & A731D                          & ...                            & 0                              & 0                              & 0                              &  0                             &    0                           &    0                           & 0                              & 0                              & 1                              & 72                            \\\\\n",
       "\t 100                            & 2019-01-01                     & 2019-01-05                     & 37112280                       & SURERIDE CARSON                & Car Seats                      & Convertible                    & SureRide/Titan 65              & Evenflo                        & A731D                          & ...                            & 0                              & 0                              & 0                              &  0                             &    0                           &    0                           & 0                              & 0                              & 1                              & 72                            \\\\\n",
       "\t 100                            & 2019-01-02                     & 2019-01-05                     & 37121334                       & SURERIDE DLX SUGAR PLUM        & Car Seats                      & Convertible                    & SureRide/Titan 65              & Evenflo                        & A731D                          & ...                            & 0                              & 0                              & 0                              &  0                             &    0                           &    0                           & 0                              & 0                              & 1                              & 72                            \\\\\n",
       "\t 100                            & 2019-01-03                     & 2019-01-05                     & 37121334                       & SURERIDE DLX SUGAR PLUM        & Car Seats                      & Convertible                    & SureRide/Titan 65              & Evenflo                        & A731D                          & ...                            & 0                              & 0                              & 0                              &  3                             &  216                           &  216                           & 0                              & 0                              & 1                              & 72                            \\\\\n",
       "\t 100                            & 2019-01-04                     & 2019-01-05                     & 37121334                       & SURERIDE DLX SUGAR PLUM        & Car Seats                      & Convertible                    & SureRide/Titan 65              & Evenflo                        & A731D                          & ...                            & 0                              & 0                              & 0                              & 15                             & 1080                           & 1080                           & 0                              & 0                              & 1                              & 72                            \\\\\n",
       "\t 100                            & 2019-01-04                     & 2019-01-05                     & 37112280                       & SURERIDE CARSON                & Car Seats                      & Convertible                    & SureRide/Titan 65              & Evenflo                        & A731D                          & ...                            & 0                              & 0                              & 0                              &  0                             &    0                           &    0                           & 0                              & 0                              & 1                              & 72                            \\\\\n",
       "\\end{tabular}\n"
      ],
      "text/markdown": [
       "\n",
       "| Company | Transaction.Date | Week.End.Date | Item | Item.Description | Category_Family | Category_Code | Sub_Category_Family | BRAND | Customer | ... | Short.Close.Amount | Open.Qty | Open.Amount | Invoice.Qty | Invoice.Net.Amount | Invoice.Gross.Amount | POS.Qty | POS.Amount | Transaction.month | unit_price |\n",
       "|---|---|---|---|---|---|---|---|---|---|---|---|---|---|---|---|---|---|---|---|---|\n",
       "| 100                            | 2019-01-01                     | 2019-01-05                     | 37112075                       | SURERIDE SPORT HARPER          | Car Seats                      | Convertible                    | SureRide/Titan 65              | Evenflo                        | A731D                          | ...                            | 0                              | 0                              | 0                              |  0                             |    0                           |    0                           | 0                              | 0                              | 1                              | 72                             |\n",
       "| 100                            | 2019-01-01                     | 2019-01-05                     | 37112280                       | SURERIDE CARSON                | Car Seats                      | Convertible                    | SureRide/Titan 65              | Evenflo                        | A731D                          | ...                            | 0                              | 0                              | 0                              |  0                             |    0                           |    0                           | 0                              | 0                              | 1                              | 72                             |\n",
       "| 100                            | 2019-01-02                     | 2019-01-05                     | 37121334                       | SURERIDE DLX SUGAR PLUM        | Car Seats                      | Convertible                    | SureRide/Titan 65              | Evenflo                        | A731D                          | ...                            | 0                              | 0                              | 0                              |  0                             |    0                           |    0                           | 0                              | 0                              | 1                              | 72                             |\n",
       "| 100                            | 2019-01-03                     | 2019-01-05                     | 37121334                       | SURERIDE DLX SUGAR PLUM        | Car Seats                      | Convertible                    | SureRide/Titan 65              | Evenflo                        | A731D                          | ...                            | 0                              | 0                              | 0                              |  3                             |  216                           |  216                           | 0                              | 0                              | 1                              | 72                             |\n",
       "| 100                            | 2019-01-04                     | 2019-01-05                     | 37121334                       | SURERIDE DLX SUGAR PLUM        | Car Seats                      | Convertible                    | SureRide/Titan 65              | Evenflo                        | A731D                          | ...                            | 0                              | 0                              | 0                              | 15                             | 1080                           | 1080                           | 0                              | 0                              | 1                              | 72                             |\n",
       "| 100                            | 2019-01-04                     | 2019-01-05                     | 37112280                       | SURERIDE CARSON                | Car Seats                      | Convertible                    | SureRide/Titan 65              | Evenflo                        | A731D                          | ...                            | 0                              | 0                              | 0                              |  0                             |    0                           |    0                           | 0                              | 0                              | 1                              | 72                             |\n",
       "\n"
      ],
      "text/plain": [
       "  Company Transaction.Date Week.End.Date Item    \n",
       "1 100     2019-01-01       2019-01-05    37112075\n",
       "2 100     2019-01-01       2019-01-05    37112280\n",
       "3 100     2019-01-02       2019-01-05    37121334\n",
       "4 100     2019-01-03       2019-01-05    37121334\n",
       "5 100     2019-01-04       2019-01-05    37121334\n",
       "6 100     2019-01-04       2019-01-05    37112280\n",
       "  Item.Description               Category_Family               \n",
       "1 SURERIDE SPORT HARPER          Car Seats                     \n",
       "2 SURERIDE CARSON                Car Seats                     \n",
       "3 SURERIDE DLX SUGAR PLUM        Car Seats                     \n",
       "4 SURERIDE DLX SUGAR PLUM        Car Seats                     \n",
       "5 SURERIDE DLX SUGAR PLUM        Car Seats                     \n",
       "6 SURERIDE CARSON                Car Seats                     \n",
       "  Category_Code                  Sub_Category_Family\n",
       "1 Convertible                    SureRide/Titan 65  \n",
       "2 Convertible                    SureRide/Titan 65  \n",
       "3 Convertible                    SureRide/Titan 65  \n",
       "4 Convertible                    SureRide/Titan 65  \n",
       "5 Convertible                    SureRide/Titan 65  \n",
       "6 Convertible                    SureRide/Titan 65  \n",
       "  BRAND                          Customer ... Short.Close.Amount Open.Qty\n",
       "1 Evenflo                        A731D    ... 0                  0       \n",
       "2 Evenflo                        A731D    ... 0                  0       \n",
       "3 Evenflo                        A731D    ... 0                  0       \n",
       "4 Evenflo                        A731D    ... 0                  0       \n",
       "5 Evenflo                        A731D    ... 0                  0       \n",
       "6 Evenflo                        A731D    ... 0                  0       \n",
       "  Open.Amount Invoice.Qty Invoice.Net.Amount Invoice.Gross.Amount POS.Qty\n",
       "1 0            0             0                  0                 0      \n",
       "2 0            0             0                  0                 0      \n",
       "3 0            0             0                  0                 0      \n",
       "4 0            3           216                216                 0      \n",
       "5 0           15          1080               1080                 0      \n",
       "6 0            0             0                  0                 0      \n",
       "  POS.Amount Transaction.month unit_price\n",
       "1 0          1                 72        \n",
       "2 0          1                 72        \n",
       "3 0          1                 72        \n",
       "4 0          1                 72        \n",
       "5 0          1                 72        \n",
       "6 0          1                 72        "
      ]
     },
     "metadata": {},
     "output_type": "display_data"
    }
   ],
   "source": [
    "# Group by the Sub_Category_Family & transaction date, get the sum of order quantity 2019\n",
    "# Editing whitespace out of levels\n",
    "order$Sub_Category_Family = factor(trimws(order$Sub_Category_Family))\n",
    "# subcategory 1: Sonus - 2019\n",
    "order = order %>%\n",
    "    filter(order$Sub_Category_Family == 'SureRide/Titan 65')\n",
    "head(order)"
   ]
  },
  {
   "cell_type": "code",
   "execution_count": 9,
   "metadata": {},
   "outputs": [
    {
     "data": {
      "text/html": [
       "<table>\n",
       "<thead><tr><th scope=col>Company</th><th scope=col>Transaction.Date</th><th scope=col>Week.End.Date..EF.</th><th scope=col>Item</th><th scope=col>Item.Description</th><th scope=col>Category.Family</th><th scope=col>Category</th><th scope=col>Sub.Category</th><th scope=col>Brand</th><th scope=col>Customer.ID</th><th scope=col>...</th><th scope=col>Open.Amount</th><th scope=col>Invoice.Qty</th><th scope=col>Invoice.Gross.Amount..HC.</th><th scope=col>Invoice.Net.Amount..HC.</th><th scope=col>Invoice.Gross.Amount..USD.</th><th scope=col>Invoice.Net.Amount..USD.</th><th scope=col>POS.Qty</th><th scope=col>POS.Amount</th><th scope=col>Transaction.month</th><th scope=col>unit_price</th></tr></thead>\n",
       "<tbody>\n",
       "\t<tr><td>100                 </td><td>2018-02-28          </td><td>2018-03-03          </td><td>37111746            </td><td>SURERIDE DLX BERLIN </td><td>Car Seats           </td><td>Convertible         </td><td>SureRide/Titan 65   </td><td>Evenflo             </td><td>A731D               </td><td>...                 </td><td> $ -                </td><td>0                   </td><td> $ -                </td><td>0.00                </td><td> $ -                </td><td> $ -                </td><td>0                   </td><td> $ -                </td><td>2                   </td><td>287.5333            </td></tr>\n",
       "\t<tr><td>100                 </td><td>2018-03-06          </td><td>2018-03-10          </td><td>37111746            </td><td>SURERIDE DLX BERLIN </td><td>Car Seats           </td><td>Convertible         </td><td>SureRide/Titan 65   </td><td>Evenflo             </td><td>A731D               </td><td>...                 </td><td> $ -                </td><td>0                   </td><td> $ -                </td><td>0.00                </td><td> $ -                </td><td> $ -                </td><td>0                   </td><td> $ -                </td><td>3                   </td><td>287.5333            </td></tr>\n",
       "\t<tr><td>100                 </td><td>2018-03-07          </td><td>2018-03-10          </td><td>37111746            </td><td>SURERIDE DLX BERLIN </td><td>Car Seats           </td><td>Convertible         </td><td>SureRide/Titan 65   </td><td>Evenflo             </td><td>A731D               </td><td>...                 </td><td> $ -                </td><td>2                   </td><td> $ 145              </td><td>144.90              </td><td> $ 145              </td><td> $ 145              </td><td>0                   </td><td> $ -                </td><td>3                   </td><td>287.5333            </td></tr>\n",
       "\t<tr><td>100                 </td><td>2018-03-08          </td><td>2018-03-10          </td><td>37111746            </td><td>SURERIDE DLX BERLIN </td><td>Car Seats           </td><td>Convertible         </td><td>SureRide/Titan 65   </td><td>Evenflo             </td><td>A731D               </td><td>...                 </td><td> $ -                </td><td>1                   </td><td> $ 72               </td><td>72.45               </td><td> $ 72               </td><td> $ 72               </td><td>0                   </td><td> $ -                </td><td>3                   </td><td>287.5333            </td></tr>\n",
       "\t<tr><td>100                 </td><td>2018-03-19          </td><td>2018-03-24          </td><td>37111723            </td><td>SURERIDE DLX WINDSOR</td><td>Car Seats           </td><td>Convertible         </td><td>SureRide/Titan 65   </td><td>Evenflo             </td><td>A731                </td><td>...                 </td><td> $ -                </td><td>0                   </td><td> $ -                </td><td>0.00                </td><td> $ -                </td><td> $ -                </td><td>0                   </td><td> $ -                </td><td>3                   </td><td>276.0000            </td></tr>\n",
       "\t<tr><td>100                 </td><td>2018-03-22          </td><td>2018-03-24          </td><td>37111746            </td><td>SURERIDE DLX BERLIN </td><td>Car Seats           </td><td>Convertible         </td><td>SureRide/Titan 65   </td><td>Evenflo             </td><td>A731D               </td><td>...                 </td><td> $ -                </td><td>1                   </td><td> $ 72               </td><td>72.45               </td><td> $ 72               </td><td> $ 72               </td><td>0                   </td><td> $ -                </td><td>3                   </td><td>287.5333            </td></tr>\n",
       "</tbody>\n",
       "</table>\n"
      ],
      "text/latex": [
       "\\begin{tabular}{r|llllllllllllllllllllllllllllllll}\n",
       " Company & Transaction.Date & Week.End.Date..EF. & Item & Item.Description & Category.Family & Category & Sub.Category & Brand & Customer.ID & ... & Open.Amount & Invoice.Qty & Invoice.Gross.Amount..HC. & Invoice.Net.Amount..HC. & Invoice.Gross.Amount..USD. & Invoice.Net.Amount..USD. & POS.Qty & POS.Amount & Transaction.month & unit\\_price\\\\\n",
       "\\hline\n",
       "\t 100                  & 2018-02-28           & 2018-03-03           & 37111746             & SURERIDE DLX BERLIN  & Car Seats            & Convertible          & SureRide/Titan 65    & Evenflo              & A731D                & ...                  &  \\$ -               & 0                    &  \\$ -               & 0.00                 &  \\$ -               &  \\$ -               & 0                    &  \\$ -               & 2                    & 287.5333            \\\\\n",
       "\t 100                  & 2018-03-06           & 2018-03-10           & 37111746             & SURERIDE DLX BERLIN  & Car Seats            & Convertible          & SureRide/Titan 65    & Evenflo              & A731D                & ...                  &  \\$ -               & 0                    &  \\$ -               & 0.00                 &  \\$ -               &  \\$ -               & 0                    &  \\$ -               & 3                    & 287.5333            \\\\\n",
       "\t 100                  & 2018-03-07           & 2018-03-10           & 37111746             & SURERIDE DLX BERLIN  & Car Seats            & Convertible          & SureRide/Titan 65    & Evenflo              & A731D                & ...                  &  \\$ -               & 2                    &  \\$ 145             & 144.90               &  \\$ 145             &  \\$ 145             & 0                    &  \\$ -               & 3                    & 287.5333            \\\\\n",
       "\t 100                  & 2018-03-08           & 2018-03-10           & 37111746             & SURERIDE DLX BERLIN  & Car Seats            & Convertible          & SureRide/Titan 65    & Evenflo              & A731D                & ...                  &  \\$ -               & 1                    &  \\$ 72              & 72.45                &  \\$ 72              &  \\$ 72              & 0                    &  \\$ -               & 3                    & 287.5333            \\\\\n",
       "\t 100                  & 2018-03-19           & 2018-03-24           & 37111723             & SURERIDE DLX WINDSOR & Car Seats            & Convertible          & SureRide/Titan 65    & Evenflo              & A731                 & ...                  &  \\$ -               & 0                    &  \\$ -               & 0.00                 &  \\$ -               &  \\$ -               & 0                    &  \\$ -               & 3                    & 276.0000            \\\\\n",
       "\t 100                  & 2018-03-22           & 2018-03-24           & 37111746             & SURERIDE DLX BERLIN  & Car Seats            & Convertible          & SureRide/Titan 65    & Evenflo              & A731D                & ...                  &  \\$ -               & 1                    &  \\$ 72              & 72.45                &  \\$ 72              &  \\$ 72              & 0                    &  \\$ -               & 3                    & 287.5333            \\\\\n",
       "\\end{tabular}\n"
      ],
      "text/markdown": [
       "\n",
       "| Company | Transaction.Date | Week.End.Date..EF. | Item | Item.Description | Category.Family | Category | Sub.Category | Brand | Customer.ID | ... | Open.Amount | Invoice.Qty | Invoice.Gross.Amount..HC. | Invoice.Net.Amount..HC. | Invoice.Gross.Amount..USD. | Invoice.Net.Amount..USD. | POS.Qty | POS.Amount | Transaction.month | unit_price |\n",
       "|---|---|---|---|---|---|---|---|---|---|---|---|---|---|---|---|---|---|---|---|---|\n",
       "| 100                  | 2018-02-28           | 2018-03-03           | 37111746             | SURERIDE DLX BERLIN  | Car Seats            | Convertible          | SureRide/Titan 65    | Evenflo              | A731D                | ...                  |  $ -                 | 0                    |  $ -                 | 0.00                 |  $ -                 |  $ -                 | 0                    |  $ -                 | 2                    | 287.5333             |\n",
       "| 100                  | 2018-03-06           | 2018-03-10           | 37111746             | SURERIDE DLX BERLIN  | Car Seats            | Convertible          | SureRide/Titan 65    | Evenflo              | A731D                | ...                  |  $ -                 | 0                    |  $ -                 | 0.00                 |  $ -                 |  $ -                 | 0                    |  $ -                 | 3                    | 287.5333             |\n",
       "| 100                  | 2018-03-07           | 2018-03-10           | 37111746             | SURERIDE DLX BERLIN  | Car Seats            | Convertible          | SureRide/Titan 65    | Evenflo              | A731D                | ...                  |  $ -                 | 2                    |  $ 145               | 144.90               |  $ 145               |  $ 145               | 0                    |  $ -                 | 3                    | 287.5333             |\n",
       "| 100                  | 2018-03-08           | 2018-03-10           | 37111746             | SURERIDE DLX BERLIN  | Car Seats            | Convertible          | SureRide/Titan 65    | Evenflo              | A731D                | ...                  |  $ -                 | 1                    |  $ 72                | 72.45                |  $ 72                |  $ 72                | 0                    |  $ -                 | 3                    | 287.5333             |\n",
       "| 100                  | 2018-03-19           | 2018-03-24           | 37111723             | SURERIDE DLX WINDSOR | Car Seats            | Convertible          | SureRide/Titan 65    | Evenflo              | A731                 | ...                  |  $ -                 | 0                    |  $ -                 | 0.00                 |  $ -                 |  $ -                 | 0                    |  $ -                 | 3                    | 276.0000             |\n",
       "| 100                  | 2018-03-22           | 2018-03-24           | 37111746             | SURERIDE DLX BERLIN  | Car Seats            | Convertible          | SureRide/Titan 65    | Evenflo              | A731D                | ...                  |  $ -                 | 1                    |  $ 72                | 72.45                |  $ 72                |  $ 72                | 0                    |  $ -                 | 3                    | 287.5333             |\n",
       "\n"
      ],
      "text/plain": [
       "  Company Transaction.Date Week.End.Date..EF. Item     Item.Description    \n",
       "1 100     2018-02-28       2018-03-03         37111746 SURERIDE DLX BERLIN \n",
       "2 100     2018-03-06       2018-03-10         37111746 SURERIDE DLX BERLIN \n",
       "3 100     2018-03-07       2018-03-10         37111746 SURERIDE DLX BERLIN \n",
       "4 100     2018-03-08       2018-03-10         37111746 SURERIDE DLX BERLIN \n",
       "5 100     2018-03-19       2018-03-24         37111723 SURERIDE DLX WINDSOR\n",
       "6 100     2018-03-22       2018-03-24         37111746 SURERIDE DLX BERLIN \n",
       "  Category.Family Category    Sub.Category      Brand   Customer.ID ...\n",
       "1 Car Seats       Convertible SureRide/Titan 65 Evenflo A731D       ...\n",
       "2 Car Seats       Convertible SureRide/Titan 65 Evenflo A731D       ...\n",
       "3 Car Seats       Convertible SureRide/Titan 65 Evenflo A731D       ...\n",
       "4 Car Seats       Convertible SureRide/Titan 65 Evenflo A731D       ...\n",
       "5 Car Seats       Convertible SureRide/Titan 65 Evenflo A731        ...\n",
       "6 Car Seats       Convertible SureRide/Titan 65 Evenflo A731D       ...\n",
       "  Open.Amount Invoice.Qty Invoice.Gross.Amount..HC. Invoice.Net.Amount..HC.\n",
       "1  $ -        0            $ -                      0.00                   \n",
       "2  $ -        0            $ -                      0.00                   \n",
       "3  $ -        2            $ 145                    144.90                 \n",
       "4  $ -        1            $ 72                     72.45                  \n",
       "5  $ -        0            $ -                      0.00                   \n",
       "6  $ -        1            $ 72                     72.45                  \n",
       "  Invoice.Gross.Amount..USD. Invoice.Net.Amount..USD. POS.Qty POS.Amount\n",
       "1  $ -                        $ -                     0        $ -      \n",
       "2  $ -                        $ -                     0        $ -      \n",
       "3  $ 145                      $ 145                   0        $ -      \n",
       "4  $ 72                       $ 72                    0        $ -      \n",
       "5  $ -                        $ -                     0        $ -      \n",
       "6  $ 72                       $ 72                    0        $ -      \n",
       "  Transaction.month unit_price\n",
       "1 2                 287.5333  \n",
       "2 3                 287.5333  \n",
       "3 3                 287.5333  \n",
       "4 3                 287.5333  \n",
       "5 3                 276.0000  \n",
       "6 3                 287.5333  "
      ]
     },
     "metadata": {},
     "output_type": "display_data"
    }
   ],
   "source": [
    "# subcategory 1: Sonus - 2018\n",
    "order2$Sub.Category= factor(trimws(order2$Sub.Category))\n",
    "order2 = order2 %>%\n",
    "    filter(order2$Sub.Category == 'SureRide/Titan 65')\n",
    "head(order2)"
   ]
  },
  {
   "cell_type": "code",
   "execution_count": 10,
   "metadata": {},
   "outputs": [
    {
     "name": "stderr",
     "output_type": "stream",
     "text": [
      "`summarise()` ungrouping output (override with `.groups` argument)\n",
      "\n"
     ]
    },
    {
     "data": {
      "text/html": [
       "<table>\n",
       "<thead><tr><th scope=col>Transaction.Date</th><th scope=col>order_qty</th><th scope=col>transaction_month</th><th scope=col>transaction_year</th></tr></thead>\n",
       "<tbody>\n",
       "\t<tr><td>2019-01-01</td><td> 4        </td><td>Jan       </td><td>2019      </td></tr>\n",
       "\t<tr><td>2019-01-02</td><td> 9        </td><td>Jan       </td><td>2019      </td></tr>\n",
       "\t<tr><td>2019-01-03</td><td> 6        </td><td>Jan       </td><td>2019      </td></tr>\n",
       "\t<tr><td>2019-01-04</td><td> 6        </td><td>Jan       </td><td>2019      </td></tr>\n",
       "\t<tr><td>2019-01-05</td><td>13        </td><td>Jan       </td><td>2019      </td></tr>\n",
       "\t<tr><td>2019-01-06</td><td>10        </td><td>Jan       </td><td>2019      </td></tr>\n",
       "</tbody>\n",
       "</table>\n"
      ],
      "text/latex": [
       "\\begin{tabular}{r|llll}\n",
       " Transaction.Date & order\\_qty & transaction\\_month & transaction\\_year\\\\\n",
       "\\hline\n",
       "\t 2019-01-01 &  4         & Jan        & 2019      \\\\\n",
       "\t 2019-01-02 &  9         & Jan        & 2019      \\\\\n",
       "\t 2019-01-03 &  6         & Jan        & 2019      \\\\\n",
       "\t 2019-01-04 &  6         & Jan        & 2019      \\\\\n",
       "\t 2019-01-05 & 13         & Jan        & 2019      \\\\\n",
       "\t 2019-01-06 & 10         & Jan        & 2019      \\\\\n",
       "\\end{tabular}\n"
      ],
      "text/markdown": [
       "\n",
       "| Transaction.Date | order_qty | transaction_month | transaction_year |\n",
       "|---|---|---|---|\n",
       "| 2019-01-01 |  4         | Jan        | 2019       |\n",
       "| 2019-01-02 |  9         | Jan        | 2019       |\n",
       "| 2019-01-03 |  6         | Jan        | 2019       |\n",
       "| 2019-01-04 |  6         | Jan        | 2019       |\n",
       "| 2019-01-05 | 13         | Jan        | 2019       |\n",
       "| 2019-01-06 | 10         | Jan        | 2019       |\n",
       "\n"
      ],
      "text/plain": [
       "  Transaction.Date order_qty transaction_month transaction_year\n",
       "1 2019-01-01        4        Jan               2019            \n",
       "2 2019-01-02        9        Jan               2019            \n",
       "3 2019-01-03        6        Jan               2019            \n",
       "4 2019-01-04        6        Jan               2019            \n",
       "5 2019-01-05       13        Jan               2019            \n",
       "6 2019-01-06       10        Jan               2019            "
      ]
     },
     "metadata": {},
     "output_type": "display_data"
    }
   ],
   "source": [
    "# Group by the Sub_Category_Family & transaction date, get the sum of order quantity 2019\n",
    "days = order %>%\n",
    "    group_by(Transaction.Date) %>%\n",
    "    summarise(order_qty=sum(Order.Qty)) %>%\n",
    "    mutate(transaction_month = month(Transaction.Date)) %>%\n",
    "    mutate(transaction_year = year(Transaction.Date))\n",
    "# convert numberic month to the abbreviation of month\n",
    "days$transaction_month = month.abb[days$transaction_month]\n",
    "head(days)"
   ]
  },
  {
   "cell_type": "code",
   "execution_count": 11,
   "metadata": {},
   "outputs": [
    {
     "name": "stderr",
     "output_type": "stream",
     "text": [
      "`summarise()` ungrouping output (override with `.groups` argument)\n",
      "\n"
     ]
    },
    {
     "data": {
      "text/html": [
       "<table>\n",
       "<thead><tr><th scope=col>Transaction.Date</th><th scope=col>order_qty</th><th scope=col>transaction_month</th><th scope=col>transaction_year</th></tr></thead>\n",
       "<tbody>\n",
       "\t<tr><td>2018-02-28</td><td>15        </td><td>Feb       </td><td>2018      </td></tr>\n",
       "\t<tr><td>2018-03-06</td><td>15        </td><td>Mar       </td><td>2018      </td></tr>\n",
       "\t<tr><td>2018-03-07</td><td>15        </td><td>Mar       </td><td>2018      </td></tr>\n",
       "\t<tr><td>2018-03-08</td><td>15        </td><td>Mar       </td><td>2018      </td></tr>\n",
       "\t<tr><td>2018-03-19</td><td>15        </td><td>Mar       </td><td>2018      </td></tr>\n",
       "\t<tr><td>2018-03-22</td><td>15        </td><td>Mar       </td><td>2018      </td></tr>\n",
       "</tbody>\n",
       "</table>\n"
      ],
      "text/latex": [
       "\\begin{tabular}{r|llll}\n",
       " Transaction.Date & order\\_qty & transaction\\_month & transaction\\_year\\\\\n",
       "\\hline\n",
       "\t 2018-02-28 & 15         & Feb        & 2018      \\\\\n",
       "\t 2018-03-06 & 15         & Mar        & 2018      \\\\\n",
       "\t 2018-03-07 & 15         & Mar        & 2018      \\\\\n",
       "\t 2018-03-08 & 15         & Mar        & 2018      \\\\\n",
       "\t 2018-03-19 & 15         & Mar        & 2018      \\\\\n",
       "\t 2018-03-22 & 15         & Mar        & 2018      \\\\\n",
       "\\end{tabular}\n"
      ],
      "text/markdown": [
       "\n",
       "| Transaction.Date | order_qty | transaction_month | transaction_year |\n",
       "|---|---|---|---|\n",
       "| 2018-02-28 | 15         | Feb        | 2018       |\n",
       "| 2018-03-06 | 15         | Mar        | 2018       |\n",
       "| 2018-03-07 | 15         | Mar        | 2018       |\n",
       "| 2018-03-08 | 15         | Mar        | 2018       |\n",
       "| 2018-03-19 | 15         | Mar        | 2018       |\n",
       "| 2018-03-22 | 15         | Mar        | 2018       |\n",
       "\n"
      ],
      "text/plain": [
       "  Transaction.Date order_qty transaction_month transaction_year\n",
       "1 2018-02-28       15        Feb               2018            \n",
       "2 2018-03-06       15        Mar               2018            \n",
       "3 2018-03-07       15        Mar               2018            \n",
       "4 2018-03-08       15        Mar               2018            \n",
       "5 2018-03-19       15        Mar               2018            \n",
       "6 2018-03-22       15        Mar               2018            "
      ]
     },
     "metadata": {},
     "output_type": "display_data"
    }
   ],
   "source": [
    "# Group by the Sub_Category_Family & transaction date, get the sum of order quantity 2018\n",
    "days2 = order2 %>%\n",
    "    group_by(Transaction.Date) %>%\n",
    "    summarise(order_qty=sum(Order.Qty)) %>%\n",
    "    mutate(transaction_month = month(Transaction.Date)) %>%\n",
    "    mutate(transaction_year = year(Transaction.Date))\n",
    "# convert numberic month to the abbreviation of month\n",
    "days2$transaction_month = month.abb[days2$transaction_month]\n",
    "head(days2)"
   ]
  },
  {
   "cell_type": "code",
   "execution_count": 12,
   "metadata": {},
   "outputs": [
    {
     "data": {
      "text/html": [
       "<table>\n",
       "<thead><tr><th scope=col>Transaction.Date</th><th scope=col>order_qty</th><th scope=col>transaction_month</th><th scope=col>transaction_year</th></tr></thead>\n",
       "<tbody>\n",
       "\t<tr><td>2018-02-28</td><td>15        </td><td>Feb       </td><td>2018      </td></tr>\n",
       "\t<tr><td>2018-03-06</td><td>15        </td><td>Mar       </td><td>2018      </td></tr>\n",
       "\t<tr><td>2018-03-07</td><td>15        </td><td>Mar       </td><td>2018      </td></tr>\n",
       "\t<tr><td>2018-03-08</td><td>15        </td><td>Mar       </td><td>2018      </td></tr>\n",
       "\t<tr><td>2018-03-19</td><td>15        </td><td>Mar       </td><td>2018      </td></tr>\n",
       "\t<tr><td>2018-03-22</td><td>15        </td><td>Mar       </td><td>2018      </td></tr>\n",
       "</tbody>\n",
       "</table>\n"
      ],
      "text/latex": [
       "\\begin{tabular}{r|llll}\n",
       " Transaction.Date & order\\_qty & transaction\\_month & transaction\\_year\\\\\n",
       "\\hline\n",
       "\t 2018-02-28 & 15         & Feb        & 2018      \\\\\n",
       "\t 2018-03-06 & 15         & Mar        & 2018      \\\\\n",
       "\t 2018-03-07 & 15         & Mar        & 2018      \\\\\n",
       "\t 2018-03-08 & 15         & Mar        & 2018      \\\\\n",
       "\t 2018-03-19 & 15         & Mar        & 2018      \\\\\n",
       "\t 2018-03-22 & 15         & Mar        & 2018      \\\\\n",
       "\\end{tabular}\n"
      ],
      "text/markdown": [
       "\n",
       "| Transaction.Date | order_qty | transaction_month | transaction_year |\n",
       "|---|---|---|---|\n",
       "| 2018-02-28 | 15         | Feb        | 2018       |\n",
       "| 2018-03-06 | 15         | Mar        | 2018       |\n",
       "| 2018-03-07 | 15         | Mar        | 2018       |\n",
       "| 2018-03-08 | 15         | Mar        | 2018       |\n",
       "| 2018-03-19 | 15         | Mar        | 2018       |\n",
       "| 2018-03-22 | 15         | Mar        | 2018       |\n",
       "\n"
      ],
      "text/plain": [
       "  Transaction.Date order_qty transaction_month transaction_year\n",
       "1 2018-02-28       15        Feb               2018            \n",
       "2 2018-03-06       15        Mar               2018            \n",
       "3 2018-03-07       15        Mar               2018            \n",
       "4 2018-03-08       15        Mar               2018            \n",
       "5 2018-03-19       15        Mar               2018            \n",
       "6 2018-03-22       15        Mar               2018            "
      ]
     },
     "metadata": {},
     "output_type": "display_data"
    }
   ],
   "source": [
    "# merge the 2018-2019 days table\n",
    "library(dplyr)\n",
    "merge = rbind(days2,days)\n",
    "head(merge)"
   ]
  },
  {
   "cell_type": "code",
   "execution_count": 13,
   "metadata": {},
   "outputs": [],
   "source": [
    "ts1 = xts(x= merge$order_qty, order.by = as.Date(merge$Transaction.Date, format='%Y/%m/%d'))\n",
    "# dygraph(ts1,main=\"Historical Sales in 2018-2019 - Sonus\",xlab=\"Date\",ylab=\"Daily order quantity\")"
   ]
  },
  {
   "cell_type": "markdown",
   "metadata": {},
   "source": [
    "### Step4: Group by month and generate the ts format"
   ]
  },
  {
   "cell_type": "code",
   "execution_count": 14,
   "metadata": {},
   "outputs": [
    {
     "name": "stderr",
     "output_type": "stream",
     "text": [
      "`summarise()` ungrouping output (override with `.groups` argument)\n",
      "\n"
     ]
    },
    {
     "data": {
      "text/html": [
       "<table>\n",
       "<thead><tr><th scope=col>month</th><th scope=col>order.sum</th></tr></thead>\n",
       "<tbody>\n",
       "\t<tr><td>2018-02-01</td><td>  15      </td></tr>\n",
       "\t<tr><td>2018-03-01</td><td>  90      </td></tr>\n",
       "\t<tr><td>2018-04-01</td><td>  30      </td></tr>\n",
       "\t<tr><td>2018-05-01</td><td>  30      </td></tr>\n",
       "\t<tr><td>2018-06-01</td><td> 120      </td></tr>\n",
       "\t<tr><td>2018-07-01</td><td> 105      </td></tr>\n",
       "\t<tr><td>2018-08-01</td><td>  15      </td></tr>\n",
       "\t<tr><td>2018-10-01</td><td>  90      </td></tr>\n",
       "\t<tr><td>2018-11-01</td><td>  45      </td></tr>\n",
       "\t<tr><td>2018-12-01</td><td> 150      </td></tr>\n",
       "\t<tr><td>2019-01-01</td><td>1632      </td></tr>\n",
       "\t<tr><td>2019-02-01</td><td>1492      </td></tr>\n",
       "\t<tr><td>2019-03-01</td><td> 875      </td></tr>\n",
       "\t<tr><td>2019-04-01</td><td> 973      </td></tr>\n",
       "\t<tr><td>2019-05-01</td><td> 887      </td></tr>\n",
       "\t<tr><td>2019-06-01</td><td>1052      </td></tr>\n",
       "\t<tr><td>2019-07-01</td><td> 897      </td></tr>\n",
       "\t<tr><td>2019-08-01</td><td> 723      </td></tr>\n",
       "\t<tr><td>2019-09-01</td><td> 724      </td></tr>\n",
       "\t<tr><td>2019-10-01</td><td> 410      </td></tr>\n",
       "\t<tr><td>2019-11-01</td><td> 977      </td></tr>\n",
       "\t<tr><td>2019-12-01</td><td>1090      </td></tr>\n",
       "</tbody>\n",
       "</table>\n"
      ],
      "text/latex": [
       "\\begin{tabular}{r|ll}\n",
       " month & order.sum\\\\\n",
       "\\hline\n",
       "\t 2018-02-01 &   15      \\\\\n",
       "\t 2018-03-01 &   90      \\\\\n",
       "\t 2018-04-01 &   30      \\\\\n",
       "\t 2018-05-01 &   30      \\\\\n",
       "\t 2018-06-01 &  120      \\\\\n",
       "\t 2018-07-01 &  105      \\\\\n",
       "\t 2018-08-01 &   15      \\\\\n",
       "\t 2018-10-01 &   90      \\\\\n",
       "\t 2018-11-01 &   45      \\\\\n",
       "\t 2018-12-01 &  150      \\\\\n",
       "\t 2019-01-01 & 1632      \\\\\n",
       "\t 2019-02-01 & 1492      \\\\\n",
       "\t 2019-03-01 &  875      \\\\\n",
       "\t 2019-04-01 &  973      \\\\\n",
       "\t 2019-05-01 &  887      \\\\\n",
       "\t 2019-06-01 & 1052      \\\\\n",
       "\t 2019-07-01 &  897      \\\\\n",
       "\t 2019-08-01 &  723      \\\\\n",
       "\t 2019-09-01 &  724      \\\\\n",
       "\t 2019-10-01 &  410      \\\\\n",
       "\t 2019-11-01 &  977      \\\\\n",
       "\t 2019-12-01 & 1090      \\\\\n",
       "\\end{tabular}\n"
      ],
      "text/markdown": [
       "\n",
       "| month | order.sum |\n",
       "|---|---|\n",
       "| 2018-02-01 |   15       |\n",
       "| 2018-03-01 |   90       |\n",
       "| 2018-04-01 |   30       |\n",
       "| 2018-05-01 |   30       |\n",
       "| 2018-06-01 |  120       |\n",
       "| 2018-07-01 |  105       |\n",
       "| 2018-08-01 |   15       |\n",
       "| 2018-10-01 |   90       |\n",
       "| 2018-11-01 |   45       |\n",
       "| 2018-12-01 |  150       |\n",
       "| 2019-01-01 | 1632       |\n",
       "| 2019-02-01 | 1492       |\n",
       "| 2019-03-01 |  875       |\n",
       "| 2019-04-01 |  973       |\n",
       "| 2019-05-01 |  887       |\n",
       "| 2019-06-01 | 1052       |\n",
       "| 2019-07-01 |  897       |\n",
       "| 2019-08-01 |  723       |\n",
       "| 2019-09-01 |  724       |\n",
       "| 2019-10-01 |  410       |\n",
       "| 2019-11-01 |  977       |\n",
       "| 2019-12-01 | 1090       |\n",
       "\n"
      ],
      "text/plain": [
       "   month      order.sum\n",
       "1  2018-02-01   15     \n",
       "2  2018-03-01   90     \n",
       "3  2018-04-01   30     \n",
       "4  2018-05-01   30     \n",
       "5  2018-06-01  120     \n",
       "6  2018-07-01  105     \n",
       "7  2018-08-01   15     \n",
       "8  2018-10-01   90     \n",
       "9  2018-11-01   45     \n",
       "10 2018-12-01  150     \n",
       "11 2019-01-01 1632     \n",
       "12 2019-02-01 1492     \n",
       "13 2019-03-01  875     \n",
       "14 2019-04-01  973     \n",
       "15 2019-05-01  887     \n",
       "16 2019-06-01 1052     \n",
       "17 2019-07-01  897     \n",
       "18 2019-08-01  723     \n",
       "19 2019-09-01  724     \n",
       "20 2019-10-01  410     \n",
       "21 2019-11-01  977     \n",
       "22 2019-12-01 1090     "
      ]
     },
     "metadata": {},
     "output_type": "display_data"
    },
    {
     "name": "stdout",
     "output_type": "stream",
     "text": [
      "      Jan  Feb  Mar  Apr  May  Jun  Jul  Aug  Sep  Oct  Nov  Dec\n",
      "2018   15   90   30   30  120  105   15   90   45  150 1632 1492\n",
      "2019  875  973  887 1052  897  723  724  410  977 1090   15   90\n"
     ]
    }
   ],
   "source": [
    "# group by month\n",
    "months = merge%>%\n",
    "    group_by(month=floor_date(Transaction.Date, \"month\")) %>%\n",
    "   summarize(order.sum=sum(order_qty))\n",
    "months\n",
    "# transform to ts\n",
    "sales_ts = ts(months$order.sum, freq = 12, start = c(2018, 1), end = c(2019, 12))\n",
    "print(sales_ts)"
   ]
  },
  {
   "cell_type": "markdown",
   "metadata": {},
   "source": [
    "### Step 5: split data into train and test"
   ]
  },
  {
   "cell_type": "code",
   "execution_count": 15,
   "metadata": {},
   "outputs": [
    {
     "data": {
      "text/html": [
       "24"
      ],
      "text/latex": [
       "24"
      ],
      "text/markdown": [
       "24"
      ],
      "text/plain": [
       "[1] 24"
      ]
     },
     "metadata": {},
     "output_type": "display_data"
    },
    {
     "data": {
      "text/html": [
       "15"
      ],
      "text/latex": [
       "15"
      ],
      "text/markdown": [
       "15"
      ],
      "text/plain": [
       "[1] 15"
      ]
     },
     "metadata": {},
     "output_type": "display_data"
    },
    {
     "data": {
      "text/html": [
       "9"
      ],
      "text/latex": [
       "9"
      ],
      "text/markdown": [
       "9"
      ],
      "text/plain": [
       "[1] 9"
      ]
     },
     "metadata": {},
     "output_type": "display_data"
    }
   ],
   "source": [
    "train=window(sales_ts,end=c(2019,3))\n",
    "test=window(sales_ts,start=c(2019,4))\n",
    "length(sales_ts) #24\n",
    "length(train) #15\n",
    "length(test) #9"
   ]
  },
  {
   "cell_type": "markdown",
   "metadata": {},
   "source": [
    "### Step6: Exponential Smoothing Model Construction on test"
   ]
  },
  {
   "cell_type": "code",
   "execution_count": 16,
   "metadata": {},
   "outputs": [
    {
     "data": {
      "text/plain": [
       "         Point Forecast     Lo 80    Hi 80     Lo 95    Hi 95\n",
       "Apr 2019       494.9465 -243.1105 1233.004 -633.8143 1623.707\n",
       "May 2019       494.9465 -246.7916 1236.685 -639.4441 1629.337\n",
       "Jun 2019       494.9465 -250.4546 1240.348 -645.0461 1634.939\n",
       "Jul 2019       494.9465 -254.0996 1243.993 -650.6206 1640.514\n",
       "Aug 2019       494.9465 -257.7269 1247.620 -656.1682 1646.061\n",
       "Sep 2019       494.9465 -261.3369 1251.230 -661.6892 1651.582\n",
       "Oct 2019       494.9465 -264.9297 1254.823 -667.1839 1657.077\n",
       "Nov 2019       494.9465 -268.5056 1258.399 -672.6528 1662.546\n",
       "Dec 2019       494.9465 -272.0649 1261.958 -678.0962 1667.989"
      ]
     },
     "metadata": {},
     "output_type": "display_data"
    }
   ],
   "source": [
    "# Simple Exponential Smoothing Model on test\n",
    "library(forecast)\n",
    "ses_model = ses(train,h=9,alpha=0.1, initial=\"simple\")\n",
    "ses_model"
   ]
  },
  {
   "cell_type": "code",
   "execution_count": 17,
   "metadata": {},
   "outputs": [
    {
     "data": {
      "text/plain": [
       "         Point Forecast      Lo 80    Hi 80      Lo 95    Hi 95\n",
       "Apr 2019       902.0920  243.67632 1560.508  -104.8679 1909.052\n",
       "May 2019       908.8133   19.23103 1798.396  -451.6854 2269.312\n",
       "Jun 2019       915.4001 -156.64462 1987.445  -724.1508 2554.951\n",
       "Jul 2019       921.8552 -305.85799 2149.568  -955.7701 2799.480\n",
       "Aug 2019       928.1812 -437.59858 2293.961 -1160.5987 3016.961\n",
       "Sep 2019       934.3806 -556.76068 2425.522 -1346.1232 3214.884\n",
       "Oct 2019       940.4561 -666.31783 2547.230 -1516.8926 3397.805\n",
       "Nov 2019       946.4100 -768.23656 2661.057 -1675.9156 3568.736\n",
       "Dec 2019       952.2449 -863.89733 2768.387 -1825.3050 3729.795"
      ]
     },
     "metadata": {},
     "output_type": "display_data"
    }
   ],
   "source": [
    "# Holt's methods with damping on test\n",
    "holt_damp_model = holt(train, h = 9, damped = T)\n",
    "holt_damp_model"
   ]
  },
  {
   "cell_type": "code",
   "execution_count": 18,
   "metadata": {},
   "outputs": [
    {
     "name": "stderr",
     "output_type": "stream",
     "text": [
      "Warning message in ets(x, \"AAA\", alpha = alpha, beta = beta, gamma = gamma, phi = phi, :\n",
      "“Not enough data to use damping”\n",
      "Warning message in ets(x, \"AAA\", alpha = alpha, beta = beta, gamma = gamma, phi = phi, :\n",
      "“Seasonal component could not be estimated”\n"
     ]
    },
    {
     "data": {
      "text/plain": [
       "         Point Forecast     Lo 80    Hi 80    Lo 95    Hi 95\n",
       "Apr 2019       1108.746  574.0806 1643.411 291.0459 1926.446\n",
       "May 2019       1183.746  647.1100 1720.382 363.0322 2004.459\n",
       "Jun 2019       1258.746  720.1467 1797.345 435.0295 2082.462\n",
       "Jul 2019       1333.746  793.1905 1874.301 507.0377 2160.454\n",
       "Aug 2019       1408.746  866.2413 1951.250 579.0567 2238.435\n",
       "Sep 2019       1483.746  939.2991 2028.193 651.0864 2316.405\n",
       "Oct 2019       1558.746 1012.3638 2105.128 723.1267 2394.365\n",
       "Nov 2019       1633.746 1085.4354 2182.056 795.1774 2472.314\n",
       "Dec 2019       1708.746 1158.5137 2258.978 867.2384 2550.253"
      ]
     },
     "metadata": {},
     "output_type": "display_data"
    }
   ],
   "source": [
    "# Try to capture the seasonality, but not sufficient observations\n",
    "# Holt - winter seasonal method\n",
    "hw_additive = hw(train, h = 9, seasonal = 'additive', damped = T)\n",
    "hw_additive"
   ]
  },
  {
   "cell_type": "code",
   "execution_count": 19,
   "metadata": {},
   "outputs": [
    {
     "name": "stderr",
     "output_type": "stream",
     "text": [
      "Warning message in ets(x, \"MAM\", alpha = alpha, beta = beta, gamma = gamma, phi = phi, :\n",
      "“Not enough data to use damping”\n",
      "Warning message in ets(x, \"MAM\", alpha = alpha, beta = beta, gamma = gamma, phi = phi, :\n",
      "“Seasonal component could not be estimated”\n"
     ]
    },
    {
     "data": {
      "text/plain": [
       "         Point Forecast     Lo 80    Hi 80    Lo 95    Hi 95\n",
       "Apr 2019       1108.746  574.0806 1643.411 291.0459 1926.446\n",
       "May 2019       1183.746  647.1100 1720.382 363.0322 2004.459\n",
       "Jun 2019       1258.746  720.1467 1797.345 435.0295 2082.462\n",
       "Jul 2019       1333.746  793.1905 1874.301 507.0377 2160.454\n",
       "Aug 2019       1408.746  866.2413 1951.250 579.0567 2238.435\n",
       "Sep 2019       1483.746  939.2991 2028.193 651.0864 2316.405\n",
       "Oct 2019       1558.746 1012.3638 2105.128 723.1267 2394.365\n",
       "Nov 2019       1633.746 1085.4354 2182.056 795.1774 2472.314\n",
       "Dec 2019       1708.746 1158.5137 2258.978 867.2384 2550.253"
      ]
     },
     "metadata": {},
     "output_type": "display_data"
    }
   ],
   "source": [
    "# Holt - winter Multiplicative\n",
    "hw_multiplicative =  hw(train, h=9, seasonal = 'multiplicative', damped = T)\n",
    "hw_multiplicative"
   ]
  },
  {
   "cell_type": "markdown",
   "metadata": {},
   "source": [
    "### Step7: Model Forecast Visualization"
   ]
  },
  {
   "cell_type": "code",
   "execution_count": 20,
   "metadata": {},
   "outputs": [
    {
     "data": {
      "image/png": "[encoded data removed]",
      "text/plain": [
       "plot without title"
      ]
     },
     "metadata": {
      "image/png": {
       "height": 420,
       "width": 420
      },
      "text/plain": {
       "height": 420,
       "width": 420
      }
     },
     "output_type": "display_data"
    }
   ],
   "source": [
    "# Visualize forecasts (train & test)\n",
    "autoplot(train)+\n",
    "    autolayer(ses_model,series  = 'Simple Exponential Smoothing',PI = F, size = 1.1) +\n",
    "    autolayer(holt_damp_model, series = 'Holt Damped Model', PI = F, size = 1.1)+\n",
    "    autolayer(hw_additive, series = 'Holt Winter Additive Model', PI =F, size = 1.1)+\n",
    "    autolayer(hw_multiplicative, series = 'Holt Winter Multiplicative Model', PI = F, size=1.1)+\n",
    "labs(title=\"Exponential Smoothing Visualization - SureRide/Titan 65\")+\n",
    "    autolayer(test)+theme_bw()"
   ]
  },
  {
   "cell_type": "markdown",
   "metadata": {},
   "source": [
    "### Step8: Obtain the forecast Value"
   ]
  },
  {
   "cell_type": "code",
   "execution_count": 21,
   "metadata": {},
   "outputs": [],
   "source": [
    "# obtain predicted value\n",
    "ses_forecast = forecast(ses_model,h=9)\n",
    "holt_forecast = forecast(holt_damp_model, h = 9)\n",
    "hw_additive_forecast = forecast(hw_additive,h=9)\n",
    "hw_multiplicative_forecast = forecast(hw_multiplicative,h=9)"
   ]
  },
  {
   "cell_type": "code",
   "execution_count": 22,
   "metadata": {},
   "outputs": [
    {
     "data": {
      "text/plain": [
       "         Point Forecast     Lo 80    Hi 80     Lo 95    Hi 95\n",
       "Apr 2019       494.9465 -243.1105 1233.004 -633.8143 1623.707\n",
       "May 2019       494.9465 -246.7916 1236.685 -639.4441 1629.337\n",
       "Jun 2019       494.9465 -250.4546 1240.348 -645.0461 1634.939\n",
       "Jul 2019       494.9465 -254.0996 1243.993 -650.6206 1640.514\n",
       "Aug 2019       494.9465 -257.7269 1247.620 -656.1682 1646.061\n",
       "Sep 2019       494.9465 -261.3369 1251.230 -661.6892 1651.582\n",
       "Oct 2019       494.9465 -264.9297 1254.823 -667.1839 1657.077\n",
       "Nov 2019       494.9465 -268.5056 1258.399 -672.6528 1662.546\n",
       "Dec 2019       494.9465 -272.0649 1261.958 -678.0962 1667.989"
      ]
     },
     "metadata": {},
     "output_type": "display_data"
    }
   ],
   "source": [
    "ses_forecast"
   ]
  },
  {
   "cell_type": "code",
   "execution_count": 23,
   "metadata": {},
   "outputs": [
    {
     "data": {
      "text/plain": [
       "         Point Forecast      Lo 80    Hi 80      Lo 95    Hi 95\n",
       "Apr 2019       902.0920  243.67632 1560.508  -104.8679 1909.052\n",
       "May 2019       908.8133   19.23103 1798.396  -451.6854 2269.312\n",
       "Jun 2019       915.4001 -156.64462 1987.445  -724.1508 2554.951\n",
       "Jul 2019       921.8552 -305.85799 2149.568  -955.7701 2799.480\n",
       "Aug 2019       928.1812 -437.59858 2293.961 -1160.5987 3016.961\n",
       "Sep 2019       934.3806 -556.76068 2425.522 -1346.1232 3214.884\n",
       "Oct 2019       940.4561 -666.31783 2547.230 -1516.8926 3397.805\n",
       "Nov 2019       946.4100 -768.23656 2661.057 -1675.9156 3568.736\n",
       "Dec 2019       952.2449 -863.89733 2768.387 -1825.3050 3729.795"
      ]
     },
     "metadata": {},
     "output_type": "display_data"
    }
   ],
   "source": [
    "holt_forecast"
   ]
  },
  {
   "cell_type": "code",
   "execution_count": 24,
   "metadata": {},
   "outputs": [
    {
     "data": {
      "text/plain": [
       "         Point Forecast     Lo 80    Hi 80    Lo 95    Hi 95\n",
       "Apr 2019       1108.746  574.0806 1643.411 291.0459 1926.446\n",
       "May 2019       1183.746  647.1100 1720.382 363.0322 2004.459\n",
       "Jun 2019       1258.746  720.1467 1797.345 435.0295 2082.462\n",
       "Jul 2019       1333.746  793.1905 1874.301 507.0377 2160.454\n",
       "Aug 2019       1408.746  866.2413 1951.250 579.0567 2238.435\n",
       "Sep 2019       1483.746  939.2991 2028.193 651.0864 2316.405\n",
       "Oct 2019       1558.746 1012.3638 2105.128 723.1267 2394.365\n",
       "Nov 2019       1633.746 1085.4354 2182.056 795.1774 2472.314\n",
       "Dec 2019       1708.746 1158.5137 2258.978 867.2384 2550.253"
      ]
     },
     "metadata": {},
     "output_type": "display_data"
    }
   ],
   "source": [
    "hw_additive_forecast"
   ]
  },
  {
   "cell_type": "code",
   "execution_count": 25,
   "metadata": {},
   "outputs": [
    {
     "data": {
      "text/plain": [
       "         Point Forecast     Lo 80    Hi 80    Lo 95    Hi 95\n",
       "Apr 2019       1108.746  574.0806 1643.411 291.0459 1926.446\n",
       "May 2019       1183.746  647.1100 1720.382 363.0322 2004.459\n",
       "Jun 2019       1258.746  720.1467 1797.345 435.0295 2082.462\n",
       "Jul 2019       1333.746  793.1905 1874.301 507.0377 2160.454\n",
       "Aug 2019       1408.746  866.2413 1951.250 579.0567 2238.435\n",
       "Sep 2019       1483.746  939.2991 2028.193 651.0864 2316.405\n",
       "Oct 2019       1558.746 1012.3638 2105.128 723.1267 2394.365\n",
       "Nov 2019       1633.746 1085.4354 2182.056 795.1774 2472.314\n",
       "Dec 2019       1708.746 1158.5137 2258.978 867.2384 2550.253"
      ]
     },
     "metadata": {},
     "output_type": "display_data"
    }
   ],
   "source": [
    "hw_multiplicative_forecast"
   ]
  },
  {
   "cell_type": "markdown",
   "metadata": {},
   "source": [
    "### Step 9: Exponential Smoothing Model on the whole dataset"
   ]
  },
  {
   "cell_type": "code",
   "execution_count": 26,
   "metadata": {},
   "outputs": [
    {
     "data": {
      "text/plain": [
       "         Point Forecast     Lo 80    Hi 80     Lo 95    Hi 95\n",
       "Jan 2020       557.8789 -111.5193 1227.277 -465.8772 1581.635\n",
       "Feb 2020       557.8789 -114.8579 1230.616 -470.9833 1586.741\n",
       "Mar 2020       557.8789 -118.1801 1233.938 -476.0641 1591.822\n",
       "Apr 2020       557.8789 -121.4860 1237.244 -481.1201 1596.878\n",
       "May 2020       557.8789 -124.7760 1240.534 -486.1516 1601.909\n",
       "Jun 2020       557.8789 -128.0501 1243.808 -491.1590 1606.917\n",
       "Jul 2020       557.8789 -131.3087 1247.066 -496.1425 1611.900\n",
       "Aug 2020       557.8789 -134.5519 1250.310 -501.1027 1616.860\n",
       "Sep 2020       557.8789 -137.7801 1253.538 -506.0397 1621.797\n",
       "Oct 2020       557.8789 -140.9933 1256.751 -510.9539 1626.712"
      ]
     },
     "metadata": {},
     "output_type": "display_data"
    }
   ],
   "source": [
    "# Simple Exponential Smoothing Model on the whole dataset\n",
    "library(forecast)\n",
    "ses_model_all = ses(sales_ts,alpha=0.1, initial=\"simple\")\n",
    "ses_model_all"
   ]
  },
  {
   "cell_type": "code",
   "execution_count": 27,
   "metadata": {},
   "outputs": [
    {
     "data": {
      "text/plain": [
       "         Point Forecast      Lo 80     Hi 80      Lo 95    Hi 95\n",
       "Jan 2020       155.3952  -448.0247  758.8151  -767.4559 1078.246\n",
       "Feb 2020       157.0672  -582.8523  896.9868  -974.5421 1288.677\n",
       "Mar 2020       158.6328  -696.2892 1013.5548 -1148.8575 1466.123\n",
       "Apr 2020       160.0987  -796.1150 1116.3125 -1302.3040 1622.501\n",
       "May 2020       161.4713  -886.3061 1209.2488 -1440.9660 1763.909\n",
       "Jun 2020       162.7566  -969.2186 1294.7317 -1568.4500 1893.963\n",
       "Jul 2020       163.9600 -1046.3840 1374.3039 -1687.1014 2015.021\n",
       "Aug 2020       165.0867 -1118.8642 1449.0377 -1798.5468 2128.720\n",
       "Sep 2020       166.1418 -1187.4306 1519.7142 -1903.9685 2236.252\n",
       "Oct 2020       167.1297 -1252.6643 1586.9236 -2004.2578 2338.517"
      ]
     },
     "metadata": {},
     "output_type": "display_data"
    }
   ],
   "source": [
    "# Holt's methods with damping on the whole dataset\n",
    "holt_damp_model_all = holt(sales_ts,damped = T)\n",
    "holt_damp_model_all"
   ]
  },
  {
   "cell_type": "code",
   "execution_count": 28,
   "metadata": {},
   "outputs": [
    {
     "data": {
      "text/plain": [
       "         Point Forecast     Lo 80     Hi 80     Lo 95     Hi 95\n",
       "Jan 2020      -996.7738 -2292.968  299.4206 -2979.132  985.5844\n",
       "Feb 2020      -867.4641 -2489.573  754.6452 -3348.266 1613.3379\n",
       "Mar 2020      -962.3710 -2855.236  930.4941 -3857.258 1932.5164\n",
       "Apr 2020      -996.5563 -3126.144 1133.0318 -4253.480 2260.3676\n",
       "May 2020      -942.7007 -3285.305 1399.9035 -4525.405 2640.0033\n",
       "Jun 2020      -992.3833 -3530.262 1545.4956 -4873.734 2888.9675\n",
       "Jul 2020     -1116.8448 -3836.073 1602.3830 -5275.545 3041.8552\n",
       "Aug 2020     -1078.3557 -3967.623 1810.9112 -5497.108 3340.3967\n",
       "Sep 2020     -1155.1668 -4205.049 1894.7155 -5819.559 3509.2257\n",
       "Oct 2020     -1081.8698 -4284.357 2120.6174 -5979.651 3815.9116\n",
       "Nov 2020       350.7127 -2997.460 3698.8853 -4769.875 5471.3008\n",
       "Dec 2020       183.4192 -3304.383 3671.2214 -5150.714 5517.5524\n",
       "Jan 2021      -993.2003 -4616.375 2629.9742 -6534.368 4547.9670\n",
       "Feb 2021      -864.3491 -4616.971 2888.2733 -6603.490 4874.7916\n",
       "Mar 2021      -959.6557 -4837.422 2918.1101 -6890.187 4970.8754\n",
       "Apr 2021      -994.1895 -4993.197 3004.8178 -7110.143 5121.7644\n",
       "May 2021      -940.6375 -5057.327 3176.0523 -7236.571 5355.2963\n",
       "Jun 2021      -990.5848 -5221.694 3240.5245 -7461.508 5480.3384\n",
       "Jul 2021     -1115.2771 -5457.799 3227.2453 -7756.592 5526.0378\n",
       "Aug 2021     -1076.9891 -5528.143 3374.1649 -7884.442 5730.4636\n",
       "Sep 2021     -1153.9756 -5711.178 3403.2267 -8123.615 5815.6639\n",
       "Oct 2021     -1080.8314 -5741.674 3580.0115 -8208.976 6047.3127\n",
       "Nov 2021       351.6178 -4410.615 5113.8503 -6931.588 7634.8239\n",
       "Dec 2021       184.2081 -4677.303 5045.7194 -7250.832 7619.2480"
      ]
     },
     "metadata": {},
     "output_type": "display_data"
    }
   ],
   "source": [
    "# Try to capture the seasonality, but not sufficient observations\n",
    "# Holt - winter seasonal method\n",
    "hw_additive_all = hw(sales_ts,seasonal = 'additive', damped = T)\n",
    "hw_additive_all"
   ]
  },
  {
   "cell_type": "code",
   "execution_count": 29,
   "metadata": {},
   "outputs": [
    {
     "data": {
      "text/plain": [
       "         Point Forecast       Lo 80      Hi 80       Lo 95      Hi 95\n",
       "Jan 2020      288.56963  -3068.4917  3645.6310  -4845.6127  5422.7519\n",
       "Feb 2020      216.71510  -2304.4341  2737.8643  -3639.0499  4072.4801\n",
       "Mar 2020      111.18066  -1182.2408  1404.6021  -1866.9367  2089.2980\n",
       "Apr 2020      234.61331  -2494.7777  2964.0043  -3939.6300  4408.8567\n",
       "May 2020      180.10084  -1915.1306  2275.3323  -3024.2792  3384.4809\n",
       "Jun 2020      125.54534  -1335.0197  1586.1103  -2108.1961  2359.2868\n",
       "Jul 2020      409.03669  -4349.6534  5167.7268  -6868.7517  7686.8251\n",
       "Aug 2020       41.21145   -438.2445   520.6674   -692.0532   774.4761\n",
       "Sep 2020       64.61062   -687.0833   816.3045  -1085.0060  1214.2273\n",
       "Oct 2020      102.54698  -1090.5259  1295.6199  -1722.1006  1927.1945\n",
       "Nov 2020     1014.92126 -10793.2882 12823.1307 -17044.1767 19074.0192\n",
       "Dec 2020      936.10141  -9955.2737 11827.4765 -15720.8194 17593.0222\n",
       "Jan 2021      297.60957  -3165.1152  3760.3343  -4998.1709  5593.3900\n",
       "Feb 2021      222.53143  -2366.7035  2811.7664  -3737.3617  4182.4245\n",
       "Mar 2021      113.73899  -1209.6847  1437.1627  -1910.2629  2137.7409\n",
       "Apr 2021      239.24489  -2544.5801  3023.0699  -4018.2481  4496.7378\n",
       "May 2021      183.15280  -1948.0406  2314.3462  -3076.2262  3442.5318\n",
       "Jun 2021      127.37241  -1354.7872  1609.5320  -2139.3951  2394.1399\n",
       "Jul 2021      414.15097  -4405.2031  5233.5050  -6956.4150  7784.7170\n",
       "Aug 2021       41.65431   -443.0767   526.3853   -699.6778   782.9864\n",
       "Sep 2021       65.20752   -693.6312   824.0462  -1095.3361  1225.7512\n",
       "Oct 2021      103.36166  -1099.5185  1306.2418  -1736.2847  1943.0081\n",
       "Nov 2021     1021.85654 -10870.3933 12914.1064 -17165.7701 19209.4832\n",
       "Dec 2021      941.60456 -10016.9679 11900.1770 -15818.0858 17701.2949"
      ]
     },
     "metadata": {},
     "output_type": "display_data"
    }
   ],
   "source": [
    "# Holt - winter Multiplicative\n",
    "hw_multiplicative_all =  hw(sales_ts,seasonal = 'multiplicative', damped = T)\n",
    "hw_multiplicative_all"
   ]
  },
  {
   "cell_type": "markdown",
   "metadata": {},
   "source": [
    "### Step10: Model Forecast Visualization on the whole dataset"
   ]
  },
  {
   "cell_type": "code",
   "execution_count": 30,
   "metadata": {},
   "outputs": [
    {
     "data": {
      "image/png": "[encoded data removed]",
      "text/plain": [
       "plot without title"
      ]
     },
     "metadata": {
      "image/png": {
       "height": 420,
       "width": 420
      },
      "text/plain": {
       "height": 420,
       "width": 420
      }
     },
     "output_type": "display_data"
    }
   ],
   "source": [
    "# Visualize forecasts (train & test)\n",
    "autoplot(sales_ts)+\n",
    "    autolayer(ses_model_all,series  = 'Simple Exponential Smoothing',PI = F, size = 1.1) +\n",
    "    autolayer(holt_damp_model_all, series = 'Holt Damped Model', PI = F, size = 1.1)+\n",
    "    autolayer(hw_additive_all, series = 'Holt Winter Additive Model', PI =F, size = 1.1)+\n",
    "    autolayer(hw_multiplicative_all, series = 'Holt Winter Multiplicative Model', PI = F, size=1.1)+\n",
    "labs(title=\"Exponential Smoothing model Visualization - SureRide/Titan 65\")+theme_bw()"
   ]
  },
  {
   "cell_type": "markdown",
   "metadata": {},
   "source": [
    "### Step10: obtain forecast values on the whole dataset"
   ]
  },
  {
   "cell_type": "code",
   "execution_count": 31,
   "metadata": {},
   "outputs": [],
   "source": [
    "# obtain predicted value\n",
    "ses_forecast_all = forecast(ses_model_all)\n",
    "holt_forecast_all = forecast(holt_damp_model_all)\n",
    "hw_additive_forecast_all = forecast(hw_additive_all)\n",
    "hw_multiplicative_forecast_all = forecast(hw_multiplicative_all)"
   ]
  },
  {
   "cell_type": "code",
   "execution_count": 32,
   "metadata": {},
   "outputs": [
    {
     "data": {
      "text/plain": [
       "         Point Forecast     Lo 80    Hi 80     Lo 95    Hi 95\n",
       "Jan 2020       557.8789 -111.5193 1227.277 -465.8772 1581.635\n",
       "Feb 2020       557.8789 -114.8579 1230.616 -470.9833 1586.741\n",
       "Mar 2020       557.8789 -118.1801 1233.938 -476.0641 1591.822\n",
       "Apr 2020       557.8789 -121.4860 1237.244 -481.1201 1596.878\n",
       "May 2020       557.8789 -124.7760 1240.534 -486.1516 1601.909\n",
       "Jun 2020       557.8789 -128.0501 1243.808 -491.1590 1606.917\n",
       "Jul 2020       557.8789 -131.3087 1247.066 -496.1425 1611.900\n",
       "Aug 2020       557.8789 -134.5519 1250.310 -501.1027 1616.860\n",
       "Sep 2020       557.8789 -137.7801 1253.538 -506.0397 1621.797\n",
       "Oct 2020       557.8789 -140.9933 1256.751 -510.9539 1626.712"
      ]
     },
     "metadata": {},
     "output_type": "display_data"
    }
   ],
   "source": [
    "ses_forecast_all"
   ]
  },
  {
   "cell_type": "code",
   "execution_count": 33,
   "metadata": {},
   "outputs": [
    {
     "data": {
      "text/plain": [
       "         Point Forecast      Lo 80     Hi 80      Lo 95    Hi 95\n",
       "Jan 2020       155.3952  -448.0247  758.8151  -767.4559 1078.246\n",
       "Feb 2020       157.0672  -582.8523  896.9868  -974.5421 1288.677\n",
       "Mar 2020       158.6328  -696.2892 1013.5548 -1148.8575 1466.123\n",
       "Apr 2020       160.0987  -796.1150 1116.3125 -1302.3040 1622.501\n",
       "May 2020       161.4713  -886.3061 1209.2488 -1440.9660 1763.909\n",
       "Jun 2020       162.7566  -969.2186 1294.7317 -1568.4500 1893.963\n",
       "Jul 2020       163.9600 -1046.3840 1374.3039 -1687.1014 2015.021\n",
       "Aug 2020       165.0867 -1118.8642 1449.0377 -1798.5468 2128.720\n",
       "Sep 2020       166.1418 -1187.4306 1519.7142 -1903.9685 2236.252\n",
       "Oct 2020       167.1297 -1252.6643 1586.9236 -2004.2578 2338.517"
      ]
     },
     "metadata": {},
     "output_type": "display_data"
    }
   ],
   "source": [
    "holt_forecast_all"
   ]
  },
  {
   "cell_type": "code",
   "execution_count": 34,
   "metadata": {},
   "outputs": [
    {
     "data": {
      "text/plain": [
       "         Point Forecast     Lo 80     Hi 80     Lo 95     Hi 95\n",
       "Jan 2020      -996.7738 -2292.968  299.4206 -2979.132  985.5844\n",
       "Feb 2020      -867.4641 -2489.573  754.6452 -3348.266 1613.3379\n",
       "Mar 2020      -962.3710 -2855.236  930.4941 -3857.258 1932.5164\n",
       "Apr 2020      -996.5563 -3126.144 1133.0318 -4253.480 2260.3676\n",
       "May 2020      -942.7007 -3285.305 1399.9035 -4525.405 2640.0033\n",
       "Jun 2020      -992.3833 -3530.262 1545.4956 -4873.734 2888.9675\n",
       "Jul 2020     -1116.8448 -3836.073 1602.3830 -5275.545 3041.8552\n",
       "Aug 2020     -1078.3557 -3967.623 1810.9112 -5497.108 3340.3967\n",
       "Sep 2020     -1155.1668 -4205.049 1894.7155 -5819.559 3509.2257\n",
       "Oct 2020     -1081.8698 -4284.357 2120.6174 -5979.651 3815.9116\n",
       "Nov 2020       350.7127 -2997.460 3698.8853 -4769.875 5471.3008\n",
       "Dec 2020       183.4192 -3304.383 3671.2214 -5150.714 5517.5524\n",
       "Jan 2021      -993.2003 -4616.375 2629.9742 -6534.368 4547.9670\n",
       "Feb 2021      -864.3491 -4616.971 2888.2733 -6603.490 4874.7916\n",
       "Mar 2021      -959.6557 -4837.422 2918.1101 -6890.187 4970.8754\n",
       "Apr 2021      -994.1895 -4993.197 3004.8178 -7110.143 5121.7644\n",
       "May 2021      -940.6375 -5057.327 3176.0523 -7236.571 5355.2963\n",
       "Jun 2021      -990.5848 -5221.694 3240.5245 -7461.508 5480.3384\n",
       "Jul 2021     -1115.2771 -5457.799 3227.2453 -7756.592 5526.0378\n",
       "Aug 2021     -1076.9891 -5528.143 3374.1649 -7884.442 5730.4636\n",
       "Sep 2021     -1153.9756 -5711.178 3403.2267 -8123.615 5815.6639\n",
       "Oct 2021     -1080.8314 -5741.674 3580.0115 -8208.976 6047.3127\n",
       "Nov 2021       351.6178 -4410.615 5113.8503 -6931.588 7634.8239\n",
       "Dec 2021       184.2081 -4677.303 5045.7194 -7250.832 7619.2480"
      ]
     },
     "metadata": {},
     "output_type": "display_data"
    }
   ],
   "source": [
    "hw_additive_forecast_all"
   ]
  },
  {
   "cell_type": "code",
   "execution_count": 35,
   "metadata": {},
   "outputs": [
    {
     "data": {
      "text/plain": [
       "         Point Forecast       Lo 80      Hi 80       Lo 95      Hi 95\n",
       "Jan 2020      288.56963  -3068.4917  3645.6310  -4845.6127  5422.7519\n",
       "Feb 2020      216.71510  -2304.4341  2737.8643  -3639.0499  4072.4801\n",
       "Mar 2020      111.18066  -1182.2408  1404.6021  -1866.9367  2089.2980\n",
       "Apr 2020      234.61331  -2494.7777  2964.0043  -3939.6300  4408.8567\n",
       "May 2020      180.10084  -1915.1306  2275.3323  -3024.2792  3384.4809\n",
       "Jun 2020      125.54534  -1335.0197  1586.1103  -2108.1961  2359.2868\n",
       "Jul 2020      409.03669  -4349.6534  5167.7268  -6868.7517  7686.8251\n",
       "Aug 2020       41.21145   -438.2445   520.6674   -692.0532   774.4761\n",
       "Sep 2020       64.61062   -687.0833   816.3045  -1085.0060  1214.2273\n",
       "Oct 2020      102.54698  -1090.5259  1295.6199  -1722.1006  1927.1945\n",
       "Nov 2020     1014.92126 -10793.2882 12823.1307 -17044.1767 19074.0192\n",
       "Dec 2020      936.10141  -9955.2737 11827.4765 -15720.8194 17593.0222\n",
       "Jan 2021      297.60957  -3165.1152  3760.3343  -4998.1709  5593.3900\n",
       "Feb 2021      222.53143  -2366.7035  2811.7664  -3737.3617  4182.4245\n",
       "Mar 2021      113.73899  -1209.6847  1437.1627  -1910.2629  2137.7409\n",
       "Apr 2021      239.24489  -2544.5801  3023.0699  -4018.2481  4496.7378\n",
       "May 2021      183.15280  -1948.0406  2314.3462  -3076.2262  3442.5318\n",
       "Jun 2021      127.37241  -1354.7872  1609.5320  -2139.3951  2394.1399\n",
       "Jul 2021      414.15097  -4405.2031  5233.5050  -6956.4150  7784.7170\n",
       "Aug 2021       41.65431   -443.0767   526.3853   -699.6778   782.9864\n",
       "Sep 2021       65.20752   -693.6312   824.0462  -1095.3361  1225.7512\n",
       "Oct 2021      103.36166  -1099.5185  1306.2418  -1736.2847  1943.0081\n",
       "Nov 2021     1021.85654 -10870.3933 12914.1064 -17165.7701 19209.4832\n",
       "Dec 2021      941.60456 -10016.9679 11900.1770 -15818.0858 17701.2949"
      ]
     },
     "metadata": {},
     "output_type": "display_data"
    }
   ],
   "source": [
    "hw_multiplicative_forecast_all"
   ]
  },
  {
   "cell_type": "markdown",
   "metadata": {},
   "source": [
    "### Step 11: obtain the accuracy value for the constructed models"
   ]
  },
  {
   "cell_type": "code",
   "execution_count": 36,
   "metadata": {},
   "outputs": [
    {
     "data": {
      "text/html": [
       "<table>\n",
       "<thead><tr><th></th><th scope=col>ME</th><th scope=col>RMSE</th><th scope=col>MAE</th><th scope=col>MPE</th><th scope=col>MAPE</th><th scope=col>MASE</th><th scope=col>ACF1</th><th scope=col>Theil's U</th></tr></thead>\n",
       "<tbody>\n",
       "\t<tr><th scope=row>Training set</th><td>319.9643 </td><td>575.9090 </td><td>323.3882 </td><td>  39.5017</td><td> 62.3277 </td><td>0.3731403</td><td>0.5646401</td><td>      NA </td></tr>\n",
       "\t<tr><th scope=row>Test set</th><td>169.2757 </td><td>416.9253 </td><td>384.7956 </td><td>-378.3796</td><td>437.2432 </td><td>0.4439949</td><td>0.1854478</td><td>5.096526 </td></tr>\n",
       "</tbody>\n",
       "</table>\n"
      ],
      "text/latex": [
       "\\begin{tabular}{r|llllllll}\n",
       "  & ME & RMSE & MAE & MPE & MAPE & MASE & ACF1 & Theil's U\\\\\n",
       "\\hline\n",
       "\tTraining set & 319.9643  & 575.9090  & 323.3882  &   39.5017 &  62.3277  & 0.3731403 & 0.5646401 &       NA \\\\\n",
       "\tTest set & 169.2757  & 416.9253  & 384.7956  & -378.3796 & 437.2432  & 0.4439949 & 0.1854478 & 5.096526 \\\\\n",
       "\\end{tabular}\n"
      ],
      "text/markdown": [
       "\n",
       "| <!--/--> | ME | RMSE | MAE | MPE | MAPE | MASE | ACF1 | Theil's U |\n",
       "|---|---|---|---|---|---|---|---|---|\n",
       "| Training set | 319.9643  | 575.9090  | 323.3882  |   39.5017 |  62.3277  | 0.3731403 | 0.5646401 |       NA  |\n",
       "| Test set | 169.2757  | 416.9253  | 384.7956  | -378.3796 | 437.2432  | 0.4439949 | 0.1854478 | 5.096526  |\n",
       "\n"
      ],
      "text/plain": [
       "             ME       RMSE     MAE      MPE       MAPE     MASE      ACF1     \n",
       "Training set 319.9643 575.9090 323.3882   39.5017  62.3277 0.3731403 0.5646401\n",
       "Test set     169.2757 416.9253 384.7956 -378.3796 437.2432 0.4439949 0.1854478\n",
       "             Theil's U\n",
       "Training set       NA \n",
       "Test set     5.096526 "
      ]
     },
     "metadata": {},
     "output_type": "display_data"
    }
   ],
   "source": [
    "# ses model\n",
    "ses_accuracy = accuracy(ses_forecast,x=sales_ts) # accuracy on train and test sets\n",
    "ses_accuracy"
   ]
  },
  {
   "cell_type": "code",
   "execution_count": 37,
   "metadata": {},
   "outputs": [
    {
     "data": {
      "text/html": [
       "<table>\n",
       "<thead><tr><th></th><th scope=col>ME</th><th scope=col>RMSE</th><th scope=col>MAE</th><th scope=col>MPE</th><th scope=col>MAPE</th><th scope=col>MASE</th><th scope=col>ACF1</th><th scope=col>Theil's U</th></tr></thead>\n",
       "<tbody>\n",
       "\t<tr><th scope=row>Training set</th><td>  54.61218</td><td>419.4870  </td><td>186.9155  </td><td> -62.10137</td><td>109.8791  </td><td>0.2156717 </td><td>0.01209182</td><td>      NA  </td></tr>\n",
       "\t<tr><th scope=row>Test set</th><td>-263.53705</td><td>471.6942  </td><td>339.5529  </td><td>-812.97339</td><td>820.1582  </td><td>0.3917918 </td><td>0.20503181</td><td>10.83735  </td></tr>\n",
       "</tbody>\n",
       "</table>\n"
      ],
      "text/latex": [
       "\\begin{tabular}{r|llllllll}\n",
       "  & ME & RMSE & MAE & MPE & MAPE & MASE & ACF1 & Theil's U\\\\\n",
       "\\hline\n",
       "\tTraining set &   54.61218 & 419.4870   & 186.9155   &  -62.10137 & 109.8791   & 0.2156717  & 0.01209182 &       NA  \\\\\n",
       "\tTest set & -263.53705 & 471.6942   & 339.5529   & -812.97339 & 820.1582   & 0.3917918  & 0.20503181 & 10.83735  \\\\\n",
       "\\end{tabular}\n"
      ],
      "text/markdown": [
       "\n",
       "| <!--/--> | ME | RMSE | MAE | MPE | MAPE | MASE | ACF1 | Theil's U |\n",
       "|---|---|---|---|---|---|---|---|---|\n",
       "| Training set |   54.61218 | 419.4870   | 186.9155   |  -62.10137 | 109.8791   | 0.2156717  | 0.01209182 |       NA   |\n",
       "| Test set | -263.53705 | 471.6942   | 339.5529   | -812.97339 | 820.1582   | 0.3917918  | 0.20503181 | 10.83735   |\n",
       "\n"
      ],
      "text/plain": [
       "             ME         RMSE     MAE      MPE        MAPE     MASE     \n",
       "Training set   54.61218 419.4870 186.9155  -62.10137 109.8791 0.2156717\n",
       "Test set     -263.53705 471.6942 339.5529 -812.97339 820.1582 0.3917918\n",
       "             ACF1       Theil's U\n",
       "Training set 0.01209182       NA \n",
       "Test set     0.20503181 10.83735 "
      ]
     },
     "metadata": {},
     "output_type": "display_data"
    }
   ],
   "source": [
    "# holt damped model\n",
    "holt_damped_accuracy = accuracy(holt_forecast, x= sales_ts)\n",
    "holt_damped_accuracy"
   ]
  },
  {
   "cell_type": "code",
   "execution_count": 38,
   "metadata": {},
   "outputs": [
    {
     "data": {
      "text/html": [
       "<table>\n",
       "<thead><tr><th></th><th scope=col>ME</th><th scope=col>RMSE</th><th scope=col>MAE</th><th scope=col>MPE</th><th scope=col>MAPE</th><th scope=col>MASE</th><th scope=col>ACF1</th><th scope=col>Theil's U</th></tr></thead>\n",
       "<tbody>\n",
       "\t<tr><th scope=row>Training set</th><td> -82.43019</td><td>417.2015  </td><td>317.7122  </td><td> -472.9807</td><td> 487.960  </td><td>0.3665910 </td><td>0.4351678 </td><td>      NA  </td></tr>\n",
       "\t<tr><th scope=row>Test set</th><td>-744.52359</td><td>910.3687  </td><td>744.5236  </td><td>-1458.2660</td><td>1458.266  </td><td>0.8590657 </td><td>0.3775542 </td><td>20.34745  </td></tr>\n",
       "</tbody>\n",
       "</table>\n"
      ],
      "text/latex": [
       "\\begin{tabular}{r|llllllll}\n",
       "  & ME & RMSE & MAE & MPE & MAPE & MASE & ACF1 & Theil's U\\\\\n",
       "\\hline\n",
       "\tTraining set &  -82.43019 & 417.2015   & 317.7122   &  -472.9807 &  487.960   & 0.3665910  & 0.4351678  &       NA  \\\\\n",
       "\tTest set & -744.52359 & 910.3687   & 744.5236   & -1458.2660 & 1458.266   & 0.8590657  & 0.3775542  & 20.34745  \\\\\n",
       "\\end{tabular}\n"
      ],
      "text/markdown": [
       "\n",
       "| <!--/--> | ME | RMSE | MAE | MPE | MAPE | MASE | ACF1 | Theil's U |\n",
       "|---|---|---|---|---|---|---|---|---|\n",
       "| Training set |  -82.43019 | 417.2015   | 317.7122   |  -472.9807 |  487.960   | 0.3665910  | 0.4351678  |       NA   |\n",
       "| Test set | -744.52359 | 910.3687   | 744.5236   | -1458.2660 | 1458.266   | 0.8590657  | 0.3775542  | 20.34745   |\n",
       "\n"
      ],
      "text/plain": [
       "             ME         RMSE     MAE      MPE        MAPE     MASE     \n",
       "Training set  -82.43019 417.2015 317.7122  -472.9807  487.960 0.3665910\n",
       "Test set     -744.52359 910.3687 744.5236 -1458.2660 1458.266 0.8590657\n",
       "             ACF1      Theil's U\n",
       "Training set 0.4351678       NA \n",
       "Test set     0.3775542 20.34745 "
      ]
     },
     "metadata": {},
     "output_type": "display_data"
    }
   ],
   "source": [
    "# hw_additive\n",
    "hw_additive_accuracy = accuracy(hw_additive_forecast, x = sales_ts)\n",
    "hw_additive_accuracy"
   ]
  },
  {
   "cell_type": "code",
   "execution_count": 39,
   "metadata": {},
   "outputs": [
    {
     "data": {
      "text/html": [
       "<table>\n",
       "<thead><tr><th></th><th scope=col>ME</th><th scope=col>RMSE</th><th scope=col>MAE</th><th scope=col>MPE</th><th scope=col>MAPE</th><th scope=col>MASE</th><th scope=col>ACF1</th><th scope=col>Theil's U</th></tr></thead>\n",
       "<tbody>\n",
       "\t<tr><th scope=row>Training set</th><td> -82.43019</td><td>417.2015  </td><td>317.7122  </td><td> -472.9807</td><td> 487.960  </td><td>0.3665910 </td><td>0.4351678 </td><td>      NA  </td></tr>\n",
       "\t<tr><th scope=row>Test set</th><td>-744.52359</td><td>910.3687  </td><td>744.5236  </td><td>-1458.2660</td><td>1458.266  </td><td>0.8590657 </td><td>0.3775542 </td><td>20.34745  </td></tr>\n",
       "</tbody>\n",
       "</table>\n"
      ],
      "text/latex": [
       "\\begin{tabular}{r|llllllll}\n",
       "  & ME & RMSE & MAE & MPE & MAPE & MASE & ACF1 & Theil's U\\\\\n",
       "\\hline\n",
       "\tTraining set &  -82.43019 & 417.2015   & 317.7122   &  -472.9807 &  487.960   & 0.3665910  & 0.4351678  &       NA  \\\\\n",
       "\tTest set & -744.52359 & 910.3687   & 744.5236   & -1458.2660 & 1458.266   & 0.8590657  & 0.3775542  & 20.34745  \\\\\n",
       "\\end{tabular}\n"
      ],
      "text/markdown": [
       "\n",
       "| <!--/--> | ME | RMSE | MAE | MPE | MAPE | MASE | ACF1 | Theil's U |\n",
       "|---|---|---|---|---|---|---|---|---|\n",
       "| Training set |  -82.43019 | 417.2015   | 317.7122   |  -472.9807 |  487.960   | 0.3665910  | 0.4351678  |       NA   |\n",
       "| Test set | -744.52359 | 910.3687   | 744.5236   | -1458.2660 | 1458.266   | 0.8590657  | 0.3775542  | 20.34745   |\n",
       "\n"
      ],
      "text/plain": [
       "             ME         RMSE     MAE      MPE        MAPE     MASE     \n",
       "Training set  -82.43019 417.2015 317.7122  -472.9807  487.960 0.3665910\n",
       "Test set     -744.52359 910.3687 744.5236 -1458.2660 1458.266 0.8590657\n",
       "             ACF1      Theil's U\n",
       "Training set 0.4351678       NA \n",
       "Test set     0.3775542 20.34745 "
      ]
     },
     "metadata": {},
     "output_type": "display_data"
    }
   ],
   "source": [
    "# hw_multiplicative\n",
    "hw_multiplicative_accuracy = accuracy(hw_multiplicative_forecast, x = sales_ts)\n",
    "hw_multiplicative_accuracy"
   ]
  }
 ],
 "metadata": {
  "kernelspec": {
   "display_name": "R",
   "language": "R",
   "name": "ir"
  },
  "language_info": {
   "codemirror_mode": "r",
   "file_extension": ".r",
   "mimetype": "text/x-r-source",
   "name": "R",
   "pygments_lexer": "r",
   "version": "3.6.1"
  }
 },
 "nbformat": 4,
 "nbformat_minor": 4
}
